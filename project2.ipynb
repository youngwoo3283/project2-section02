{
  "nbformat": 4,
  "nbformat_minor": 0,
  "metadata": {
    "colab": {
      "provenance": [],
      "toc_visible": true,
      "mount_file_id": "https://github.com/youngwoo3283/project2-section02/blob/main/project2.ipynb",
      "authorship_tag": "ABX9TyOUZD2S5r8jb66PvyYKFLt/",
      "include_colab_link": true
    },
    "kernelspec": {
      "name": "python3",
      "display_name": "Python 3"
    },
    "language_info": {
      "name": "python"
    }
  },
  "cells": [
    {
      "cell_type": "markdown",
      "metadata": {
        "id": "view-in-github",
        "colab_type": "text"
      },
      "source": [
        "<a href=\"https://colab.research.google.com/github/youngwoo3283/project2-section02/blob/main/project2.ipynb\" target=\"_parent\"><img src=\"https://colab.research.google.com/assets/colab-badge.svg\" alt=\"Open In Colab\"/></a>"
      ]
    },
    {
      "cell_type": "markdown",
      "source": [
        "# 롤 데이터를 이용한 승부예측\n",
        "\n",
        "- 사용할 데이터셋 : 최상위 티어의 경기 기록\n",
        "\n",
        "- 문제 정의 : 프로팀에서 승률을 올리기 위한 전략의 필요성\n",
        "\n",
        "- 시나리오 : 롤 프로팀에서 승률이 안 좋은 팀을 위해서 데이터를 분석한 전략을 세우려고 한다. 프로게이머팀은 승률이 높아야 인기가 많으며 스폰서 및 광고를 통해서 수익을 올릴 수 있기 때문에 승리가 중요하다.\n",
        "   - 이때 승리/패배의 이진 분류를 사용한다.\n",
        "   - 타겟값 : 게임의 승리/패배\n"
      ],
      "metadata": {
        "id": "ErEqosZ6hPYV"
      }
    },
    {
      "cell_type": "markdown",
      "source": [
        "## 가설 \n",
        "- 4용을 처치하는게 유리하여서 4용이 게임에 승패에 영향을 미칠 것이다.\n",
        "- 첫번째 타워를 부수는 것이 승패에 영향을 미칠 것이다.\n",
        "- 게임이 길어지면 승패에 영향을 미칠까??\n",
        "\n",
        "\n",
        "- 스펠은 어떤 것을 많이 들고 영향이 있을까?\n",
        "- 어떤 챔피언이 픽률이 좋고 어떤 챔피언이 밴을 가장 잘 될까??"
      ],
      "metadata": {
        "id": "s_4f0NW3jLUj"
      }
    },
    {
      "cell_type": "code",
      "execution_count": null,
      "metadata": {
        "id": "9I3133zrjQ_o"
      },
      "outputs": [],
      "source": []
    },
    {
      "cell_type": "code",
      "source": [
        "from google.colab import drive\n",
        "drive.mount('/content/drive')"
      ],
      "metadata": {
        "id": "deyYFL9hrMEr",
        "outputId": "4f0502dc-e713-49ba-f2e4-8f443b8df466",
        "colab": {
          "base_uri": "https://localhost:8080/"
        }
      },
      "execution_count": 1,
      "outputs": [
        {
          "output_type": "stream",
          "name": "stdout",
          "text": [
            "Drive already mounted at /content/drive; to attempt to forcibly remount, call drive.mount(\"/content/drive\", force_remount=True).\n"
          ]
        }
      ]
    },
    {
      "cell_type": "code",
      "source": [
        "import pandas as pd\n",
        "import numpy as np\n",
        "import matplotlib.pyplot as plt\n",
        "import seaborn as sns\n",
        "\n",
        "data_game = pd.read_csv('/content/drive/MyDrive/archive (2)/games.csv')"
      ],
      "metadata": {
        "id": "0GllnZo0kWOR"
      },
      "execution_count": 81,
      "outputs": []
    },
    {
      "cell_type": "markdown",
      "source": [
        "# 데이터 준비하기\n",
        " - 타겟 : winner"
      ],
      "metadata": {
        "id": "boILxN5nwGZe"
      }
    },
    {
      "cell_type": "code",
      "source": [
        "data_game.head()"
      ],
      "metadata": {
        "colab": {
          "base_uri": "https://localhost:8080/",
          "height": 299
        },
        "id": "cUg7kqXkkfiu",
        "outputId": "c2beada8-e31a-4c52-a398-4e1482793053"
      },
      "execution_count": 40,
      "outputs": [
        {
          "output_type": "execute_result",
          "data": {
            "text/plain": [
              "       gameId   creationTime  gameDuration  seasonId  winner  firstBlood  \\\n",
              "0  3326086514  1504279457970          1949         9       1           2   \n",
              "1  3229566029  1497848803862          1851         9       1           1   \n",
              "2  3327363504  1504360103310          1493         9       1           2   \n",
              "3  3326856598  1504348503996          1758         9       1           1   \n",
              "4  3330080762  1504554410899          2094         9       1           2   \n",
              "\n",
              "   firstTower  firstInhibitor  firstBaron  firstDragon  ...  t2_towerKills  \\\n",
              "0           1               1           1            1  ...              5   \n",
              "1           1               1           0            1  ...              2   \n",
              "2           1               1           1            2  ...              2   \n",
              "3           1               1           1            1  ...              0   \n",
              "4           1               1           1            1  ...              3   \n",
              "\n",
              "   t2_inhibitorKills  t2_baronKills  t2_dragonKills  t2_riftHeraldKills  \\\n",
              "0                  0              0               1                   1   \n",
              "1                  0              0               0                   0   \n",
              "2                  0              0               1                   0   \n",
              "3                  0              0               0                   0   \n",
              "4                  0              0               1                   0   \n",
              "\n",
              "   t2_ban1  t2_ban2  t2_ban3  t2_ban4  t2_ban5  \n",
              "0      114       67       43       16       51  \n",
              "1       11       67      238       51      420  \n",
              "2      157      238      121       57       28  \n",
              "3      164       18      141       40       51  \n",
              "4       86       11      201      122       18  \n",
              "\n",
              "[5 rows x 61 columns]"
            ],
            "text/html": [
              "\n",
              "  <div id=\"df-9e34c73f-41ab-43de-8562-200f5ff52ed8\">\n",
              "    <div class=\"colab-df-container\">\n",
              "      <div>\n",
              "<style scoped>\n",
              "    .dataframe tbody tr th:only-of-type {\n",
              "        vertical-align: middle;\n",
              "    }\n",
              "\n",
              "    .dataframe tbody tr th {\n",
              "        vertical-align: top;\n",
              "    }\n",
              "\n",
              "    .dataframe thead th {\n",
              "        text-align: right;\n",
              "    }\n",
              "</style>\n",
              "<table border=\"1\" class=\"dataframe\">\n",
              "  <thead>\n",
              "    <tr style=\"text-align: right;\">\n",
              "      <th></th>\n",
              "      <th>gameId</th>\n",
              "      <th>creationTime</th>\n",
              "      <th>gameDuration</th>\n",
              "      <th>seasonId</th>\n",
              "      <th>winner</th>\n",
              "      <th>firstBlood</th>\n",
              "      <th>firstTower</th>\n",
              "      <th>firstInhibitor</th>\n",
              "      <th>firstBaron</th>\n",
              "      <th>firstDragon</th>\n",
              "      <th>...</th>\n",
              "      <th>t2_towerKills</th>\n",
              "      <th>t2_inhibitorKills</th>\n",
              "      <th>t2_baronKills</th>\n",
              "      <th>t2_dragonKills</th>\n",
              "      <th>t2_riftHeraldKills</th>\n",
              "      <th>t2_ban1</th>\n",
              "      <th>t2_ban2</th>\n",
              "      <th>t2_ban3</th>\n",
              "      <th>t2_ban4</th>\n",
              "      <th>t2_ban5</th>\n",
              "    </tr>\n",
              "  </thead>\n",
              "  <tbody>\n",
              "    <tr>\n",
              "      <th>0</th>\n",
              "      <td>3326086514</td>\n",
              "      <td>1504279457970</td>\n",
              "      <td>1949</td>\n",
              "      <td>9</td>\n",
              "      <td>1</td>\n",
              "      <td>2</td>\n",
              "      <td>1</td>\n",
              "      <td>1</td>\n",
              "      <td>1</td>\n",
              "      <td>1</td>\n",
              "      <td>...</td>\n",
              "      <td>5</td>\n",
              "      <td>0</td>\n",
              "      <td>0</td>\n",
              "      <td>1</td>\n",
              "      <td>1</td>\n",
              "      <td>114</td>\n",
              "      <td>67</td>\n",
              "      <td>43</td>\n",
              "      <td>16</td>\n",
              "      <td>51</td>\n",
              "    </tr>\n",
              "    <tr>\n",
              "      <th>1</th>\n",
              "      <td>3229566029</td>\n",
              "      <td>1497848803862</td>\n",
              "      <td>1851</td>\n",
              "      <td>9</td>\n",
              "      <td>1</td>\n",
              "      <td>1</td>\n",
              "      <td>1</td>\n",
              "      <td>1</td>\n",
              "      <td>0</td>\n",
              "      <td>1</td>\n",
              "      <td>...</td>\n",
              "      <td>2</td>\n",
              "      <td>0</td>\n",
              "      <td>0</td>\n",
              "      <td>0</td>\n",
              "      <td>0</td>\n",
              "      <td>11</td>\n",
              "      <td>67</td>\n",
              "      <td>238</td>\n",
              "      <td>51</td>\n",
              "      <td>420</td>\n",
              "    </tr>\n",
              "    <tr>\n",
              "      <th>2</th>\n",
              "      <td>3327363504</td>\n",
              "      <td>1504360103310</td>\n",
              "      <td>1493</td>\n",
              "      <td>9</td>\n",
              "      <td>1</td>\n",
              "      <td>2</td>\n",
              "      <td>1</td>\n",
              "      <td>1</td>\n",
              "      <td>1</td>\n",
              "      <td>2</td>\n",
              "      <td>...</td>\n",
              "      <td>2</td>\n",
              "      <td>0</td>\n",
              "      <td>0</td>\n",
              "      <td>1</td>\n",
              "      <td>0</td>\n",
              "      <td>157</td>\n",
              "      <td>238</td>\n",
              "      <td>121</td>\n",
              "      <td>57</td>\n",
              "      <td>28</td>\n",
              "    </tr>\n",
              "    <tr>\n",
              "      <th>3</th>\n",
              "      <td>3326856598</td>\n",
              "      <td>1504348503996</td>\n",
              "      <td>1758</td>\n",
              "      <td>9</td>\n",
              "      <td>1</td>\n",
              "      <td>1</td>\n",
              "      <td>1</td>\n",
              "      <td>1</td>\n",
              "      <td>1</td>\n",
              "      <td>1</td>\n",
              "      <td>...</td>\n",
              "      <td>0</td>\n",
              "      <td>0</td>\n",
              "      <td>0</td>\n",
              "      <td>0</td>\n",
              "      <td>0</td>\n",
              "      <td>164</td>\n",
              "      <td>18</td>\n",
              "      <td>141</td>\n",
              "      <td>40</td>\n",
              "      <td>51</td>\n",
              "    </tr>\n",
              "    <tr>\n",
              "      <th>4</th>\n",
              "      <td>3330080762</td>\n",
              "      <td>1504554410899</td>\n",
              "      <td>2094</td>\n",
              "      <td>9</td>\n",
              "      <td>1</td>\n",
              "      <td>2</td>\n",
              "      <td>1</td>\n",
              "      <td>1</td>\n",
              "      <td>1</td>\n",
              "      <td>1</td>\n",
              "      <td>...</td>\n",
              "      <td>3</td>\n",
              "      <td>0</td>\n",
              "      <td>0</td>\n",
              "      <td>1</td>\n",
              "      <td>0</td>\n",
              "      <td>86</td>\n",
              "      <td>11</td>\n",
              "      <td>201</td>\n",
              "      <td>122</td>\n",
              "      <td>18</td>\n",
              "    </tr>\n",
              "  </tbody>\n",
              "</table>\n",
              "<p>5 rows × 61 columns</p>\n",
              "</div>\n",
              "      <button class=\"colab-df-convert\" onclick=\"convertToInteractive('df-9e34c73f-41ab-43de-8562-200f5ff52ed8')\"\n",
              "              title=\"Convert this dataframe to an interactive table.\"\n",
              "              style=\"display:none;\">\n",
              "        \n",
              "  <svg xmlns=\"http://www.w3.org/2000/svg\" height=\"24px\"viewBox=\"0 0 24 24\"\n",
              "       width=\"24px\">\n",
              "    <path d=\"M0 0h24v24H0V0z\" fill=\"none\"/>\n",
              "    <path d=\"M18.56 5.44l.94 2.06.94-2.06 2.06-.94-2.06-.94-.94-2.06-.94 2.06-2.06.94zm-11 1L8.5 8.5l.94-2.06 2.06-.94-2.06-.94L8.5 2.5l-.94 2.06-2.06.94zm10 10l.94 2.06.94-2.06 2.06-.94-2.06-.94-.94-2.06-.94 2.06-2.06.94z\"/><path d=\"M17.41 7.96l-1.37-1.37c-.4-.4-.92-.59-1.43-.59-.52 0-1.04.2-1.43.59L10.3 9.45l-7.72 7.72c-.78.78-.78 2.05 0 2.83L4 21.41c.39.39.9.59 1.41.59.51 0 1.02-.2 1.41-.59l7.78-7.78 2.81-2.81c.8-.78.8-2.07 0-2.86zM5.41 20L4 18.59l7.72-7.72 1.47 1.35L5.41 20z\"/>\n",
              "  </svg>\n",
              "      </button>\n",
              "      \n",
              "  <style>\n",
              "    .colab-df-container {\n",
              "      display:flex;\n",
              "      flex-wrap:wrap;\n",
              "      gap: 12px;\n",
              "    }\n",
              "\n",
              "    .colab-df-convert {\n",
              "      background-color: #E8F0FE;\n",
              "      border: none;\n",
              "      border-radius: 50%;\n",
              "      cursor: pointer;\n",
              "      display: none;\n",
              "      fill: #1967D2;\n",
              "      height: 32px;\n",
              "      padding: 0 0 0 0;\n",
              "      width: 32px;\n",
              "    }\n",
              "\n",
              "    .colab-df-convert:hover {\n",
              "      background-color: #E2EBFA;\n",
              "      box-shadow: 0px 1px 2px rgba(60, 64, 67, 0.3), 0px 1px 3px 1px rgba(60, 64, 67, 0.15);\n",
              "      fill: #174EA6;\n",
              "    }\n",
              "\n",
              "    [theme=dark] .colab-df-convert {\n",
              "      background-color: #3B4455;\n",
              "      fill: #D2E3FC;\n",
              "    }\n",
              "\n",
              "    [theme=dark] .colab-df-convert:hover {\n",
              "      background-color: #434B5C;\n",
              "      box-shadow: 0px 1px 3px 1px rgba(0, 0, 0, 0.15);\n",
              "      filter: drop-shadow(0px 1px 2px rgba(0, 0, 0, 0.3));\n",
              "      fill: #FFFFFF;\n",
              "    }\n",
              "  </style>\n",
              "\n",
              "      <script>\n",
              "        const buttonEl =\n",
              "          document.querySelector('#df-9e34c73f-41ab-43de-8562-200f5ff52ed8 button.colab-df-convert');\n",
              "        buttonEl.style.display =\n",
              "          google.colab.kernel.accessAllowed ? 'block' : 'none';\n",
              "\n",
              "        async function convertToInteractive(key) {\n",
              "          const element = document.querySelector('#df-9e34c73f-41ab-43de-8562-200f5ff52ed8');\n",
              "          const dataTable =\n",
              "            await google.colab.kernel.invokeFunction('convertToInteractive',\n",
              "                                                     [key], {});\n",
              "          if (!dataTable) return;\n",
              "\n",
              "          const docLinkHtml = 'Like what you see? Visit the ' +\n",
              "            '<a target=\"_blank\" href=https://colab.research.google.com/notebooks/data_table.ipynb>data table notebook</a>'\n",
              "            + ' to learn more about interactive tables.';\n",
              "          element.innerHTML = '';\n",
              "          dataTable['output_type'] = 'display_data';\n",
              "          await google.colab.output.renderOutput(dataTable, element);\n",
              "          const docLink = document.createElement('div');\n",
              "          docLink.innerHTML = docLinkHtml;\n",
              "          element.appendChild(docLink);\n",
              "        }\n",
              "      </script>\n",
              "    </div>\n",
              "  </div>\n",
              "  "
            ]
          },
          "metadata": {},
          "execution_count": 40
        }
      ]
    },
    {
      "cell_type": "code",
      "source": [
        "data_champ = pd.read_json('/content/drive/MyDrive/archive (2)/champion_info.json')"
      ],
      "metadata": {
        "id": "DtsSZGP2krI5"
      },
      "execution_count": 4,
      "outputs": []
    },
    {
      "cell_type": "code",
      "source": [
        "data_champ2 = pd.read_json('/content/drive/MyDrive/archive (2)/champion_info_2.json')"
      ],
      "metadata": {
        "id": "3v1Q2sNRlxFg"
      },
      "execution_count": 5,
      "outputs": []
    },
    {
      "cell_type": "code",
      "source": [
        "data_spell = pd.read_json('/content/drive/MyDrive/archive (2)/summoner_spell_info.json')"
      ],
      "metadata": {
        "id": "MhYqguGTl1cq"
      },
      "execution_count": 6,
      "outputs": []
    },
    {
      "cell_type": "code",
      "source": [
        "champInfo = pd.read_json((data_champ['data']).to_json(), orient='index') "
      ],
      "metadata": {
        "id": "64W-JwximEkV"
      },
      "execution_count": 7,
      "outputs": []
    },
    {
      "cell_type": "code",
      "source": [
        "champInfo2 = pd.read_json((data_champ2[\"data\"]).to_json(),orient = \"index\")"
      ],
      "metadata": {
        "id": "4RbY9V1-mIz_"
      },
      "execution_count": 8,
      "outputs": []
    },
    {
      "cell_type": "code",
      "source": [
        "\n",
        "data_spell_info = pd.read_json((data_spell['data']).to_json(), orient='index')\n",
        "\n",
        "data_game2 = pd.read_csv('/content/drive/MyDrive/archive (2)/games.csv')\n",
        "\n",
        "winner = data_game2[[\"winner\"]]\n",
        "winner = winner.T\n",
        "winner.shape"
      ],
      "metadata": {
        "colab": {
          "base_uri": "https://localhost:8080/"
        },
        "id": "9zvZPVqEmNM7",
        "outputId": "ca687d74-bd2e-473e-e4d8-d36fa4cb2949"
      },
      "execution_count": 9,
      "outputs": [
        {
          "output_type": "execute_result",
          "data": {
            "text/plain": [
              "(1, 51490)"
            ]
          },
          "metadata": {},
          "execution_count": 9
        }
      ]
    },
    {
      "cell_type": "code",
      "source": [
        "name_dict = pd.Series(champInfo.key.values,index=champInfo.id).to_dict()"
      ],
      "metadata": {
        "id": "HzFJhLhRnDud"
      },
      "execution_count": 10,
      "outputs": []
    },
    {
      "cell_type": "code",
      "source": [
        "champInfo2"
      ],
      "metadata": {
        "colab": {
          "base_uri": "https://localhost:8080/",
          "height": 424
        },
        "id": "TduWROBTnVbQ",
        "outputId": "8a79c001-f96d-4230-ca00-c9202a4ac978"
      },
      "execution_count": 11,
      "outputs": [
        {
          "output_type": "execute_result",
          "data": {
            "text/plain": [
              "                        tags                   title   id      key     name\n",
              "Aatrox       [Fighter, Tank]        the Darkin Blade  266   Aatrox   Aatrox\n",
              "Ahri        [Mage, Assassin]     the Nine-Tailed Fox  103     Ahri     Ahri\n",
              "Akali             [Assassin]      the Fist of Shadow   84    Akali    Akali\n",
              "Alistar      [Tank, Support]            the Minotaur   12  Alistar  Alistar\n",
              "Amumu           [Tank, Mage]           the Sad Mummy   32    Amumu    Amumu\n",
              "...                      ...                     ...  ...      ...      ...\n",
              "Zac          [Tank, Fighter]       the Secret Weapon  154      Zac      Zac\n",
              "Zed      [Assassin, Fighter]   the Master of Shadows  238      Zed      Zed\n",
              "Ziggs                 [Mage]  the Hexplosives Expert  115    Ziggs    Ziggs\n",
              "Zilean       [Support, Mage]        the Chronokeeper   26   Zilean   Zilean\n",
              "Zyra         [Mage, Support]      Rise of the Thorns  143     Zyra     Zyra\n",
              "\n",
              "[139 rows x 5 columns]"
            ],
            "text/html": [
              "\n",
              "  <div id=\"df-747488f7-8914-4899-9335-04f850ea62a0\">\n",
              "    <div class=\"colab-df-container\">\n",
              "      <div>\n",
              "<style scoped>\n",
              "    .dataframe tbody tr th:only-of-type {\n",
              "        vertical-align: middle;\n",
              "    }\n",
              "\n",
              "    .dataframe tbody tr th {\n",
              "        vertical-align: top;\n",
              "    }\n",
              "\n",
              "    .dataframe thead th {\n",
              "        text-align: right;\n",
              "    }\n",
              "</style>\n",
              "<table border=\"1\" class=\"dataframe\">\n",
              "  <thead>\n",
              "    <tr style=\"text-align: right;\">\n",
              "      <th></th>\n",
              "      <th>tags</th>\n",
              "      <th>title</th>\n",
              "      <th>id</th>\n",
              "      <th>key</th>\n",
              "      <th>name</th>\n",
              "    </tr>\n",
              "  </thead>\n",
              "  <tbody>\n",
              "    <tr>\n",
              "      <th>Aatrox</th>\n",
              "      <td>[Fighter, Tank]</td>\n",
              "      <td>the Darkin Blade</td>\n",
              "      <td>266</td>\n",
              "      <td>Aatrox</td>\n",
              "      <td>Aatrox</td>\n",
              "    </tr>\n",
              "    <tr>\n",
              "      <th>Ahri</th>\n",
              "      <td>[Mage, Assassin]</td>\n",
              "      <td>the Nine-Tailed Fox</td>\n",
              "      <td>103</td>\n",
              "      <td>Ahri</td>\n",
              "      <td>Ahri</td>\n",
              "    </tr>\n",
              "    <tr>\n",
              "      <th>Akali</th>\n",
              "      <td>[Assassin]</td>\n",
              "      <td>the Fist of Shadow</td>\n",
              "      <td>84</td>\n",
              "      <td>Akali</td>\n",
              "      <td>Akali</td>\n",
              "    </tr>\n",
              "    <tr>\n",
              "      <th>Alistar</th>\n",
              "      <td>[Tank, Support]</td>\n",
              "      <td>the Minotaur</td>\n",
              "      <td>12</td>\n",
              "      <td>Alistar</td>\n",
              "      <td>Alistar</td>\n",
              "    </tr>\n",
              "    <tr>\n",
              "      <th>Amumu</th>\n",
              "      <td>[Tank, Mage]</td>\n",
              "      <td>the Sad Mummy</td>\n",
              "      <td>32</td>\n",
              "      <td>Amumu</td>\n",
              "      <td>Amumu</td>\n",
              "    </tr>\n",
              "    <tr>\n",
              "      <th>...</th>\n",
              "      <td>...</td>\n",
              "      <td>...</td>\n",
              "      <td>...</td>\n",
              "      <td>...</td>\n",
              "      <td>...</td>\n",
              "    </tr>\n",
              "    <tr>\n",
              "      <th>Zac</th>\n",
              "      <td>[Tank, Fighter]</td>\n",
              "      <td>the Secret Weapon</td>\n",
              "      <td>154</td>\n",
              "      <td>Zac</td>\n",
              "      <td>Zac</td>\n",
              "    </tr>\n",
              "    <tr>\n",
              "      <th>Zed</th>\n",
              "      <td>[Assassin, Fighter]</td>\n",
              "      <td>the Master of Shadows</td>\n",
              "      <td>238</td>\n",
              "      <td>Zed</td>\n",
              "      <td>Zed</td>\n",
              "    </tr>\n",
              "    <tr>\n",
              "      <th>Ziggs</th>\n",
              "      <td>[Mage]</td>\n",
              "      <td>the Hexplosives Expert</td>\n",
              "      <td>115</td>\n",
              "      <td>Ziggs</td>\n",
              "      <td>Ziggs</td>\n",
              "    </tr>\n",
              "    <tr>\n",
              "      <th>Zilean</th>\n",
              "      <td>[Support, Mage]</td>\n",
              "      <td>the Chronokeeper</td>\n",
              "      <td>26</td>\n",
              "      <td>Zilean</td>\n",
              "      <td>Zilean</td>\n",
              "    </tr>\n",
              "    <tr>\n",
              "      <th>Zyra</th>\n",
              "      <td>[Mage, Support]</td>\n",
              "      <td>Rise of the Thorns</td>\n",
              "      <td>143</td>\n",
              "      <td>Zyra</td>\n",
              "      <td>Zyra</td>\n",
              "    </tr>\n",
              "  </tbody>\n",
              "</table>\n",
              "<p>139 rows × 5 columns</p>\n",
              "</div>\n",
              "      <button class=\"colab-df-convert\" onclick=\"convertToInteractive('df-747488f7-8914-4899-9335-04f850ea62a0')\"\n",
              "              title=\"Convert this dataframe to an interactive table.\"\n",
              "              style=\"display:none;\">\n",
              "        \n",
              "  <svg xmlns=\"http://www.w3.org/2000/svg\" height=\"24px\"viewBox=\"0 0 24 24\"\n",
              "       width=\"24px\">\n",
              "    <path d=\"M0 0h24v24H0V0z\" fill=\"none\"/>\n",
              "    <path d=\"M18.56 5.44l.94 2.06.94-2.06 2.06-.94-2.06-.94-.94-2.06-.94 2.06-2.06.94zm-11 1L8.5 8.5l.94-2.06 2.06-.94-2.06-.94L8.5 2.5l-.94 2.06-2.06.94zm10 10l.94 2.06.94-2.06 2.06-.94-2.06-.94-.94-2.06-.94 2.06-2.06.94z\"/><path d=\"M17.41 7.96l-1.37-1.37c-.4-.4-.92-.59-1.43-.59-.52 0-1.04.2-1.43.59L10.3 9.45l-7.72 7.72c-.78.78-.78 2.05 0 2.83L4 21.41c.39.39.9.59 1.41.59.51 0 1.02-.2 1.41-.59l7.78-7.78 2.81-2.81c.8-.78.8-2.07 0-2.86zM5.41 20L4 18.59l7.72-7.72 1.47 1.35L5.41 20z\"/>\n",
              "  </svg>\n",
              "      </button>\n",
              "      \n",
              "  <style>\n",
              "    .colab-df-container {\n",
              "      display:flex;\n",
              "      flex-wrap:wrap;\n",
              "      gap: 12px;\n",
              "    }\n",
              "\n",
              "    .colab-df-convert {\n",
              "      background-color: #E8F0FE;\n",
              "      border: none;\n",
              "      border-radius: 50%;\n",
              "      cursor: pointer;\n",
              "      display: none;\n",
              "      fill: #1967D2;\n",
              "      height: 32px;\n",
              "      padding: 0 0 0 0;\n",
              "      width: 32px;\n",
              "    }\n",
              "\n",
              "    .colab-df-convert:hover {\n",
              "      background-color: #E2EBFA;\n",
              "      box-shadow: 0px 1px 2px rgba(60, 64, 67, 0.3), 0px 1px 3px 1px rgba(60, 64, 67, 0.15);\n",
              "      fill: #174EA6;\n",
              "    }\n",
              "\n",
              "    [theme=dark] .colab-df-convert {\n",
              "      background-color: #3B4455;\n",
              "      fill: #D2E3FC;\n",
              "    }\n",
              "\n",
              "    [theme=dark] .colab-df-convert:hover {\n",
              "      background-color: #434B5C;\n",
              "      box-shadow: 0px 1px 3px 1px rgba(0, 0, 0, 0.15);\n",
              "      filter: drop-shadow(0px 1px 2px rgba(0, 0, 0, 0.3));\n",
              "      fill: #FFFFFF;\n",
              "    }\n",
              "  </style>\n",
              "\n",
              "      <script>\n",
              "        const buttonEl =\n",
              "          document.querySelector('#df-747488f7-8914-4899-9335-04f850ea62a0 button.colab-df-convert');\n",
              "        buttonEl.style.display =\n",
              "          google.colab.kernel.accessAllowed ? 'block' : 'none';\n",
              "\n",
              "        async function convertToInteractive(key) {\n",
              "          const element = document.querySelector('#df-747488f7-8914-4899-9335-04f850ea62a0');\n",
              "          const dataTable =\n",
              "            await google.colab.kernel.invokeFunction('convertToInteractive',\n",
              "                                                     [key], {});\n",
              "          if (!dataTable) return;\n",
              "\n",
              "          const docLinkHtml = 'Like what you see? Visit the ' +\n",
              "            '<a target=\"_blank\" href=https://colab.research.google.com/notebooks/data_table.ipynb>data table notebook</a>'\n",
              "            + ' to learn more about interactive tables.';\n",
              "          element.innerHTML = '';\n",
              "          dataTable['output_type'] = 'display_data';\n",
              "          await google.colab.output.renderOutput(dataTable, element);\n",
              "          const docLink = document.createElement('div');\n",
              "          docLink.innerHTML = docLinkHtml;\n",
              "          element.appendChild(docLink);\n",
              "        }\n",
              "      </script>\n",
              "    </div>\n",
              "  </div>\n",
              "  "
            ]
          },
          "metadata": {},
          "execution_count": 11
        }
      ]
    },
    {
      "cell_type": "code",
      "source": [
        "data_game.winner"
      ],
      "metadata": {
        "id": "3hPb0PY9vKh4",
        "outputId": "9a77eb96-0613-4692-e1af-80cc39987fa8",
        "colab": {
          "base_uri": "https://localhost:8080/"
        }
      },
      "execution_count": 69,
      "outputs": [
        {
          "output_type": "execute_result",
          "data": {
            "text/plain": [
              "0        1\n",
              "1        1\n",
              "2        1\n",
              "3        1\n",
              "4        1\n",
              "        ..\n",
              "51485    2\n",
              "51486    2\n",
              "51487    2\n",
              "51488    2\n",
              "51489    1\n",
              "Name: winner, Length: 51490, dtype: int64"
            ]
          },
          "metadata": {},
          "execution_count": 69
        }
      ]
    },
    {
      "cell_type": "markdown",
      "source": [
        "## 데이터 전처리하기"
      ],
      "metadata": {
        "id": "s5ayp1xfwC7y"
      }
    },
    {
      "cell_type": "markdown",
      "source": [
        "먼저 타겟값의 불균형을 확인하자\n",
        "- 1은 1팀이 이겼다는 뜻이고 2는 2팀이 이겼다는 뜻이다\n",
        "- 딱 봐도 비슷하니 딱히 불균형 해소를 위한 스케일링은 필요없다"
      ],
      "metadata": {
        "id": "N9aX1z7BlDeG"
      }
    },
    {
      "cell_type": "code",
      "source": [
        "data_game.winner.value_counts()"
      ],
      "metadata": {
        "id": "r8f5wI2glGdU",
        "outputId": "d783d0ff-87c8-464d-e699-323b348610b4",
        "colab": {
          "base_uri": "https://localhost:8080/"
        }
      },
      "execution_count": 36,
      "outputs": [
        {
          "output_type": "execute_result",
          "data": {
            "text/plain": [
              "1    26077\n",
              "2    25413\n",
              "Name: winner, dtype: int64"
            ]
          },
          "metadata": {},
          "execution_count": 36
        }
      ]
    },
    {
      "cell_type": "markdown",
      "source": [
        "## 선택한 챔피언과 금지한 챔피언 정보는 따로 저장한다"
      ],
      "metadata": {
        "id": "_d75wQ9AxzCn"
      }
    },
    {
      "cell_type": "code",
      "source": [
        "champs = data_game[[\"t1_champ1id\",\"t1_champ2id\",\n",
        "                      \"t1_champ3id\",\"t1_champ4id\",\"t1_champ5id\",\"t2_champ1id\",\n",
        "                      \"t2_champ2id\",\"t2_champ3id\",\"t2_champ4id\",\"t2_champ5id\",\"t1_ban1\",\"t1_ban2\",\"t1_ban3\",\n",
        "                      \"t1_ban4\",\"t1_ban5\",\"t2_ban1\",\"t2_ban2\",\"t2_ban3\",\"t2_ban4\",\"t2_ban5\"]]"
      ],
      "metadata": {
        "id": "r9ZZpn_ivwUX"
      },
      "execution_count": 41,
      "outputs": []
    },
    {
      "cell_type": "code",
      "source": [
        "champs"
      ],
      "metadata": {
        "colab": {
          "base_uri": "https://localhost:8080/",
          "height": 488
        },
        "id": "ttI10DP_vx0O",
        "outputId": "b4b7e372-7907-41e5-e226-f68c3d15d39f"
      },
      "execution_count": 42,
      "outputs": [
        {
          "output_type": "execute_result",
          "data": {
            "text/plain": [
              "       t1_champ1id  t1_champ2id  t1_champ3id  t1_champ4id  t1_champ5id  \\\n",
              "0                8          432           96           11          112   \n",
              "1              119           39           76           10           35   \n",
              "2               18          141          267           68           38   \n",
              "3               57           63           29           61           36   \n",
              "4               19           29           40          119          134   \n",
              "...            ...          ...          ...          ...          ...   \n",
              "51485           19          429           91          432           64   \n",
              "51486           90           32           31          412           18   \n",
              "51487          141           18          432           81           68   \n",
              "51488          121          236          420          201           99   \n",
              "51489           89            1          164          113          202   \n",
              "\n",
              "       t2_champ1id  t2_champ2id  t2_champ3id  t2_champ4id  t2_champ5id  \\\n",
              "0              104          498          122          238          412   \n",
              "1               54           25          120          157           92   \n",
              "2               69          412          126           24           22   \n",
              "3               90           19          412           92           22   \n",
              "4               37           59          141           38           51   \n",
              "...            ...          ...          ...          ...          ...   \n",
              "51485           45           83           67           40           79   \n",
              "51486          102          429           89           75           45   \n",
              "51487            1          119           33           43           99   \n",
              "51488           21           56           25           30           11   \n",
              "51489           63           17           29          121           58   \n",
              "\n",
              "       t1_ban1  t1_ban2  t1_ban3  t1_ban4  t1_ban5  t2_ban1  t2_ban2  t2_ban3  \\\n",
              "0           92       40       69      119      141      114       67       43   \n",
              "1           51      122       17      498       19       11       67      238   \n",
              "2          117       40       29       16       53      157      238      121   \n",
              "3          238       67      516      114       31      164       18      141   \n",
              "4           90       64      412       25       31       86       11      201   \n",
              "...        ...      ...      ...      ...      ...      ...      ...      ...   \n",
              "51485      114       18       11      157      497       55       -1       90   \n",
              "51486      157      164      122       99      420      157       55      119   \n",
              "51487      238       31       24       53       11      113      122       53   \n",
              "51488      119       64       51      157       29      154       39       51   \n",
              "51489       40      122       96      157      117       11      157      141   \n",
              "\n",
              "       t2_ban4  t2_ban5  \n",
              "0           16       51  \n",
              "1           51      420  \n",
              "2           57       28  \n",
              "3           40       51  \n",
              "4          122       18  \n",
              "...        ...      ...  \n",
              "51485      238      157  \n",
              "51486      154      105  \n",
              "51487       11      157  \n",
              "51488       90      114  \n",
              "51489       31       18  \n",
              "\n",
              "[51490 rows x 20 columns]"
            ],
            "text/html": [
              "\n",
              "  <div id=\"df-08d510c2-088a-4a54-9389-dc7b4fbbccd6\">\n",
              "    <div class=\"colab-df-container\">\n",
              "      <div>\n",
              "<style scoped>\n",
              "    .dataframe tbody tr th:only-of-type {\n",
              "        vertical-align: middle;\n",
              "    }\n",
              "\n",
              "    .dataframe tbody tr th {\n",
              "        vertical-align: top;\n",
              "    }\n",
              "\n",
              "    .dataframe thead th {\n",
              "        text-align: right;\n",
              "    }\n",
              "</style>\n",
              "<table border=\"1\" class=\"dataframe\">\n",
              "  <thead>\n",
              "    <tr style=\"text-align: right;\">\n",
              "      <th></th>\n",
              "      <th>t1_champ1id</th>\n",
              "      <th>t1_champ2id</th>\n",
              "      <th>t1_champ3id</th>\n",
              "      <th>t1_champ4id</th>\n",
              "      <th>t1_champ5id</th>\n",
              "      <th>t2_champ1id</th>\n",
              "      <th>t2_champ2id</th>\n",
              "      <th>t2_champ3id</th>\n",
              "      <th>t2_champ4id</th>\n",
              "      <th>t2_champ5id</th>\n",
              "      <th>t1_ban1</th>\n",
              "      <th>t1_ban2</th>\n",
              "      <th>t1_ban3</th>\n",
              "      <th>t1_ban4</th>\n",
              "      <th>t1_ban5</th>\n",
              "      <th>t2_ban1</th>\n",
              "      <th>t2_ban2</th>\n",
              "      <th>t2_ban3</th>\n",
              "      <th>t2_ban4</th>\n",
              "      <th>t2_ban5</th>\n",
              "    </tr>\n",
              "  </thead>\n",
              "  <tbody>\n",
              "    <tr>\n",
              "      <th>0</th>\n",
              "      <td>8</td>\n",
              "      <td>432</td>\n",
              "      <td>96</td>\n",
              "      <td>11</td>\n",
              "      <td>112</td>\n",
              "      <td>104</td>\n",
              "      <td>498</td>\n",
              "      <td>122</td>\n",
              "      <td>238</td>\n",
              "      <td>412</td>\n",
              "      <td>92</td>\n",
              "      <td>40</td>\n",
              "      <td>69</td>\n",
              "      <td>119</td>\n",
              "      <td>141</td>\n",
              "      <td>114</td>\n",
              "      <td>67</td>\n",
              "      <td>43</td>\n",
              "      <td>16</td>\n",
              "      <td>51</td>\n",
              "    </tr>\n",
              "    <tr>\n",
              "      <th>1</th>\n",
              "      <td>119</td>\n",
              "      <td>39</td>\n",
              "      <td>76</td>\n",
              "      <td>10</td>\n",
              "      <td>35</td>\n",
              "      <td>54</td>\n",
              "      <td>25</td>\n",
              "      <td>120</td>\n",
              "      <td>157</td>\n",
              "      <td>92</td>\n",
              "      <td>51</td>\n",
              "      <td>122</td>\n",
              "      <td>17</td>\n",
              "      <td>498</td>\n",
              "      <td>19</td>\n",
              "      <td>11</td>\n",
              "      <td>67</td>\n",
              "      <td>238</td>\n",
              "      <td>51</td>\n",
              "      <td>420</td>\n",
              "    </tr>\n",
              "    <tr>\n",
              "      <th>2</th>\n",
              "      <td>18</td>\n",
              "      <td>141</td>\n",
              "      <td>267</td>\n",
              "      <td>68</td>\n",
              "      <td>38</td>\n",
              "      <td>69</td>\n",
              "      <td>412</td>\n",
              "      <td>126</td>\n",
              "      <td>24</td>\n",
              "      <td>22</td>\n",
              "      <td>117</td>\n",
              "      <td>40</td>\n",
              "      <td>29</td>\n",
              "      <td>16</td>\n",
              "      <td>53</td>\n",
              "      <td>157</td>\n",
              "      <td>238</td>\n",
              "      <td>121</td>\n",
              "      <td>57</td>\n",
              "      <td>28</td>\n",
              "    </tr>\n",
              "    <tr>\n",
              "      <th>3</th>\n",
              "      <td>57</td>\n",
              "      <td>63</td>\n",
              "      <td>29</td>\n",
              "      <td>61</td>\n",
              "      <td>36</td>\n",
              "      <td>90</td>\n",
              "      <td>19</td>\n",
              "      <td>412</td>\n",
              "      <td>92</td>\n",
              "      <td>22</td>\n",
              "      <td>238</td>\n",
              "      <td>67</td>\n",
              "      <td>516</td>\n",
              "      <td>114</td>\n",
              "      <td>31</td>\n",
              "      <td>164</td>\n",
              "      <td>18</td>\n",
              "      <td>141</td>\n",
              "      <td>40</td>\n",
              "      <td>51</td>\n",
              "    </tr>\n",
              "    <tr>\n",
              "      <th>4</th>\n",
              "      <td>19</td>\n",
              "      <td>29</td>\n",
              "      <td>40</td>\n",
              "      <td>119</td>\n",
              "      <td>134</td>\n",
              "      <td>37</td>\n",
              "      <td>59</td>\n",
              "      <td>141</td>\n",
              "      <td>38</td>\n",
              "      <td>51</td>\n",
              "      <td>90</td>\n",
              "      <td>64</td>\n",
              "      <td>412</td>\n",
              "      <td>25</td>\n",
              "      <td>31</td>\n",
              "      <td>86</td>\n",
              "      <td>11</td>\n",
              "      <td>201</td>\n",
              "      <td>122</td>\n",
              "      <td>18</td>\n",
              "    </tr>\n",
              "    <tr>\n",
              "      <th>...</th>\n",
              "      <td>...</td>\n",
              "      <td>...</td>\n",
              "      <td>...</td>\n",
              "      <td>...</td>\n",
              "      <td>...</td>\n",
              "      <td>...</td>\n",
              "      <td>...</td>\n",
              "      <td>...</td>\n",
              "      <td>...</td>\n",
              "      <td>...</td>\n",
              "      <td>...</td>\n",
              "      <td>...</td>\n",
              "      <td>...</td>\n",
              "      <td>...</td>\n",
              "      <td>...</td>\n",
              "      <td>...</td>\n",
              "      <td>...</td>\n",
              "      <td>...</td>\n",
              "      <td>...</td>\n",
              "      <td>...</td>\n",
              "    </tr>\n",
              "    <tr>\n",
              "      <th>51485</th>\n",
              "      <td>19</td>\n",
              "      <td>429</td>\n",
              "      <td>91</td>\n",
              "      <td>432</td>\n",
              "      <td>64</td>\n",
              "      <td>45</td>\n",
              "      <td>83</td>\n",
              "      <td>67</td>\n",
              "      <td>40</td>\n",
              "      <td>79</td>\n",
              "      <td>114</td>\n",
              "      <td>18</td>\n",
              "      <td>11</td>\n",
              "      <td>157</td>\n",
              "      <td>497</td>\n",
              "      <td>55</td>\n",
              "      <td>-1</td>\n",
              "      <td>90</td>\n",
              "      <td>238</td>\n",
              "      <td>157</td>\n",
              "    </tr>\n",
              "    <tr>\n",
              "      <th>51486</th>\n",
              "      <td>90</td>\n",
              "      <td>32</td>\n",
              "      <td>31</td>\n",
              "      <td>412</td>\n",
              "      <td>18</td>\n",
              "      <td>102</td>\n",
              "      <td>429</td>\n",
              "      <td>89</td>\n",
              "      <td>75</td>\n",
              "      <td>45</td>\n",
              "      <td>157</td>\n",
              "      <td>164</td>\n",
              "      <td>122</td>\n",
              "      <td>99</td>\n",
              "      <td>420</td>\n",
              "      <td>157</td>\n",
              "      <td>55</td>\n",
              "      <td>119</td>\n",
              "      <td>154</td>\n",
              "      <td>105</td>\n",
              "    </tr>\n",
              "    <tr>\n",
              "      <th>51487</th>\n",
              "      <td>141</td>\n",
              "      <td>18</td>\n",
              "      <td>432</td>\n",
              "      <td>81</td>\n",
              "      <td>68</td>\n",
              "      <td>1</td>\n",
              "      <td>119</td>\n",
              "      <td>33</td>\n",
              "      <td>43</td>\n",
              "      <td>99</td>\n",
              "      <td>238</td>\n",
              "      <td>31</td>\n",
              "      <td>24</td>\n",
              "      <td>53</td>\n",
              "      <td>11</td>\n",
              "      <td>113</td>\n",
              "      <td>122</td>\n",
              "      <td>53</td>\n",
              "      <td>11</td>\n",
              "      <td>157</td>\n",
              "    </tr>\n",
              "    <tr>\n",
              "      <th>51488</th>\n",
              "      <td>121</td>\n",
              "      <td>236</td>\n",
              "      <td>420</td>\n",
              "      <td>201</td>\n",
              "      <td>99</td>\n",
              "      <td>21</td>\n",
              "      <td>56</td>\n",
              "      <td>25</td>\n",
              "      <td>30</td>\n",
              "      <td>11</td>\n",
              "      <td>119</td>\n",
              "      <td>64</td>\n",
              "      <td>51</td>\n",
              "      <td>157</td>\n",
              "      <td>29</td>\n",
              "      <td>154</td>\n",
              "      <td>39</td>\n",
              "      <td>51</td>\n",
              "      <td>90</td>\n",
              "      <td>114</td>\n",
              "    </tr>\n",
              "    <tr>\n",
              "      <th>51489</th>\n",
              "      <td>89</td>\n",
              "      <td>1</td>\n",
              "      <td>164</td>\n",
              "      <td>113</td>\n",
              "      <td>202</td>\n",
              "      <td>63</td>\n",
              "      <td>17</td>\n",
              "      <td>29</td>\n",
              "      <td>121</td>\n",
              "      <td>58</td>\n",
              "      <td>40</td>\n",
              "      <td>122</td>\n",
              "      <td>96</td>\n",
              "      <td>157</td>\n",
              "      <td>117</td>\n",
              "      <td>11</td>\n",
              "      <td>157</td>\n",
              "      <td>141</td>\n",
              "      <td>31</td>\n",
              "      <td>18</td>\n",
              "    </tr>\n",
              "  </tbody>\n",
              "</table>\n",
              "<p>51490 rows × 20 columns</p>\n",
              "</div>\n",
              "      <button class=\"colab-df-convert\" onclick=\"convertToInteractive('df-08d510c2-088a-4a54-9389-dc7b4fbbccd6')\"\n",
              "              title=\"Convert this dataframe to an interactive table.\"\n",
              "              style=\"display:none;\">\n",
              "        \n",
              "  <svg xmlns=\"http://www.w3.org/2000/svg\" height=\"24px\"viewBox=\"0 0 24 24\"\n",
              "       width=\"24px\">\n",
              "    <path d=\"M0 0h24v24H0V0z\" fill=\"none\"/>\n",
              "    <path d=\"M18.56 5.44l.94 2.06.94-2.06 2.06-.94-2.06-.94-.94-2.06-.94 2.06-2.06.94zm-11 1L8.5 8.5l.94-2.06 2.06-.94-2.06-.94L8.5 2.5l-.94 2.06-2.06.94zm10 10l.94 2.06.94-2.06 2.06-.94-2.06-.94-.94-2.06-.94 2.06-2.06.94z\"/><path d=\"M17.41 7.96l-1.37-1.37c-.4-.4-.92-.59-1.43-.59-.52 0-1.04.2-1.43.59L10.3 9.45l-7.72 7.72c-.78.78-.78 2.05 0 2.83L4 21.41c.39.39.9.59 1.41.59.51 0 1.02-.2 1.41-.59l7.78-7.78 2.81-2.81c.8-.78.8-2.07 0-2.86zM5.41 20L4 18.59l7.72-7.72 1.47 1.35L5.41 20z\"/>\n",
              "  </svg>\n",
              "      </button>\n",
              "      \n",
              "  <style>\n",
              "    .colab-df-container {\n",
              "      display:flex;\n",
              "      flex-wrap:wrap;\n",
              "      gap: 12px;\n",
              "    }\n",
              "\n",
              "    .colab-df-convert {\n",
              "      background-color: #E8F0FE;\n",
              "      border: none;\n",
              "      border-radius: 50%;\n",
              "      cursor: pointer;\n",
              "      display: none;\n",
              "      fill: #1967D2;\n",
              "      height: 32px;\n",
              "      padding: 0 0 0 0;\n",
              "      width: 32px;\n",
              "    }\n",
              "\n",
              "    .colab-df-convert:hover {\n",
              "      background-color: #E2EBFA;\n",
              "      box-shadow: 0px 1px 2px rgba(60, 64, 67, 0.3), 0px 1px 3px 1px rgba(60, 64, 67, 0.15);\n",
              "      fill: #174EA6;\n",
              "    }\n",
              "\n",
              "    [theme=dark] .colab-df-convert {\n",
              "      background-color: #3B4455;\n",
              "      fill: #D2E3FC;\n",
              "    }\n",
              "\n",
              "    [theme=dark] .colab-df-convert:hover {\n",
              "      background-color: #434B5C;\n",
              "      box-shadow: 0px 1px 3px 1px rgba(0, 0, 0, 0.15);\n",
              "      filter: drop-shadow(0px 1px 2px rgba(0, 0, 0, 0.3));\n",
              "      fill: #FFFFFF;\n",
              "    }\n",
              "  </style>\n",
              "\n",
              "      <script>\n",
              "        const buttonEl =\n",
              "          document.querySelector('#df-08d510c2-088a-4a54-9389-dc7b4fbbccd6 button.colab-df-convert');\n",
              "        buttonEl.style.display =\n",
              "          google.colab.kernel.accessAllowed ? 'block' : 'none';\n",
              "\n",
              "        async function convertToInteractive(key) {\n",
              "          const element = document.querySelector('#df-08d510c2-088a-4a54-9389-dc7b4fbbccd6');\n",
              "          const dataTable =\n",
              "            await google.colab.kernel.invokeFunction('convertToInteractive',\n",
              "                                                     [key], {});\n",
              "          if (!dataTable) return;\n",
              "\n",
              "          const docLinkHtml = 'Like what you see? Visit the ' +\n",
              "            '<a target=\"_blank\" href=https://colab.research.google.com/notebooks/data_table.ipynb>data table notebook</a>'\n",
              "            + ' to learn more about interactive tables.';\n",
              "          element.innerHTML = '';\n",
              "          dataTable['output_type'] = 'display_data';\n",
              "          await google.colab.output.renderOutput(dataTable, element);\n",
              "          const docLink = document.createElement('div');\n",
              "          docLink.innerHTML = docLinkHtml;\n",
              "          element.appendChild(docLink);\n",
              "        }\n",
              "      </script>\n",
              "    </div>\n",
              "  </div>\n",
              "  "
            ]
          },
          "metadata": {},
          "execution_count": 42
        }
      ]
    },
    {
      "cell_type": "markdown",
      "source": [
        "### 유저가 선택한 캐릭터나 밴한 캐릭터는 따로 저장했으니 제외하고 게임 id는 분석에서 의미없으니 데이터에서 제외한다."
      ],
      "metadata": {
        "id": "6HJetMhoxC9M"
      }
    },
    {
      "cell_type": "markdown",
      "source": [
        "### gameid와 creationtime도 분석에 필요없으니 제외한다"
      ],
      "metadata": {
        "id": "-8WOw_z9nb4h"
      }
    },
    {
      "cell_type": "code",
      "source": [
        "data_game.drop([\"t1_champ1id\",\"t1_champ2id\",\n",
        "                      \"t1_champ3id\",\"t1_champ4id\",\"t1_champ5id\",\"t2_champ1id\",\n",
        "                      \"t2_champ2id\",\"t2_champ3id\",\"t2_champ4id\",\"t2_champ5id\",\"t1_ban1\",\"t1_ban2\",\"t1_ban3\",\n",
        "                      \"t1_ban4\",\"t1_ban5\",\"t2_ban1\",\"t2_ban2\",\"t2_ban3\",\"t2_ban4\",\"t2_ban5\",\"seasonId\"],axis = 1,inplace = True)"
      ],
      "metadata": {
        "id": "MRH5-VjwwyZt"
      },
      "execution_count": 48,
      "outputs": []
    },
    {
      "cell_type": "code",
      "source": [
        "data_game.drop([\"gameId\"],axis = 1,inplace = True)\n",
        "data_game.drop([\"creationTime\"],axis = 1,inplace = True)\n"
      ],
      "metadata": {
        "id": "p-zV3BjQwJBo"
      },
      "execution_count": 49,
      "outputs": []
    },
    {
      "cell_type": "code",
      "source": [
        "data_game.head()"
      ],
      "metadata": {
        "colab": {
          "base_uri": "https://localhost:8080/",
          "height": 299
        },
        "id": "9JfizG4rwzgK",
        "outputId": "448b152f-41a1-48db-8d12-64c8c288310c"
      },
      "execution_count": 50,
      "outputs": [
        {
          "output_type": "execute_result",
          "data": {
            "text/plain": [
              "   gameDuration  winner  firstBlood  firstTower  firstInhibitor  firstBaron  \\\n",
              "0          1949       1           2           1               1           1   \n",
              "1          1851       1           1           1               1           0   \n",
              "2          1493       1           2           1               1           1   \n",
              "3          1758       1           1           1               1           1   \n",
              "4          2094       1           2           1               1           1   \n",
              "\n",
              "   firstDragon  firstRiftHerald  t1_champ1_sum1  t1_champ1_sum2  ...  \\\n",
              "0            1                2              12               4  ...   \n",
              "1            1                1               7               4  ...   \n",
              "2            2                0               4               7  ...   \n",
              "3            1                0               4              12  ...   \n",
              "4            1                0               4              12  ...   \n",
              "\n",
              "   t2_champ3_sum2  t2_champ4_sum1  t2_champ4_sum2  t2_champ5_sum1  \\\n",
              "0               4              14               4               4   \n",
              "1               4               4              14               4   \n",
              "2              12               4              11               7   \n",
              "3               3               4              14               4   \n",
              "4               4               4              12               4   \n",
              "\n",
              "   t2_champ5_sum2  t2_towerKills  t2_inhibitorKills  t2_baronKills  \\\n",
              "0               3              5                  0              0   \n",
              "1               7              2                  0              0   \n",
              "2               4              2                  0              0   \n",
              "3               7              0                  0              0   \n",
              "4               7              3                  0              0   \n",
              "\n",
              "   t2_dragonKills  t2_riftHeraldKills  \n",
              "0               1                   1  \n",
              "1               0                   0  \n",
              "2               1                   0  \n",
              "3               0                   0  \n",
              "4               1                   0  \n",
              "\n",
              "[5 rows x 38 columns]"
            ],
            "text/html": [
              "\n",
              "  <div id=\"df-82135116-300a-4149-a752-9ac9d8570dcc\">\n",
              "    <div class=\"colab-df-container\">\n",
              "      <div>\n",
              "<style scoped>\n",
              "    .dataframe tbody tr th:only-of-type {\n",
              "        vertical-align: middle;\n",
              "    }\n",
              "\n",
              "    .dataframe tbody tr th {\n",
              "        vertical-align: top;\n",
              "    }\n",
              "\n",
              "    .dataframe thead th {\n",
              "        text-align: right;\n",
              "    }\n",
              "</style>\n",
              "<table border=\"1\" class=\"dataframe\">\n",
              "  <thead>\n",
              "    <tr style=\"text-align: right;\">\n",
              "      <th></th>\n",
              "      <th>gameDuration</th>\n",
              "      <th>winner</th>\n",
              "      <th>firstBlood</th>\n",
              "      <th>firstTower</th>\n",
              "      <th>firstInhibitor</th>\n",
              "      <th>firstBaron</th>\n",
              "      <th>firstDragon</th>\n",
              "      <th>firstRiftHerald</th>\n",
              "      <th>t1_champ1_sum1</th>\n",
              "      <th>t1_champ1_sum2</th>\n",
              "      <th>...</th>\n",
              "      <th>t2_champ3_sum2</th>\n",
              "      <th>t2_champ4_sum1</th>\n",
              "      <th>t2_champ4_sum2</th>\n",
              "      <th>t2_champ5_sum1</th>\n",
              "      <th>t2_champ5_sum2</th>\n",
              "      <th>t2_towerKills</th>\n",
              "      <th>t2_inhibitorKills</th>\n",
              "      <th>t2_baronKills</th>\n",
              "      <th>t2_dragonKills</th>\n",
              "      <th>t2_riftHeraldKills</th>\n",
              "    </tr>\n",
              "  </thead>\n",
              "  <tbody>\n",
              "    <tr>\n",
              "      <th>0</th>\n",
              "      <td>1949</td>\n",
              "      <td>1</td>\n",
              "      <td>2</td>\n",
              "      <td>1</td>\n",
              "      <td>1</td>\n",
              "      <td>1</td>\n",
              "      <td>1</td>\n",
              "      <td>2</td>\n",
              "      <td>12</td>\n",
              "      <td>4</td>\n",
              "      <td>...</td>\n",
              "      <td>4</td>\n",
              "      <td>14</td>\n",
              "      <td>4</td>\n",
              "      <td>4</td>\n",
              "      <td>3</td>\n",
              "      <td>5</td>\n",
              "      <td>0</td>\n",
              "      <td>0</td>\n",
              "      <td>1</td>\n",
              "      <td>1</td>\n",
              "    </tr>\n",
              "    <tr>\n",
              "      <th>1</th>\n",
              "      <td>1851</td>\n",
              "      <td>1</td>\n",
              "      <td>1</td>\n",
              "      <td>1</td>\n",
              "      <td>1</td>\n",
              "      <td>0</td>\n",
              "      <td>1</td>\n",
              "      <td>1</td>\n",
              "      <td>7</td>\n",
              "      <td>4</td>\n",
              "      <td>...</td>\n",
              "      <td>4</td>\n",
              "      <td>4</td>\n",
              "      <td>14</td>\n",
              "      <td>4</td>\n",
              "      <td>7</td>\n",
              "      <td>2</td>\n",
              "      <td>0</td>\n",
              "      <td>0</td>\n",
              "      <td>0</td>\n",
              "      <td>0</td>\n",
              "    </tr>\n",
              "    <tr>\n",
              "      <th>2</th>\n",
              "      <td>1493</td>\n",
              "      <td>1</td>\n",
              "      <td>2</td>\n",
              "      <td>1</td>\n",
              "      <td>1</td>\n",
              "      <td>1</td>\n",
              "      <td>2</td>\n",
              "      <td>0</td>\n",
              "      <td>4</td>\n",
              "      <td>7</td>\n",
              "      <td>...</td>\n",
              "      <td>12</td>\n",
              "      <td>4</td>\n",
              "      <td>11</td>\n",
              "      <td>7</td>\n",
              "      <td>4</td>\n",
              "      <td>2</td>\n",
              "      <td>0</td>\n",
              "      <td>0</td>\n",
              "      <td>1</td>\n",
              "      <td>0</td>\n",
              "    </tr>\n",
              "    <tr>\n",
              "      <th>3</th>\n",
              "      <td>1758</td>\n",
              "      <td>1</td>\n",
              "      <td>1</td>\n",
              "      <td>1</td>\n",
              "      <td>1</td>\n",
              "      <td>1</td>\n",
              "      <td>1</td>\n",
              "      <td>0</td>\n",
              "      <td>4</td>\n",
              "      <td>12</td>\n",
              "      <td>...</td>\n",
              "      <td>3</td>\n",
              "      <td>4</td>\n",
              "      <td>14</td>\n",
              "      <td>4</td>\n",
              "      <td>7</td>\n",
              "      <td>0</td>\n",
              "      <td>0</td>\n",
              "      <td>0</td>\n",
              "      <td>0</td>\n",
              "      <td>0</td>\n",
              "    </tr>\n",
              "    <tr>\n",
              "      <th>4</th>\n",
              "      <td>2094</td>\n",
              "      <td>1</td>\n",
              "      <td>2</td>\n",
              "      <td>1</td>\n",
              "      <td>1</td>\n",
              "      <td>1</td>\n",
              "      <td>1</td>\n",
              "      <td>0</td>\n",
              "      <td>4</td>\n",
              "      <td>12</td>\n",
              "      <td>...</td>\n",
              "      <td>4</td>\n",
              "      <td>4</td>\n",
              "      <td>12</td>\n",
              "      <td>4</td>\n",
              "      <td>7</td>\n",
              "      <td>3</td>\n",
              "      <td>0</td>\n",
              "      <td>0</td>\n",
              "      <td>1</td>\n",
              "      <td>0</td>\n",
              "    </tr>\n",
              "  </tbody>\n",
              "</table>\n",
              "<p>5 rows × 38 columns</p>\n",
              "</div>\n",
              "      <button class=\"colab-df-convert\" onclick=\"convertToInteractive('df-82135116-300a-4149-a752-9ac9d8570dcc')\"\n",
              "              title=\"Convert this dataframe to an interactive table.\"\n",
              "              style=\"display:none;\">\n",
              "        \n",
              "  <svg xmlns=\"http://www.w3.org/2000/svg\" height=\"24px\"viewBox=\"0 0 24 24\"\n",
              "       width=\"24px\">\n",
              "    <path d=\"M0 0h24v24H0V0z\" fill=\"none\"/>\n",
              "    <path d=\"M18.56 5.44l.94 2.06.94-2.06 2.06-.94-2.06-.94-.94-2.06-.94 2.06-2.06.94zm-11 1L8.5 8.5l.94-2.06 2.06-.94-2.06-.94L8.5 2.5l-.94 2.06-2.06.94zm10 10l.94 2.06.94-2.06 2.06-.94-2.06-.94-.94-2.06-.94 2.06-2.06.94z\"/><path d=\"M17.41 7.96l-1.37-1.37c-.4-.4-.92-.59-1.43-.59-.52 0-1.04.2-1.43.59L10.3 9.45l-7.72 7.72c-.78.78-.78 2.05 0 2.83L4 21.41c.39.39.9.59 1.41.59.51 0 1.02-.2 1.41-.59l7.78-7.78 2.81-2.81c.8-.78.8-2.07 0-2.86zM5.41 20L4 18.59l7.72-7.72 1.47 1.35L5.41 20z\"/>\n",
              "  </svg>\n",
              "      </button>\n",
              "      \n",
              "  <style>\n",
              "    .colab-df-container {\n",
              "      display:flex;\n",
              "      flex-wrap:wrap;\n",
              "      gap: 12px;\n",
              "    }\n",
              "\n",
              "    .colab-df-convert {\n",
              "      background-color: #E8F0FE;\n",
              "      border: none;\n",
              "      border-radius: 50%;\n",
              "      cursor: pointer;\n",
              "      display: none;\n",
              "      fill: #1967D2;\n",
              "      height: 32px;\n",
              "      padding: 0 0 0 0;\n",
              "      width: 32px;\n",
              "    }\n",
              "\n",
              "    .colab-df-convert:hover {\n",
              "      background-color: #E2EBFA;\n",
              "      box-shadow: 0px 1px 2px rgba(60, 64, 67, 0.3), 0px 1px 3px 1px rgba(60, 64, 67, 0.15);\n",
              "      fill: #174EA6;\n",
              "    }\n",
              "\n",
              "    [theme=dark] .colab-df-convert {\n",
              "      background-color: #3B4455;\n",
              "      fill: #D2E3FC;\n",
              "    }\n",
              "\n",
              "    [theme=dark] .colab-df-convert:hover {\n",
              "      background-color: #434B5C;\n",
              "      box-shadow: 0px 1px 3px 1px rgba(0, 0, 0, 0.15);\n",
              "      filter: drop-shadow(0px 1px 2px rgba(0, 0, 0, 0.3));\n",
              "      fill: #FFFFFF;\n",
              "    }\n",
              "  </style>\n",
              "\n",
              "      <script>\n",
              "        const buttonEl =\n",
              "          document.querySelector('#df-82135116-300a-4149-a752-9ac9d8570dcc button.colab-df-convert');\n",
              "        buttonEl.style.display =\n",
              "          google.colab.kernel.accessAllowed ? 'block' : 'none';\n",
              "\n",
              "        async function convertToInteractive(key) {\n",
              "          const element = document.querySelector('#df-82135116-300a-4149-a752-9ac9d8570dcc');\n",
              "          const dataTable =\n",
              "            await google.colab.kernel.invokeFunction('convertToInteractive',\n",
              "                                                     [key], {});\n",
              "          if (!dataTable) return;\n",
              "\n",
              "          const docLinkHtml = 'Like what you see? Visit the ' +\n",
              "            '<a target=\"_blank\" href=https://colab.research.google.com/notebooks/data_table.ipynb>data table notebook</a>'\n",
              "            + ' to learn more about interactive tables.';\n",
              "          element.innerHTML = '';\n",
              "          dataTable['output_type'] = 'display_data';\n",
              "          await google.colab.output.renderOutput(dataTable, element);\n",
              "          const docLink = document.createElement('div');\n",
              "          docLink.innerHTML = docLinkHtml;\n",
              "          element.appendChild(docLink);\n",
              "        }\n",
              "      </script>\n",
              "    </div>\n",
              "  </div>\n",
              "  "
            ]
          },
          "metadata": {},
          "execution_count": 50
        }
      ]
    },
    {
      "cell_type": "markdown",
      "source": [
        "# 첫번째 상황이 나온 상황에서 타겟값과의 상관계수를 구해보자\n",
        "\n",
        "## 첫번째 드래곤을 처치한 경우\n",
        "## 첫번째 전령을 처치한 경우\n",
        "## 첫번째 바론을 처치한 경우\n",
        "## 첫번째 상대팀 챔피언을 처치한 경우\n",
        "\n",
        "## 첫번째 타워를 파괴한 경우\n",
        "## 첫번째 억제기를 파괴한 경우"
      ],
      "metadata": {
        "id": "Lt4mcDMuiYE6"
      }
    },
    {
      "cell_type": "markdown",
      "source": [
        "+) 게임시간과 승패와의 상관관계도 확인해보자"
      ],
      "metadata": {
        "id": "iRUdXzIHsKPV"
      }
    },
    {
      "cell_type": "code",
      "source": [
        "#확인할 칼럼들 \n",
        "\n",
        "first = [col for col in data_game.columns if \"first\" in col]\n",
        "first"
      ],
      "metadata": {
        "id": "ALgiXa-0irSp",
        "outputId": "cfdfb1e2-5db2-461e-c193-7f403762acfc",
        "colab": {
          "base_uri": "https://localhost:8080/"
        }
      },
      "execution_count": 17,
      "outputs": [
        {
          "output_type": "execute_result",
          "data": {
            "text/plain": [
              "['firstBlood',\n",
              " 'firstTower',\n",
              " 'firstInhibitor',\n",
              " 'firstBaron',\n",
              " 'firstDragon',\n",
              " 'firstRiftHerald']"
            ]
          },
          "metadata": {},
          "execution_count": 17
        }
      ]
    },
    {
      "cell_type": "code",
      "source": [
        "corr_li = []\n",
        "\n",
        "for i in first:\n",
        "  print(i,data_game[[i,\"winner\"]].corr().iloc[0,1])\n",
        "  corr_li.append(data_game[[i,\"winner\"]].corr().iloc[0,1])"
      ],
      "metadata": {
        "id": "zBaEhAiPjmob",
        "outputId": "36203e88-ced3-46bf-d3d8-5292681da9d6",
        "colab": {
          "base_uri": "https://localhost:8080/"
        }
      },
      "execution_count": 53,
      "outputs": [
        {
          "output_type": "stream",
          "name": "stdout",
          "text": [
            "firstBlood 0.17477043886061475\n",
            "firstTower 0.3756965760481061\n",
            "firstInhibitor 0.5364369592048327\n",
            "firstBaron 0.2618875450017928\n",
            "firstDragon 0.3103855881962747\n",
            "firstRiftHerald 0.11981299965040347\n"
          ]
        }
      ]
    },
    {
      "cell_type": "code",
      "source": [
        "data_game[['gameDuration','winner']].corr()"
      ],
      "metadata": {
        "id": "cmbxcywzo4E-",
        "outputId": "1c76ab57-2cb9-45ee-fc51-2984e9b52ebc",
        "colab": {
          "base_uri": "https://localhost:8080/",
          "height": 112
        }
      },
      "execution_count": 51,
      "outputs": [
        {
          "output_type": "execute_result",
          "data": {
            "text/plain": [
              "              gameDuration    winner\n",
              "gameDuration      1.000000  0.024187\n",
              "winner            0.024187  1.000000"
            ],
            "text/html": [
              "\n",
              "  <div id=\"df-64ee7970-4614-4ad2-9b4f-3cd642873f93\">\n",
              "    <div class=\"colab-df-container\">\n",
              "      <div>\n",
              "<style scoped>\n",
              "    .dataframe tbody tr th:only-of-type {\n",
              "        vertical-align: middle;\n",
              "    }\n",
              "\n",
              "    .dataframe tbody tr th {\n",
              "        vertical-align: top;\n",
              "    }\n",
              "\n",
              "    .dataframe thead th {\n",
              "        text-align: right;\n",
              "    }\n",
              "</style>\n",
              "<table border=\"1\" class=\"dataframe\">\n",
              "  <thead>\n",
              "    <tr style=\"text-align: right;\">\n",
              "      <th></th>\n",
              "      <th>gameDuration</th>\n",
              "      <th>winner</th>\n",
              "    </tr>\n",
              "  </thead>\n",
              "  <tbody>\n",
              "    <tr>\n",
              "      <th>gameDuration</th>\n",
              "      <td>1.000000</td>\n",
              "      <td>0.024187</td>\n",
              "    </tr>\n",
              "    <tr>\n",
              "      <th>winner</th>\n",
              "      <td>0.024187</td>\n",
              "      <td>1.000000</td>\n",
              "    </tr>\n",
              "  </tbody>\n",
              "</table>\n",
              "</div>\n",
              "      <button class=\"colab-df-convert\" onclick=\"convertToInteractive('df-64ee7970-4614-4ad2-9b4f-3cd642873f93')\"\n",
              "              title=\"Convert this dataframe to an interactive table.\"\n",
              "              style=\"display:none;\">\n",
              "        \n",
              "  <svg xmlns=\"http://www.w3.org/2000/svg\" height=\"24px\"viewBox=\"0 0 24 24\"\n",
              "       width=\"24px\">\n",
              "    <path d=\"M0 0h24v24H0V0z\" fill=\"none\"/>\n",
              "    <path d=\"M18.56 5.44l.94 2.06.94-2.06 2.06-.94-2.06-.94-.94-2.06-.94 2.06-2.06.94zm-11 1L8.5 8.5l.94-2.06 2.06-.94-2.06-.94L8.5 2.5l-.94 2.06-2.06.94zm10 10l.94 2.06.94-2.06 2.06-.94-2.06-.94-.94-2.06-.94 2.06-2.06.94z\"/><path d=\"M17.41 7.96l-1.37-1.37c-.4-.4-.92-.59-1.43-.59-.52 0-1.04.2-1.43.59L10.3 9.45l-7.72 7.72c-.78.78-.78 2.05 0 2.83L4 21.41c.39.39.9.59 1.41.59.51 0 1.02-.2 1.41-.59l7.78-7.78 2.81-2.81c.8-.78.8-2.07 0-2.86zM5.41 20L4 18.59l7.72-7.72 1.47 1.35L5.41 20z\"/>\n",
              "  </svg>\n",
              "      </button>\n",
              "      \n",
              "  <style>\n",
              "    .colab-df-container {\n",
              "      display:flex;\n",
              "      flex-wrap:wrap;\n",
              "      gap: 12px;\n",
              "    }\n",
              "\n",
              "    .colab-df-convert {\n",
              "      background-color: #E8F0FE;\n",
              "      border: none;\n",
              "      border-radius: 50%;\n",
              "      cursor: pointer;\n",
              "      display: none;\n",
              "      fill: #1967D2;\n",
              "      height: 32px;\n",
              "      padding: 0 0 0 0;\n",
              "      width: 32px;\n",
              "    }\n",
              "\n",
              "    .colab-df-convert:hover {\n",
              "      background-color: #E2EBFA;\n",
              "      box-shadow: 0px 1px 2px rgba(60, 64, 67, 0.3), 0px 1px 3px 1px rgba(60, 64, 67, 0.15);\n",
              "      fill: #174EA6;\n",
              "    }\n",
              "\n",
              "    [theme=dark] .colab-df-convert {\n",
              "      background-color: #3B4455;\n",
              "      fill: #D2E3FC;\n",
              "    }\n",
              "\n",
              "    [theme=dark] .colab-df-convert:hover {\n",
              "      background-color: #434B5C;\n",
              "      box-shadow: 0px 1px 3px 1px rgba(0, 0, 0, 0.15);\n",
              "      filter: drop-shadow(0px 1px 2px rgba(0, 0, 0, 0.3));\n",
              "      fill: #FFFFFF;\n",
              "    }\n",
              "  </style>\n",
              "\n",
              "      <script>\n",
              "        const buttonEl =\n",
              "          document.querySelector('#df-64ee7970-4614-4ad2-9b4f-3cd642873f93 button.colab-df-convert');\n",
              "        buttonEl.style.display =\n",
              "          google.colab.kernel.accessAllowed ? 'block' : 'none';\n",
              "\n",
              "        async function convertToInteractive(key) {\n",
              "          const element = document.querySelector('#df-64ee7970-4614-4ad2-9b4f-3cd642873f93');\n",
              "          const dataTable =\n",
              "            await google.colab.kernel.invokeFunction('convertToInteractive',\n",
              "                                                     [key], {});\n",
              "          if (!dataTable) return;\n",
              "\n",
              "          const docLinkHtml = 'Like what you see? Visit the ' +\n",
              "            '<a target=\"_blank\" href=https://colab.research.google.com/notebooks/data_table.ipynb>data table notebook</a>'\n",
              "            + ' to learn more about interactive tables.';\n",
              "          element.innerHTML = '';\n",
              "          dataTable['output_type'] = 'display_data';\n",
              "          await google.colab.output.renderOutput(dataTable, element);\n",
              "          const docLink = document.createElement('div');\n",
              "          docLink.innerHTML = docLinkHtml;\n",
              "          element.appendChild(docLink);\n",
              "        }\n",
              "      </script>\n",
              "    </div>\n",
              "  </div>\n",
              "  "
            ]
          },
          "metadata": {},
          "execution_count": 51
        }
      ]
    },
    {
      "cell_type": "markdown",
      "source": [
        "상관계수 해석\n",
        "- 첫번째 억제기를 파괴하였을때는 승리와 상관관계가 있다고 할 수있다.\n",
        "- 나머지는 약한 상관관계를 보인다고 보면 된다.\n",
        "\n",
        "\n",
        "- 게임 시간과 승리와는 상관관계가 없다고 보면 된다.\n"
      ],
      "metadata": {
        "id": "b52JRqUjoRR6"
      }
    },
    {
      "cell_type": "markdown",
      "source": [
        "## 상관계수 그래프도 가능할까??"
      ],
      "metadata": {
        "id": "yWESAUM8JbG1"
      }
    },
    {
      "cell_type": "code",
      "source": [
        "corr_li.sort(reverse=True)\n",
        "corr_li"
      ],
      "metadata": {
        "id": "p8jZN73ws-tQ",
        "outputId": "b5a2ef36-1096-41b1-a2f7-f4f73f28e3cc",
        "colab": {
          "base_uri": "https://localhost:8080/"
        }
      },
      "execution_count": 62,
      "outputs": [
        {
          "output_type": "execute_result",
          "data": {
            "text/plain": [
              "[0.5364369592048327,\n",
              " 0.3756965760481061,\n",
              " 0.3103855881962747,\n",
              " 0.2618875450017928,\n",
              " 0.17477043886061475,\n",
              " 0.11981299965040347]"
            ]
          },
          "metadata": {},
          "execution_count": 62
        }
      ]
    },
    {
      "cell_type": "code",
      "source": [
        "import matplotlib.pyplot as plt\n",
        "\n",
        "plt.figure(figsize = (10,5))\n",
        "\n",
        "plt.title('corr graph')\n",
        "plt.bar(first,corr_li,color = ['red', 'orange', 'yellow', 'green','blue','purple']);"
      ],
      "metadata": {
        "id": "hFQ_OM4-sfpG",
        "outputId": "6f909029-3fd3-4487-de2c-a304f0859f2e",
        "colab": {
          "base_uri": "https://localhost:8080/",
          "height": 336
        }
      },
      "execution_count": 68,
      "outputs": [
        {
          "output_type": "display_data",
          "data": {
            "text/plain": [
              "<Figure size 720x360 with 1 Axes>"
            ],
            "image/png": "[encoded data removed]"
          },
          "metadata": {
            "needs_background": "light"
          }
        }
      ]
    },
    {
      "cell_type": "code",
      "source": [
        "data_game[[\"firstInhibitor\",\"winner\"]].groupby([\"firstInhibitor\"],as_index = False).mean().sort_values(by = \"winner\",ascending = False)"
      ],
      "metadata": {
        "colab": {
          "base_uri": "https://localhost:8080/",
          "height": 143
        },
        "id": "iog_XRSWFQ-G",
        "outputId": "a6e829b7-2f2b-48b1-f28a-d60a9c58eddd"
      },
      "execution_count": 80,
      "outputs": [
        {
          "output_type": "execute_result",
          "data": {
            "text/plain": [
              "   firstInhibitor    winner\n",
              "1               1  0.908693\n",
              "0               0  0.511472\n",
              "2               2  0.086552"
            ],
            "text/html": [
              "\n",
              "  <div id=\"df-b87f6df2-082d-42e3-a8b8-ebd007f07f52\">\n",
              "    <div class=\"colab-df-container\">\n",
              "      <div>\n",
              "<style scoped>\n",
              "    .dataframe tbody tr th:only-of-type {\n",
              "        vertical-align: middle;\n",
              "    }\n",
              "\n",
              "    .dataframe tbody tr th {\n",
              "        vertical-align: top;\n",
              "    }\n",
              "\n",
              "    .dataframe thead th {\n",
              "        text-align: right;\n",
              "    }\n",
              "</style>\n",
              "<table border=\"1\" class=\"dataframe\">\n",
              "  <thead>\n",
              "    <tr style=\"text-align: right;\">\n",
              "      <th></th>\n",
              "      <th>firstInhibitor</th>\n",
              "      <th>winner</th>\n",
              "    </tr>\n",
              "  </thead>\n",
              "  <tbody>\n",
              "    <tr>\n",
              "      <th>1</th>\n",
              "      <td>1</td>\n",
              "      <td>0.908693</td>\n",
              "    </tr>\n",
              "    <tr>\n",
              "      <th>0</th>\n",
              "      <td>0</td>\n",
              "      <td>0.511472</td>\n",
              "    </tr>\n",
              "    <tr>\n",
              "      <th>2</th>\n",
              "      <td>2</td>\n",
              "      <td>0.086552</td>\n",
              "    </tr>\n",
              "  </tbody>\n",
              "</table>\n",
              "</div>\n",
              "      <button class=\"colab-df-convert\" onclick=\"convertToInteractive('df-b87f6df2-082d-42e3-a8b8-ebd007f07f52')\"\n",
              "              title=\"Convert this dataframe to an interactive table.\"\n",
              "              style=\"display:none;\">\n",
              "        \n",
              "  <svg xmlns=\"http://www.w3.org/2000/svg\" height=\"24px\"viewBox=\"0 0 24 24\"\n",
              "       width=\"24px\">\n",
              "    <path d=\"M0 0h24v24H0V0z\" fill=\"none\"/>\n",
              "    <path d=\"M18.56 5.44l.94 2.06.94-2.06 2.06-.94-2.06-.94-.94-2.06-.94 2.06-2.06.94zm-11 1L8.5 8.5l.94-2.06 2.06-.94-2.06-.94L8.5 2.5l-.94 2.06-2.06.94zm10 10l.94 2.06.94-2.06 2.06-.94-2.06-.94-.94-2.06-.94 2.06-2.06.94z\"/><path d=\"M17.41 7.96l-1.37-1.37c-.4-.4-.92-.59-1.43-.59-.52 0-1.04.2-1.43.59L10.3 9.45l-7.72 7.72c-.78.78-.78 2.05 0 2.83L4 21.41c.39.39.9.59 1.41.59.51 0 1.02-.2 1.41-.59l7.78-7.78 2.81-2.81c.8-.78.8-2.07 0-2.86zM5.41 20L4 18.59l7.72-7.72 1.47 1.35L5.41 20z\"/>\n",
              "  </svg>\n",
              "      </button>\n",
              "      \n",
              "  <style>\n",
              "    .colab-df-container {\n",
              "      display:flex;\n",
              "      flex-wrap:wrap;\n",
              "      gap: 12px;\n",
              "    }\n",
              "\n",
              "    .colab-df-convert {\n",
              "      background-color: #E8F0FE;\n",
              "      border: none;\n",
              "      border-radius: 50%;\n",
              "      cursor: pointer;\n",
              "      display: none;\n",
              "      fill: #1967D2;\n",
              "      height: 32px;\n",
              "      padding: 0 0 0 0;\n",
              "      width: 32px;\n",
              "    }\n",
              "\n",
              "    .colab-df-convert:hover {\n",
              "      background-color: #E2EBFA;\n",
              "      box-shadow: 0px 1px 2px rgba(60, 64, 67, 0.3), 0px 1px 3px 1px rgba(60, 64, 67, 0.15);\n",
              "      fill: #174EA6;\n",
              "    }\n",
              "\n",
              "    [theme=dark] .colab-df-convert {\n",
              "      background-color: #3B4455;\n",
              "      fill: #D2E3FC;\n",
              "    }\n",
              "\n",
              "    [theme=dark] .colab-df-convert:hover {\n",
              "      background-color: #434B5C;\n",
              "      box-shadow: 0px 1px 3px 1px rgba(0, 0, 0, 0.15);\n",
              "      filter: drop-shadow(0px 1px 2px rgba(0, 0, 0, 0.3));\n",
              "      fill: #FFFFFF;\n",
              "    }\n",
              "  </style>\n",
              "\n",
              "      <script>\n",
              "        const buttonEl =\n",
              "          document.querySelector('#df-b87f6df2-082d-42e3-a8b8-ebd007f07f52 button.colab-df-convert');\n",
              "        buttonEl.style.display =\n",
              "          google.colab.kernel.accessAllowed ? 'block' : 'none';\n",
              "\n",
              "        async function convertToInteractive(key) {\n",
              "          const element = document.querySelector('#df-b87f6df2-082d-42e3-a8b8-ebd007f07f52');\n",
              "          const dataTable =\n",
              "            await google.colab.kernel.invokeFunction('convertToInteractive',\n",
              "                                                     [key], {});\n",
              "          if (!dataTable) return;\n",
              "\n",
              "          const docLinkHtml = 'Like what you see? Visit the ' +\n",
              "            '<a target=\"_blank\" href=https://colab.research.google.com/notebooks/data_table.ipynb>data table notebook</a>'\n",
              "            + ' to learn more about interactive tables.';\n",
              "          element.innerHTML = '';\n",
              "          dataTable['output_type'] = 'display_data';\n",
              "          await google.colab.output.renderOutput(dataTable, element);\n",
              "          const docLink = document.createElement('div');\n",
              "          docLink.innerHTML = docLinkHtml;\n",
              "          element.appendChild(docLink);\n",
              "        }\n",
              "      </script>\n",
              "    </div>\n",
              "  </div>\n",
              "  "
            ]
          },
          "metadata": {},
          "execution_count": 80
        }
      ]
    },
    {
      "cell_type": "markdown",
      "source": [
        "여기서 보면 억제기를 2팀이 미는 경우 winner의 평균이 거의 2에 가깝고 억제기를 1팀이 미는 경우 winner의 평균이 거의 1에 가까운것을 확인 할 수 있다.\n",
        "\n",
        "따라서 억제기를 먼저 미는 것과 승리와의 상관관계가 강하다고 할 수 있다."
      ],
      "metadata": {
        "id": "nCgV5ZL-IsQz"
      }
    },
    {
      "cell_type": "markdown",
      "source": [
        "# 스펠 분석을 하기 위한 전처리 과정\n",
        "- 각 라인에서 주로 쓰이는 스펠을 조사한다\n",
        "- 만약 한 라인이라도 주로 쓰이는 스펠을 들지 않을때 승률이 올라가는지를 확인하고 싶다\n",
        "- 주로 쓰이는 스펠을 들고 있는지 (yes:1 no : 0) 칼럼을 만들자"
      ],
      "metadata": {
        "id": "vbjM3VGU0pKY"
      }
    },
    {
      "cell_type": "markdown",
      "source": [
        "## 스펠 설명\n",
        "\n",
        "- 1 : 정화 \n",
        "- 3 : 탈진\n",
        "- 4 : 점멸\n",
        "- 6 : 유체화\n",
        "- 7 : 힐\n",
        "- 11 : 강타\n",
        "- 12 : 순간이동\n",
        "- 13 : 총명\n",
        "- 14 : 점화\n",
        "- 21 : 방어막\n",
        "\n",
        "[스킬에 대한 정보](https://namu.wiki/w/%EC%86%8C%ED%99%98%EC%82%AC%20%EC%A3%BC%EB%AC%B8#s-4.2)"
      ],
      "metadata": {
        "id": "QWr61DiD1dUs"
      }
    },
    {
      "cell_type": "code",
      "source": [
        "data_game.t1_champ1_sum1.value_counts()"
      ],
      "metadata": {
        "id": "tAVnM0NZ3oZl",
        "outputId": "00894f64-23f4-46c5-938c-cc8d41702801",
        "colab": {
          "base_uri": "https://localhost:8080/"
        }
      },
      "execution_count": 26,
      "outputs": [
        {
          "output_type": "execute_result",
          "data": {
            "text/plain": [
              "4     28164\n",
              "12     4968\n",
              "11     4711\n",
              "7      4581\n",
              "14     3820\n",
              "3      3640\n",
              "6       744\n",
              "21      702\n",
              "1       160\n",
              "Name: t1_champ1_sum1, dtype: int64"
            ]
          },
          "metadata": {},
          "execution_count": 26
        }
      ]
    },
    {
      "cell_type": "code",
      "source": [
        "[i for i in data_game.columns if 'sum' in i]"
      ],
      "metadata": {
        "id": "ewfdmHS01X0I",
        "outputId": "73a94bdd-abfa-4dc5-b92a-4ee527bff7fa",
        "colab": {
          "base_uri": "https://localhost:8080/"
        }
      },
      "execution_count": 25,
      "outputs": [
        {
          "output_type": "execute_result",
          "data": {
            "text/plain": [
              "['t1_champ1_sum1',\n",
              " 't1_champ1_sum2',\n",
              " 't1_champ2_sum1',\n",
              " 't1_champ2_sum2',\n",
              " 't1_champ3_sum1',\n",
              " 't1_champ3_sum2',\n",
              " 't1_champ4_sum1',\n",
              " 't1_champ4_sum2',\n",
              " 't1_champ5_sum1',\n",
              " 't1_champ5_sum2',\n",
              " 't2_champ1_sum1',\n",
              " 't2_champ1_sum2',\n",
              " 't2_champ2_sum1',\n",
              " 't2_champ2_sum2',\n",
              " 't2_champ3_sum1',\n",
              " 't2_champ3_sum2',\n",
              " 't2_champ4_sum1',\n",
              " 't2_champ4_sum2',\n",
              " 't2_champ5_sum1',\n",
              " 't2_champ5_sum2']"
            ]
          },
          "metadata": {},
          "execution_count": 25
        }
      ]
    },
    {
      "cell_type": "code",
      "source": [
        "data_game.t1_champ1_sum2.value_counts()"
      ],
      "metadata": {
        "id": "Jn_xaU-B43Fo",
        "outputId": "e5a6b6fe-57e6-4e15-c45d-ba0ec5f38720",
        "colab": {
          "base_uri": "https://localhost:8080/"
        }
      },
      "execution_count": 27,
      "outputs": [
        {
          "output_type": "execute_result",
          "data": {
            "text/plain": [
              "4     22216\n",
              "12     6395\n",
              "7      5758\n",
              "11     5635\n",
              "14     5205\n",
              "3      4394\n",
              "21      890\n",
              "6       798\n",
              "1       199\n",
              "Name: t1_champ1_sum2, dtype: int64"
            ]
          },
          "metadata": {},
          "execution_count": 27
        }
      ]
    },
    {
      "cell_type": "code",
      "source": [
        "data_spell.data"
      ],
      "metadata": {
        "id": "lVAEsYEN30NP",
        "outputId": "8e418368-5eca-457b-84d0-3dfb72d10177",
        "colab": {
          "base_uri": "https://localhost:8080/"
        }
      },
      "execution_count": 28,
      "outputs": [
        {
          "output_type": "execute_result",
          "data": {
            "text/plain": [
              "1     {'id': 1, 'summonerLevel': 6, 'name': 'Cleanse...\n",
              "11    {'id': 11, 'summonerLevel': 10, 'name': 'Smite...\n",
              "12    {'id': 12, 'summonerLevel': 6, 'name': 'Telepo...\n",
              "13    {'id': 13, 'summonerLevel': 1, 'name': 'Clarit...\n",
              "14    {'id': 14, 'summonerLevel': 10, 'name': 'Ignit...\n",
              "21    {'id': 21, 'summonerLevel': 4, 'name': 'Barrie...\n",
              "3     {'id': 3, 'summonerLevel': 4, 'name': 'Exhaust...\n",
              "30    {'id': 30, 'summonerLevel': 1, 'name': 'To the...\n",
              "31    {'id': 31, 'summonerLevel': 1, 'name': 'Poro T...\n",
              "32    {'id': 32, 'summonerLevel': 1, 'name': 'Mark',...\n",
              "33    {'id': 33, 'summonerLevel': 1, 'name': 'Nexus ...\n",
              "34    {'id': 34, 'summonerLevel': 1, 'name': 'Nexus ...\n",
              "35    {'id': 35, 'summonerLevel': 1, 'name': 'Disabl...\n",
              "36    {'id': 36, 'summonerLevel': 1, 'name': 'Disabl...\n",
              "4     {'id': 4, 'summonerLevel': 8, 'name': 'Flash',...\n",
              "6     {'id': 6, 'summonerLevel': 1, 'name': 'Ghost',...\n",
              "7     {'id': 7, 'summonerLevel': 1, 'name': 'Heal', ...\n",
              "Name: data, dtype: object"
            ]
          },
          "metadata": {},
          "execution_count": 28
        }
      ]
    },
    {
      "cell_type": "markdown",
      "source": [
        "# 롤 api 코드 구현 연습 (실현 못함 ㅠㅠ)"
      ],
      "metadata": {
        "id": "AFL9sYaBYNT2"
      }
    },
    {
      "cell_type": "markdown",
      "source": [
        "# 스펠은 불가능하니 total과 first로 모델링하기"
      ],
      "metadata": {
        "id": "3JVhgRxvYVFJ"
      }
    },
    {
      "cell_type": "markdown",
      "source": [
        "의문점) 스펠이 모델에 성능에 영향을 미칠지??"
      ],
      "metadata": {
        "id": "mP3kAdeWsvDc"
      }
    },
    {
      "cell_type": "markdown",
      "source": [
        "### 결측값은 없다"
      ],
      "metadata": {
        "id": "mlz3zElkufZs"
      }
    },
    {
      "cell_type": "code",
      "source": [
        "## 결측값이 있는지 확인하기\n",
        "\n",
        "data_game.isnull().sum()"
      ],
      "metadata": {
        "id": "zKCBOk_xuYdN",
        "outputId": "16696641-66ad-45c5-8cb6-d04a0ad7c381",
        "colab": {
          "base_uri": "https://localhost:8080/"
        }
      },
      "execution_count": 29,
      "outputs": [
        {
          "output_type": "execute_result",
          "data": {
            "text/plain": [
              "winner                0\n",
              "firstBlood            0\n",
              "firstTower            0\n",
              "firstInhibitor        0\n",
              "firstBaron            0\n",
              "firstDragon           0\n",
              "firstRiftHerald       0\n",
              "t1_champ1_sum1        0\n",
              "t1_champ1_sum2        0\n",
              "t1_champ2_sum1        0\n",
              "t1_champ2_sum2        0\n",
              "t1_champ3_sum1        0\n",
              "t1_champ3_sum2        0\n",
              "t1_champ4_sum1        0\n",
              "t1_champ4_sum2        0\n",
              "t1_champ5_sum1        0\n",
              "t1_champ5_sum2        0\n",
              "t1_towerKills         0\n",
              "t1_inhibitorKills     0\n",
              "t1_baronKills         0\n",
              "t1_dragonKills        0\n",
              "t1_riftHeraldKills    0\n",
              "t2_champ1_sum1        0\n",
              "t2_champ1_sum2        0\n",
              "t2_champ2_sum1        0\n",
              "t2_champ2_sum2        0\n",
              "t2_champ3_sum1        0\n",
              "t2_champ3_sum2        0\n",
              "t2_champ4_sum1        0\n",
              "t2_champ4_sum2        0\n",
              "t2_champ5_sum1        0\n",
              "t2_champ5_sum2        0\n",
              "t2_towerKills         0\n",
              "t2_inhibitorKills     0\n",
              "t2_baronKills         0\n",
              "t2_dragonKills        0\n",
              "t2_riftHeraldKills    0\n",
              "dtype: int64"
            ]
          },
          "metadata": {},
          "execution_count": 29
        }
      ]
    },
    {
      "cell_type": "markdown",
      "source": [
        "먼저 타겟(winner)를 이용한 기준 모델 만들기\n",
        "(타겟의 최빈값을 이용함)"
      ],
      "metadata": {
        "id": "BN6PdeZyvgaG"
      }
    },
    {
      "cell_type": "markdown",
      "source": [
        "기준모델 : 0.51"
      ],
      "metadata": {
        "id": "N8neF1WewDLD"
      }
    },
    {
      "cell_type": "code",
      "source": [
        "from sklearn.metrics import accuracy_score\n",
        "\n",
        "\n",
        "base_major  = data_game['winner'].mode()[0]\n",
        "y_pred_base = [base_major] * len(data_game['winner'])\n",
        "accuracy_score1 = accuracy_score(data_game['winner'], y_pred_base)\n",
        "accuracy_score1"
      ],
      "metadata": {
        "id": "SBFpcMv9vmk9",
        "outputId": "d8d38b31-6b22-4ef4-91c9-a879a17921fa",
        "colab": {
          "base_uri": "https://localhost:8080/"
        }
      },
      "execution_count": 30,
      "outputs": [
        {
          "output_type": "execute_result",
          "data": {
            "text/plain": [
              "0.5064478539522237"
            ]
          },
          "metadata": {},
          "execution_count": 30
        }
      ]
    },
    {
      "cell_type": "markdown",
      "source": [
        "### 학습 데이터, 검증데이터, 테스트 데이터로 나누기"
      ],
      "metadata": {
        "id": "3Kc8Jj1Z5bTZ"
      }
    },
    {
      "cell_type": "code",
      "source": [
        "from sklearn.model_selection import train_test_split\n",
        "\n",
        "\n",
        "train,test = train_test_split(data_game,test_size = 0.2, random_state = 42)"
      ],
      "metadata": {
        "id": "jGX3EhULwMAx"
      },
      "execution_count": 31,
      "outputs": []
    },
    {
      "cell_type": "code",
      "source": [
        "print(train.shape, test.shape)"
      ],
      "metadata": {
        "id": "3XFuncGH8Sio",
        "outputId": "af3716d1-1dec-47ec-c4ab-5b0507a6065d",
        "colab": {
          "base_uri": "https://localhost:8080/"
        }
      },
      "execution_count": 32,
      "outputs": [
        {
          "output_type": "stream",
          "name": "stdout",
          "text": [
            "(41192, 37) (10298, 37)\n"
          ]
        }
      ]
    },
    {
      "cell_type": "markdown",
      "source": [
        "피쳐와 타겟에 따라서 X_train,y_train,X_test,y_test 만들기"
      ],
      "metadata": {
        "id": "LyDiWDKw8ngj"
      }
    },
    {
      "cell_type": "code",
      "source": [
        "data_game.columns"
      ],
      "metadata": {
        "id": "j-xoaxHI-dBJ",
        "outputId": "0a88fcdf-4051-4045-9f53-4a7ed50939f5",
        "colab": {
          "base_uri": "https://localhost:8080/"
        }
      },
      "execution_count": 33,
      "outputs": [
        {
          "output_type": "execute_result",
          "data": {
            "text/plain": [
              "Index(['winner', 'firstBlood', 'firstTower', 'firstInhibitor', 'firstBaron',\n",
              "       'firstDragon', 'firstRiftHerald', 't1_champ1_sum1', 't1_champ1_sum2',\n",
              "       't1_champ2_sum1', 't1_champ2_sum2', 't1_champ3_sum1', 't1_champ3_sum2',\n",
              "       't1_champ4_sum1', 't1_champ4_sum2', 't1_champ5_sum1', 't1_champ5_sum2',\n",
              "       't1_towerKills', 't1_inhibitorKills', 't1_baronKills', 't1_dragonKills',\n",
              "       't1_riftHeraldKills', 't2_champ1_sum1', 't2_champ1_sum2',\n",
              "       't2_champ2_sum1', 't2_champ2_sum2', 't2_champ3_sum1', 't2_champ3_sum2',\n",
              "       't2_champ4_sum1', 't2_champ4_sum2', 't2_champ5_sum1', 't2_champ5_sum2',\n",
              "       't2_towerKills', 't2_inhibitorKills', 't2_baronKills', 't2_dragonKills',\n",
              "       't2_riftHeraldKills'],\n",
              "      dtype='object')"
            ]
          },
          "metadata": {},
          "execution_count": 33
        }
      ]
    },
    {
      "cell_type": "markdown",
      "source": [
        "### 우선 스펠 관련 특성이 굉장히 많은데 이 역시 포함해서 모델을 만들어보고 이후에 빼서 모델을 만들어 보자"
      ],
      "metadata": {
        "id": "Xc8i3HsB-_5S"
      }
    },
    {
      "cell_type": "markdown",
      "source": [
        "학습데이터와 테스트 데이터 나누기"
      ],
      "metadata": {
        "id": "bh96aJnLh5Ub"
      }
    },
    {
      "cell_type": "code",
      "source": [
        "features = data_game.drop(columns = 'winner').columns\n",
        "target = 'winner'\n",
        "\n",
        "\n",
        "X_train = train[features]\n",
        "y_train = train[target]\n",
        "\n",
        "X_test = test[features]\n",
        "y_test = test[target]\n"
      ],
      "metadata": {
        "id": "Q3rJMV49-Z0r"
      },
      "execution_count": 34,
      "outputs": []
    },
    {
      "cell_type": "code",
      "source": [
        "data_game.columns"
      ],
      "metadata": {
        "id": "xPkdUT35lc4O",
        "outputId": "e2546a75-08b1-4989-d8b7-57d3f5325507",
        "colab": {
          "base_uri": "https://localhost:8080/"
        }
      },
      "execution_count": 35,
      "outputs": [
        {
          "output_type": "execute_result",
          "data": {
            "text/plain": [
              "Index(['winner', 'firstBlood', 'firstTower', 'firstInhibitor', 'firstBaron',\n",
              "       'firstDragon', 'firstRiftHerald', 't1_champ1_sum1', 't1_champ1_sum2',\n",
              "       't1_champ2_sum1', 't1_champ2_sum2', 't1_champ3_sum1', 't1_champ3_sum2',\n",
              "       't1_champ4_sum1', 't1_champ4_sum2', 't1_champ5_sum1', 't1_champ5_sum2',\n",
              "       't1_towerKills', 't1_inhibitorKills', 't1_baronKills', 't1_dragonKills',\n",
              "       't1_riftHeraldKills', 't2_champ1_sum1', 't2_champ1_sum2',\n",
              "       't2_champ2_sum1', 't2_champ2_sum2', 't2_champ3_sum1', 't2_champ3_sum2',\n",
              "       't2_champ4_sum1', 't2_champ4_sum2', 't2_champ5_sum1', 't2_champ5_sum2',\n",
              "       't2_towerKills', 't2_inhibitorKills', 't2_baronKills', 't2_dragonKills',\n",
              "       't2_riftHeraldKills'],\n",
              "      dtype='object')"
            ]
          },
          "metadata": {},
          "execution_count": 35
        }
      ]
    },
    {
      "cell_type": "markdown",
      "source": [
        "수치데이터 - 총 타워킬, 총 용 킬 등등\n",
        "\n",
        "범주형데이터 - 첫번째 용을 먹었나? (1/0) 등등"
      ],
      "metadata": {
        "id": "pFe7UVeclDbd"
      }
    },
    {
      "cell_type": "code",
      "source": [],
      "metadata": {
        "id": "idaI9Xu8k7TG"
      },
      "execution_count": 35,
      "outputs": []
    }
  ]
}