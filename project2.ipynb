{
  "nbformat": 4,
  "nbformat_minor": 0,
  "metadata": {
    "colab": {
      "provenance": [],
      "mount_file_id": "https://github.com/youngwoo3283/project2-section02/blob/main/project2.ipynb",
      "authorship_tag": "ABX9TyP4HikbQW0gWYIeHm4ybe12",
      "include_colab_link": true
    },
    "kernelspec": {
      "name": "python3",
      "display_name": "Python 3"
    },
    "language_info": {
      "name": "python"
    }
  },
  "cells": [
    {
      "cell_type": "markdown",
      "metadata": {
        "id": "view-in-github",
        "colab_type": "text"
      },
      "source": [
        "<a href=\"https://colab.research.google.com/github/youngwoo3283/project2-section02/blob/main/project2.ipynb\" target=\"_parent\"><img src=\"https://colab.research.google.com/assets/colab-badge.svg\" alt=\"Open In Colab\"/></a>"
      ]
    },
    {
      "cell_type": "markdown",
      "source": [
        "# 롤 데이터를 이용한 승부예측\n",
        "\n",
        "- 사용할 데이터셋 : 최상위 티어의 경기 기록\n",
        "\n",
        "- 문제 정의 : 프로팀에서 승률을 올리기 위한 전략의 필요성\n",
        "\n",
        "- 시나리오 : 롤 프로팀에서 승률이 안 좋은 팀을 위해서 데이터를 분석한 전략을 세우려고 한다. 프로게이머팀은 승률이 높아야 인기가 많으며 스폰서 및 광고를 통해서 수익을 올릴 수 있기 때문에 승리가 중요하다.\n",
        "   - 이때 승리/패배의 이진 분류를 사용한다.\n",
        "   - 타겟값 : 게임의 승리/패배\n"
      ],
      "metadata": {
        "id": "ErEqosZ6hPYV"
      }
    },
    {
      "cell_type": "markdown",
      "source": [
        "## 가설 \n",
        "- 4용을 처치하는게 유리하여서 4용이 게임에 승패에 영향을 미칠 것이다.\n",
        "- 첫번째 타워를 부수는 것이 승패에 영향을 미칠 것이다.\n",
        "- 게임이 길어지면 승패에 영향을 미칠까??\n",
        "\n",
        "\n",
        "- 스펠은 어떤 것을 많이 들고 영향이 있을까?\n",
        "- 어떤 챔피언이 픽률이 좋고 어떤 챔피언이 밴을 가장 잘 될까??"
      ],
      "metadata": {
        "id": "s_4f0NW3jLUj"
      }
    },
    {
      "cell_type": "code",
      "execution_count": 86,
      "metadata": {
        "id": "9I3133zrjQ_o"
      },
      "outputs": [],
      "source": []
    },
    {
      "cell_type": "code",
      "source": [
        "from google.colab import drive\n",
        "drive.mount('/content/drive')"
      ],
      "metadata": {
        "colab": {
          "base_uri": "https://localhost:8080/"
        },
        "id": "deyYFL9hrMEr",
        "outputId": "b0c49d0b-9589-43f2-8694-7569c121652d"
      },
      "execution_count": 87,
      "outputs": [
        {
          "output_type": "stream",
          "name": "stdout",
          "text": [
            "Drive already mounted at /content/drive; to attempt to forcibly remount, call drive.mount(\"/content/drive\", force_remount=True).\n"
          ]
        }
      ]
    },
    {
      "cell_type": "code",
      "source": [
        "import pandas as pd\n",
        "import numpy as np\n",
        "import matplotlib.pyplot as plt\n",
        "import seaborn as sns\n",
        "\n",
        "data_game = pd.read_csv('/content/drive/MyDrive/archive (2)/games.csv')"
      ],
      "metadata": {
        "id": "0GllnZo0kWOR"
      },
      "execution_count": 88,
      "outputs": []
    },
    {
      "cell_type": "markdown",
      "source": [
        "# 데이터 준비하기\n",
        " - 타겟 : winner"
      ],
      "metadata": {
        "id": "boILxN5nwGZe"
      }
    },
    {
      "cell_type": "code",
      "source": [
        "data_game.head()"
      ],
      "metadata": {
        "colab": {
          "base_uri": "https://localhost:8080/",
          "height": 0
        },
        "id": "cUg7kqXkkfiu",
        "outputId": "dfb8feb1-f6ed-4186-aadb-bd410f881f12"
      },
      "execution_count": 89,
      "outputs": [
        {
          "output_type": "execute_result",
          "data": {
            "text/plain": [
              "       gameId   creationTime  gameDuration  seasonId  winner  firstBlood  \\\n",
              "0  3326086514  1504279457970          1949         9       1           2   \n",
              "1  3229566029  1497848803862          1851         9       1           1   \n",
              "2  3327363504  1504360103310          1493         9       1           2   \n",
              "3  3326856598  1504348503996          1758         9       1           1   \n",
              "4  3330080762  1504554410899          2094         9       1           2   \n",
              "\n",
              "   firstTower  firstInhibitor  firstBaron  firstDragon  ...  t2_towerKills  \\\n",
              "0           1               1           1            1  ...              5   \n",
              "1           1               1           0            1  ...              2   \n",
              "2           1               1           1            2  ...              2   \n",
              "3           1               1           1            1  ...              0   \n",
              "4           1               1           1            1  ...              3   \n",
              "\n",
              "   t2_inhibitorKills  t2_baronKills  t2_dragonKills  t2_riftHeraldKills  \\\n",
              "0                  0              0               1                   1   \n",
              "1                  0              0               0                   0   \n",
              "2                  0              0               1                   0   \n",
              "3                  0              0               0                   0   \n",
              "4                  0              0               1                   0   \n",
              "\n",
              "   t2_ban1  t2_ban2  t2_ban3  t2_ban4  t2_ban5  \n",
              "0      114       67       43       16       51  \n",
              "1       11       67      238       51      420  \n",
              "2      157      238      121       57       28  \n",
              "3      164       18      141       40       51  \n",
              "4       86       11      201      122       18  \n",
              "\n",
              "[5 rows x 61 columns]"
            ],
            "text/html": [
              "\n",
              "  <div id=\"df-0dcc2304-f746-4479-8e75-20d831ae0f01\">\n",
              "    <div class=\"colab-df-container\">\n",
              "      <div>\n",
              "<style scoped>\n",
              "    .dataframe tbody tr th:only-of-type {\n",
              "        vertical-align: middle;\n",
              "    }\n",
              "\n",
              "    .dataframe tbody tr th {\n",
              "        vertical-align: top;\n",
              "    }\n",
              "\n",
              "    .dataframe thead th {\n",
              "        text-align: right;\n",
              "    }\n",
              "</style>\n",
              "<table border=\"1\" class=\"dataframe\">\n",
              "  <thead>\n",
              "    <tr style=\"text-align: right;\">\n",
              "      <th></th>\n",
              "      <th>gameId</th>\n",
              "      <th>creationTime</th>\n",
              "      <th>gameDuration</th>\n",
              "      <th>seasonId</th>\n",
              "      <th>winner</th>\n",
              "      <th>firstBlood</th>\n",
              "      <th>firstTower</th>\n",
              "      <th>firstInhibitor</th>\n",
              "      <th>firstBaron</th>\n",
              "      <th>firstDragon</th>\n",
              "      <th>...</th>\n",
              "      <th>t2_towerKills</th>\n",
              "      <th>t2_inhibitorKills</th>\n",
              "      <th>t2_baronKills</th>\n",
              "      <th>t2_dragonKills</th>\n",
              "      <th>t2_riftHeraldKills</th>\n",
              "      <th>t2_ban1</th>\n",
              "      <th>t2_ban2</th>\n",
              "      <th>t2_ban3</th>\n",
              "      <th>t2_ban4</th>\n",
              "      <th>t2_ban5</th>\n",
              "    </tr>\n",
              "  </thead>\n",
              "  <tbody>\n",
              "    <tr>\n",
              "      <th>0</th>\n",
              "      <td>3326086514</td>\n",
              "      <td>1504279457970</td>\n",
              "      <td>1949</td>\n",
              "      <td>9</td>\n",
              "      <td>1</td>\n",
              "      <td>2</td>\n",
              "      <td>1</td>\n",
              "      <td>1</td>\n",
              "      <td>1</td>\n",
              "      <td>1</td>\n",
              "      <td>...</td>\n",
              "      <td>5</td>\n",
              "      <td>0</td>\n",
              "      <td>0</td>\n",
              "      <td>1</td>\n",
              "      <td>1</td>\n",
              "      <td>114</td>\n",
              "      <td>67</td>\n",
              "      <td>43</td>\n",
              "      <td>16</td>\n",
              "      <td>51</td>\n",
              "    </tr>\n",
              "    <tr>\n",
              "      <th>1</th>\n",
              "      <td>3229566029</td>\n",
              "      <td>1497848803862</td>\n",
              "      <td>1851</td>\n",
              "      <td>9</td>\n",
              "      <td>1</td>\n",
              "      <td>1</td>\n",
              "      <td>1</td>\n",
              "      <td>1</td>\n",
              "      <td>0</td>\n",
              "      <td>1</td>\n",
              "      <td>...</td>\n",
              "      <td>2</td>\n",
              "      <td>0</td>\n",
              "      <td>0</td>\n",
              "      <td>0</td>\n",
              "      <td>0</td>\n",
              "      <td>11</td>\n",
              "      <td>67</td>\n",
              "      <td>238</td>\n",
              "      <td>51</td>\n",
              "      <td>420</td>\n",
              "    </tr>\n",
              "    <tr>\n",
              "      <th>2</th>\n",
              "      <td>3327363504</td>\n",
              "      <td>1504360103310</td>\n",
              "      <td>1493</td>\n",
              "      <td>9</td>\n",
              "      <td>1</td>\n",
              "      <td>2</td>\n",
              "      <td>1</td>\n",
              "      <td>1</td>\n",
              "      <td>1</td>\n",
              "      <td>2</td>\n",
              "      <td>...</td>\n",
              "      <td>2</td>\n",
              "      <td>0</td>\n",
              "      <td>0</td>\n",
              "      <td>1</td>\n",
              "      <td>0</td>\n",
              "      <td>157</td>\n",
              "      <td>238</td>\n",
              "      <td>121</td>\n",
              "      <td>57</td>\n",
              "      <td>28</td>\n",
              "    </tr>\n",
              "    <tr>\n",
              "      <th>3</th>\n",
              "      <td>3326856598</td>\n",
              "      <td>1504348503996</td>\n",
              "      <td>1758</td>\n",
              "      <td>9</td>\n",
              "      <td>1</td>\n",
              "      <td>1</td>\n",
              "      <td>1</td>\n",
              "      <td>1</td>\n",
              "      <td>1</td>\n",
              "      <td>1</td>\n",
              "      <td>...</td>\n",
              "      <td>0</td>\n",
              "      <td>0</td>\n",
              "      <td>0</td>\n",
              "      <td>0</td>\n",
              "      <td>0</td>\n",
              "      <td>164</td>\n",
              "      <td>18</td>\n",
              "      <td>141</td>\n",
              "      <td>40</td>\n",
              "      <td>51</td>\n",
              "    </tr>\n",
              "    <tr>\n",
              "      <th>4</th>\n",
              "      <td>3330080762</td>\n",
              "      <td>1504554410899</td>\n",
              "      <td>2094</td>\n",
              "      <td>9</td>\n",
              "      <td>1</td>\n",
              "      <td>2</td>\n",
              "      <td>1</td>\n",
              "      <td>1</td>\n",
              "      <td>1</td>\n",
              "      <td>1</td>\n",
              "      <td>...</td>\n",
              "      <td>3</td>\n",
              "      <td>0</td>\n",
              "      <td>0</td>\n",
              "      <td>1</td>\n",
              "      <td>0</td>\n",
              "      <td>86</td>\n",
              "      <td>11</td>\n",
              "      <td>201</td>\n",
              "      <td>122</td>\n",
              "      <td>18</td>\n",
              "    </tr>\n",
              "  </tbody>\n",
              "</table>\n",
              "<p>5 rows × 61 columns</p>\n",
              "</div>\n",
              "      <button class=\"colab-df-convert\" onclick=\"convertToInteractive('df-0dcc2304-f746-4479-8e75-20d831ae0f01')\"\n",
              "              title=\"Convert this dataframe to an interactive table.\"\n",
              "              style=\"display:none;\">\n",
              "        \n",
              "  <svg xmlns=\"http://www.w3.org/2000/svg\" height=\"24px\"viewBox=\"0 0 24 24\"\n",
              "       width=\"24px\">\n",
              "    <path d=\"M0 0h24v24H0V0z\" fill=\"none\"/>\n",
              "    <path d=\"M18.56 5.44l.94 2.06.94-2.06 2.06-.94-2.06-.94-.94-2.06-.94 2.06-2.06.94zm-11 1L8.5 8.5l.94-2.06 2.06-.94-2.06-.94L8.5 2.5l-.94 2.06-2.06.94zm10 10l.94 2.06.94-2.06 2.06-.94-2.06-.94-.94-2.06-.94 2.06-2.06.94z\"/><path d=\"M17.41 7.96l-1.37-1.37c-.4-.4-.92-.59-1.43-.59-.52 0-1.04.2-1.43.59L10.3 9.45l-7.72 7.72c-.78.78-.78 2.05 0 2.83L4 21.41c.39.39.9.59 1.41.59.51 0 1.02-.2 1.41-.59l7.78-7.78 2.81-2.81c.8-.78.8-2.07 0-2.86zM5.41 20L4 18.59l7.72-7.72 1.47 1.35L5.41 20z\"/>\n",
              "  </svg>\n",
              "      </button>\n",
              "      \n",
              "  <style>\n",
              "    .colab-df-container {\n",
              "      display:flex;\n",
              "      flex-wrap:wrap;\n",
              "      gap: 12px;\n",
              "    }\n",
              "\n",
              "    .colab-df-convert {\n",
              "      background-color: #E8F0FE;\n",
              "      border: none;\n",
              "      border-radius: 50%;\n",
              "      cursor: pointer;\n",
              "      display: none;\n",
              "      fill: #1967D2;\n",
              "      height: 32px;\n",
              "      padding: 0 0 0 0;\n",
              "      width: 32px;\n",
              "    }\n",
              "\n",
              "    .colab-df-convert:hover {\n",
              "      background-color: #E2EBFA;\n",
              "      box-shadow: 0px 1px 2px rgba(60, 64, 67, 0.3), 0px 1px 3px 1px rgba(60, 64, 67, 0.15);\n",
              "      fill: #174EA6;\n",
              "    }\n",
              "\n",
              "    [theme=dark] .colab-df-convert {\n",
              "      background-color: #3B4455;\n",
              "      fill: #D2E3FC;\n",
              "    }\n",
              "\n",
              "    [theme=dark] .colab-df-convert:hover {\n",
              "      background-color: #434B5C;\n",
              "      box-shadow: 0px 1px 3px 1px rgba(0, 0, 0, 0.15);\n",
              "      filter: drop-shadow(0px 1px 2px rgba(0, 0, 0, 0.3));\n",
              "      fill: #FFFFFF;\n",
              "    }\n",
              "  </style>\n",
              "\n",
              "      <script>\n",
              "        const buttonEl =\n",
              "          document.querySelector('#df-0dcc2304-f746-4479-8e75-20d831ae0f01 button.colab-df-convert');\n",
              "        buttonEl.style.display =\n",
              "          google.colab.kernel.accessAllowed ? 'block' : 'none';\n",
              "\n",
              "        async function convertToInteractive(key) {\n",
              "          const element = document.querySelector('#df-0dcc2304-f746-4479-8e75-20d831ae0f01');\n",
              "          const dataTable =\n",
              "            await google.colab.kernel.invokeFunction('convertToInteractive',\n",
              "                                                     [key], {});\n",
              "          if (!dataTable) return;\n",
              "\n",
              "          const docLinkHtml = 'Like what you see? Visit the ' +\n",
              "            '<a target=\"_blank\" href=https://colab.research.google.com/notebooks/data_table.ipynb>data table notebook</a>'\n",
              "            + ' to learn more about interactive tables.';\n",
              "          element.innerHTML = '';\n",
              "          dataTable['output_type'] = 'display_data';\n",
              "          await google.colab.output.renderOutput(dataTable, element);\n",
              "          const docLink = document.createElement('div');\n",
              "          docLink.innerHTML = docLinkHtml;\n",
              "          element.appendChild(docLink);\n",
              "        }\n",
              "      </script>\n",
              "    </div>\n",
              "  </div>\n",
              "  "
            ]
          },
          "metadata": {},
          "execution_count": 89
        }
      ]
    },
    {
      "cell_type": "code",
      "source": [
        "data_champ = pd.read_json('/content/drive/MyDrive/archive (2)/champion_info.json')"
      ],
      "metadata": {
        "id": "DtsSZGP2krI5"
      },
      "execution_count": 90,
      "outputs": []
    },
    {
      "cell_type": "code",
      "source": [
        "data_champ2 = pd.read_json('/content/drive/MyDrive/archive (2)/champion_info_2.json')"
      ],
      "metadata": {
        "id": "3v1Q2sNRlxFg"
      },
      "execution_count": 91,
      "outputs": []
    },
    {
      "cell_type": "code",
      "source": [
        "data_spell = pd.read_json('/content/drive/MyDrive/archive (2)/summoner_spell_info.json')"
      ],
      "metadata": {
        "id": "MhYqguGTl1cq"
      },
      "execution_count": 92,
      "outputs": []
    },
    {
      "cell_type": "code",
      "source": [
        "champInfo = pd.read_json((data_champ['data']).to_json(), orient='index') "
      ],
      "metadata": {
        "id": "64W-JwximEkV"
      },
      "execution_count": 93,
      "outputs": []
    },
    {
      "cell_type": "code",
      "source": [
        "champInfo2 = pd.read_json((data_champ2[\"data\"]).to_json(),orient = \"index\")"
      ],
      "metadata": {
        "id": "4RbY9V1-mIz_"
      },
      "execution_count": 94,
      "outputs": []
    },
    {
      "cell_type": "code",
      "source": [
        "\n",
        "data_spell_info = pd.read_json((data_spell['data']).to_json(), orient='index')\n",
        "\n",
        "data_game2 = pd.read_csv('/content/drive/MyDrive/archive (2)/games.csv')\n",
        "\n",
        "winner = data_game2[[\"winner\"]]\n",
        "winner = winner.T\n",
        "winner.shape"
      ],
      "metadata": {
        "colab": {
          "base_uri": "https://localhost:8080/"
        },
        "id": "9zvZPVqEmNM7",
        "outputId": "fb5010b2-15bd-47dd-c673-cd4f2a9d8631"
      },
      "execution_count": 95,
      "outputs": [
        {
          "output_type": "execute_result",
          "data": {
            "text/plain": [
              "(1, 51490)"
            ]
          },
          "metadata": {},
          "execution_count": 95
        }
      ]
    },
    {
      "cell_type": "code",
      "source": [
        "name_dict = pd.Series(champInfo.key.values,index=champInfo.id).to_dict()"
      ],
      "metadata": {
        "id": "HzFJhLhRnDud"
      },
      "execution_count": 96,
      "outputs": []
    },
    {
      "cell_type": "code",
      "source": [
        "champInfo2"
      ],
      "metadata": {
        "colab": {
          "base_uri": "https://localhost:8080/",
          "height": 0
        },
        "id": "TduWROBTnVbQ",
        "outputId": "82bd14df-bbb5-45a6-9576-b52b7a50854b"
      },
      "execution_count": 97,
      "outputs": [
        {
          "output_type": "execute_result",
          "data": {
            "text/plain": [
              "                        tags                   title   id      key     name\n",
              "Aatrox       [Fighter, Tank]        the Darkin Blade  266   Aatrox   Aatrox\n",
              "Ahri        [Mage, Assassin]     the Nine-Tailed Fox  103     Ahri     Ahri\n",
              "Akali             [Assassin]      the Fist of Shadow   84    Akali    Akali\n",
              "Alistar      [Tank, Support]            the Minotaur   12  Alistar  Alistar\n",
              "Amumu           [Tank, Mage]           the Sad Mummy   32    Amumu    Amumu\n",
              "...                      ...                     ...  ...      ...      ...\n",
              "Zac          [Tank, Fighter]       the Secret Weapon  154      Zac      Zac\n",
              "Zed      [Assassin, Fighter]   the Master of Shadows  238      Zed      Zed\n",
              "Ziggs                 [Mage]  the Hexplosives Expert  115    Ziggs    Ziggs\n",
              "Zilean       [Support, Mage]        the Chronokeeper   26   Zilean   Zilean\n",
              "Zyra         [Mage, Support]      Rise of the Thorns  143     Zyra     Zyra\n",
              "\n",
              "[139 rows x 5 columns]"
            ],
            "text/html": [
              "\n",
              "  <div id=\"df-18a82773-f9ad-43e6-81ec-53b2e218bf8a\">\n",
              "    <div class=\"colab-df-container\">\n",
              "      <div>\n",
              "<style scoped>\n",
              "    .dataframe tbody tr th:only-of-type {\n",
              "        vertical-align: middle;\n",
              "    }\n",
              "\n",
              "    .dataframe tbody tr th {\n",
              "        vertical-align: top;\n",
              "    }\n",
              "\n",
              "    .dataframe thead th {\n",
              "        text-align: right;\n",
              "    }\n",
              "</style>\n",
              "<table border=\"1\" class=\"dataframe\">\n",
              "  <thead>\n",
              "    <tr style=\"text-align: right;\">\n",
              "      <th></th>\n",
              "      <th>tags</th>\n",
              "      <th>title</th>\n",
              "      <th>id</th>\n",
              "      <th>key</th>\n",
              "      <th>name</th>\n",
              "    </tr>\n",
              "  </thead>\n",
              "  <tbody>\n",
              "    <tr>\n",
              "      <th>Aatrox</th>\n",
              "      <td>[Fighter, Tank]</td>\n",
              "      <td>the Darkin Blade</td>\n",
              "      <td>266</td>\n",
              "      <td>Aatrox</td>\n",
              "      <td>Aatrox</td>\n",
              "    </tr>\n",
              "    <tr>\n",
              "      <th>Ahri</th>\n",
              "      <td>[Mage, Assassin]</td>\n",
              "      <td>the Nine-Tailed Fox</td>\n",
              "      <td>103</td>\n",
              "      <td>Ahri</td>\n",
              "      <td>Ahri</td>\n",
              "    </tr>\n",
              "    <tr>\n",
              "      <th>Akali</th>\n",
              "      <td>[Assassin]</td>\n",
              "      <td>the Fist of Shadow</td>\n",
              "      <td>84</td>\n",
              "      <td>Akali</td>\n",
              "      <td>Akali</td>\n",
              "    </tr>\n",
              "    <tr>\n",
              "      <th>Alistar</th>\n",
              "      <td>[Tank, Support]</td>\n",
              "      <td>the Minotaur</td>\n",
              "      <td>12</td>\n",
              "      <td>Alistar</td>\n",
              "      <td>Alistar</td>\n",
              "    </tr>\n",
              "    <tr>\n",
              "      <th>Amumu</th>\n",
              "      <td>[Tank, Mage]</td>\n",
              "      <td>the Sad Mummy</td>\n",
              "      <td>32</td>\n",
              "      <td>Amumu</td>\n",
              "      <td>Amumu</td>\n",
              "    </tr>\n",
              "    <tr>\n",
              "      <th>...</th>\n",
              "      <td>...</td>\n",
              "      <td>...</td>\n",
              "      <td>...</td>\n",
              "      <td>...</td>\n",
              "      <td>...</td>\n",
              "    </tr>\n",
              "    <tr>\n",
              "      <th>Zac</th>\n",
              "      <td>[Tank, Fighter]</td>\n",
              "      <td>the Secret Weapon</td>\n",
              "      <td>154</td>\n",
              "      <td>Zac</td>\n",
              "      <td>Zac</td>\n",
              "    </tr>\n",
              "    <tr>\n",
              "      <th>Zed</th>\n",
              "      <td>[Assassin, Fighter]</td>\n",
              "      <td>the Master of Shadows</td>\n",
              "      <td>238</td>\n",
              "      <td>Zed</td>\n",
              "      <td>Zed</td>\n",
              "    </tr>\n",
              "    <tr>\n",
              "      <th>Ziggs</th>\n",
              "      <td>[Mage]</td>\n",
              "      <td>the Hexplosives Expert</td>\n",
              "      <td>115</td>\n",
              "      <td>Ziggs</td>\n",
              "      <td>Ziggs</td>\n",
              "    </tr>\n",
              "    <tr>\n",
              "      <th>Zilean</th>\n",
              "      <td>[Support, Mage]</td>\n",
              "      <td>the Chronokeeper</td>\n",
              "      <td>26</td>\n",
              "      <td>Zilean</td>\n",
              "      <td>Zilean</td>\n",
              "    </tr>\n",
              "    <tr>\n",
              "      <th>Zyra</th>\n",
              "      <td>[Mage, Support]</td>\n",
              "      <td>Rise of the Thorns</td>\n",
              "      <td>143</td>\n",
              "      <td>Zyra</td>\n",
              "      <td>Zyra</td>\n",
              "    </tr>\n",
              "  </tbody>\n",
              "</table>\n",
              "<p>139 rows × 5 columns</p>\n",
              "</div>\n",
              "      <button class=\"colab-df-convert\" onclick=\"convertToInteractive('df-18a82773-f9ad-43e6-81ec-53b2e218bf8a')\"\n",
              "              title=\"Convert this dataframe to an interactive table.\"\n",
              "              style=\"display:none;\">\n",
              "        \n",
              "  <svg xmlns=\"http://www.w3.org/2000/svg\" height=\"24px\"viewBox=\"0 0 24 24\"\n",
              "       width=\"24px\">\n",
              "    <path d=\"M0 0h24v24H0V0z\" fill=\"none\"/>\n",
              "    <path d=\"M18.56 5.44l.94 2.06.94-2.06 2.06-.94-2.06-.94-.94-2.06-.94 2.06-2.06.94zm-11 1L8.5 8.5l.94-2.06 2.06-.94-2.06-.94L8.5 2.5l-.94 2.06-2.06.94zm10 10l.94 2.06.94-2.06 2.06-.94-2.06-.94-.94-2.06-.94 2.06-2.06.94z\"/><path d=\"M17.41 7.96l-1.37-1.37c-.4-.4-.92-.59-1.43-.59-.52 0-1.04.2-1.43.59L10.3 9.45l-7.72 7.72c-.78.78-.78 2.05 0 2.83L4 21.41c.39.39.9.59 1.41.59.51 0 1.02-.2 1.41-.59l7.78-7.78 2.81-2.81c.8-.78.8-2.07 0-2.86zM5.41 20L4 18.59l7.72-7.72 1.47 1.35L5.41 20z\"/>\n",
              "  </svg>\n",
              "      </button>\n",
              "      \n",
              "  <style>\n",
              "    .colab-df-container {\n",
              "      display:flex;\n",
              "      flex-wrap:wrap;\n",
              "      gap: 12px;\n",
              "    }\n",
              "\n",
              "    .colab-df-convert {\n",
              "      background-color: #E8F0FE;\n",
              "      border: none;\n",
              "      border-radius: 50%;\n",
              "      cursor: pointer;\n",
              "      display: none;\n",
              "      fill: #1967D2;\n",
              "      height: 32px;\n",
              "      padding: 0 0 0 0;\n",
              "      width: 32px;\n",
              "    }\n",
              "\n",
              "    .colab-df-convert:hover {\n",
              "      background-color: #E2EBFA;\n",
              "      box-shadow: 0px 1px 2px rgba(60, 64, 67, 0.3), 0px 1px 3px 1px rgba(60, 64, 67, 0.15);\n",
              "      fill: #174EA6;\n",
              "    }\n",
              "\n",
              "    [theme=dark] .colab-df-convert {\n",
              "      background-color: #3B4455;\n",
              "      fill: #D2E3FC;\n",
              "    }\n",
              "\n",
              "    [theme=dark] .colab-df-convert:hover {\n",
              "      background-color: #434B5C;\n",
              "      box-shadow: 0px 1px 3px 1px rgba(0, 0, 0, 0.15);\n",
              "      filter: drop-shadow(0px 1px 2px rgba(0, 0, 0, 0.3));\n",
              "      fill: #FFFFFF;\n",
              "    }\n",
              "  </style>\n",
              "\n",
              "      <script>\n",
              "        const buttonEl =\n",
              "          document.querySelector('#df-18a82773-f9ad-43e6-81ec-53b2e218bf8a button.colab-df-convert');\n",
              "        buttonEl.style.display =\n",
              "          google.colab.kernel.accessAllowed ? 'block' : 'none';\n",
              "\n",
              "        async function convertToInteractive(key) {\n",
              "          const element = document.querySelector('#df-18a82773-f9ad-43e6-81ec-53b2e218bf8a');\n",
              "          const dataTable =\n",
              "            await google.colab.kernel.invokeFunction('convertToInteractive',\n",
              "                                                     [key], {});\n",
              "          if (!dataTable) return;\n",
              "\n",
              "          const docLinkHtml = 'Like what you see? Visit the ' +\n",
              "            '<a target=\"_blank\" href=https://colab.research.google.com/notebooks/data_table.ipynb>data table notebook</a>'\n",
              "            + ' to learn more about interactive tables.';\n",
              "          element.innerHTML = '';\n",
              "          dataTable['output_type'] = 'display_data';\n",
              "          await google.colab.output.renderOutput(dataTable, element);\n",
              "          const docLink = document.createElement('div');\n",
              "          docLink.innerHTML = docLinkHtml;\n",
              "          element.appendChild(docLink);\n",
              "        }\n",
              "      </script>\n",
              "    </div>\n",
              "  </div>\n",
              "  "
            ]
          },
          "metadata": {},
          "execution_count": 97
        }
      ]
    },
    {
      "cell_type": "code",
      "source": [
        "data_game.winner"
      ],
      "metadata": {
        "colab": {
          "base_uri": "https://localhost:8080/"
        },
        "id": "3hPb0PY9vKh4",
        "outputId": "aff70f80-5442-4d41-b7eb-7fb662894702"
      },
      "execution_count": 98,
      "outputs": [
        {
          "output_type": "execute_result",
          "data": {
            "text/plain": [
              "0        1\n",
              "1        1\n",
              "2        1\n",
              "3        1\n",
              "4        1\n",
              "        ..\n",
              "51485    2\n",
              "51486    2\n",
              "51487    2\n",
              "51488    2\n",
              "51489    1\n",
              "Name: winner, Length: 51490, dtype: int64"
            ]
          },
          "metadata": {},
          "execution_count": 98
        }
      ]
    },
    {
      "cell_type": "markdown",
      "source": [
        "# 데이터 전처리하기"
      ],
      "metadata": {
        "id": "s5ayp1xfwC7y"
      }
    },
    {
      "cell_type": "markdown",
      "source": [
        "먼저 타겟값의 불균형을 확인하자\n",
        "- 1은 1팀이 이겼다는 뜻이고 2는 2팀이 이겼다는 뜻이다\n",
        "- 딱 봐도 비슷하니 딱히 불균형 해소를 위한 스케일링은 필요없다"
      ],
      "metadata": {
        "id": "N9aX1z7BlDeG"
      }
    },
    {
      "cell_type": "code",
      "source": [
        "data_game.winner.value_counts()"
      ],
      "metadata": {
        "colab": {
          "base_uri": "https://localhost:8080/"
        },
        "id": "r8f5wI2glGdU",
        "outputId": "94ab373f-8a75-44ee-fa72-6540187e73cf"
      },
      "execution_count": 99,
      "outputs": [
        {
          "output_type": "execute_result",
          "data": {
            "text/plain": [
              "1    26077\n",
              "2    25413\n",
              "Name: winner, dtype: int64"
            ]
          },
          "metadata": {},
          "execution_count": 99
        }
      ]
    },
    {
      "cell_type": "markdown",
      "source": [
        "(보류)이때 원활한 분석을 위해서 타겟을 1과 2에서 1과 0으로 바꾼다\n",
        "- 1팀을 기준으로 해서 1팀이 이기면 그냥 1로 2팀이 이기면 0으로 바꾸자\n",
        "- 타겟에 2씩 뺀다 그럼 2는 0이 되고 1은 -1이 되는데 이때 abs()로 절대값으로 1로 바꿔준다"
      ],
      "metadata": {
        "id": "1y5BMdLSAGD9"
      }
    },
    {
      "cell_type": "code",
      "source": [
        "#data_game.winner = abs(data_game.winner - 2)"
      ],
      "metadata": {
        "id": "fAld9d9XBVrj"
      },
      "execution_count": 100,
      "outputs": []
    },
    {
      "cell_type": "code",
      "source": [
        "#data_game.winner"
      ],
      "metadata": {
        "id": "aChxvyrDBDuL"
      },
      "execution_count": 101,
      "outputs": []
    },
    {
      "cell_type": "markdown",
      "source": [
        "### 선택한 챔피언과 금지한 챔피언 정보는 따로 저장한다\n",
        "\n",
        "1.   항목 추가\n",
        "2.   항목 추가\n",
        "\n"
      ],
      "metadata": {
        "id": "_d75wQ9AxzCn"
      }
    },
    {
      "cell_type": "code",
      "source": [
        "champs = data_game[[\"t1_champ1id\",\"t1_champ2id\",\n",
        "                      \"t1_champ3id\",\"t1_champ4id\",\"t1_champ5id\",\"t2_champ1id\",\n",
        "                      \"t2_champ2id\",\"t2_champ3id\",\"t2_champ4id\",\"t2_champ5id\",\"t1_ban1\",\"t1_ban2\",\"t1_ban3\",\n",
        "                      \"t1_ban4\",\"t1_ban5\",\"t2_ban1\",\"t2_ban2\",\"t2_ban3\",\"t2_ban4\",\"t2_ban5\"]]"
      ],
      "metadata": {
        "id": "r9ZZpn_ivwUX"
      },
      "execution_count": 102,
      "outputs": []
    },
    {
      "cell_type": "code",
      "source": [
        "champs"
      ],
      "metadata": {
        "colab": {
          "base_uri": "https://localhost:8080/",
          "height": 424
        },
        "id": "ttI10DP_vx0O",
        "outputId": "d79d0e4b-ec07-4294-da26-12b823edab43"
      },
      "execution_count": 103,
      "outputs": [
        {
          "output_type": "execute_result",
          "data": {
            "text/plain": [
              "       t1_champ1id  t1_champ2id  t1_champ3id  t1_champ4id  t1_champ5id  \\\n",
              "0                8          432           96           11          112   \n",
              "1              119           39           76           10           35   \n",
              "2               18          141          267           68           38   \n",
              "3               57           63           29           61           36   \n",
              "4               19           29           40          119          134   \n",
              "...            ...          ...          ...          ...          ...   \n",
              "51485           19          429           91          432           64   \n",
              "51486           90           32           31          412           18   \n",
              "51487          141           18          432           81           68   \n",
              "51488          121          236          420          201           99   \n",
              "51489           89            1          164          113          202   \n",
              "\n",
              "       t2_champ1id  t2_champ2id  t2_champ3id  t2_champ4id  t2_champ5id  \\\n",
              "0              104          498          122          238          412   \n",
              "1               54           25          120          157           92   \n",
              "2               69          412          126           24           22   \n",
              "3               90           19          412           92           22   \n",
              "4               37           59          141           38           51   \n",
              "...            ...          ...          ...          ...          ...   \n",
              "51485           45           83           67           40           79   \n",
              "51486          102          429           89           75           45   \n",
              "51487            1          119           33           43           99   \n",
              "51488           21           56           25           30           11   \n",
              "51489           63           17           29          121           58   \n",
              "\n",
              "       t1_ban1  t1_ban2  t1_ban3  t1_ban4  t1_ban5  t2_ban1  t2_ban2  t2_ban3  \\\n",
              "0           92       40       69      119      141      114       67       43   \n",
              "1           51      122       17      498       19       11       67      238   \n",
              "2          117       40       29       16       53      157      238      121   \n",
              "3          238       67      516      114       31      164       18      141   \n",
              "4           90       64      412       25       31       86       11      201   \n",
              "...        ...      ...      ...      ...      ...      ...      ...      ...   \n",
              "51485      114       18       11      157      497       55       -1       90   \n",
              "51486      157      164      122       99      420      157       55      119   \n",
              "51487      238       31       24       53       11      113      122       53   \n",
              "51488      119       64       51      157       29      154       39       51   \n",
              "51489       40      122       96      157      117       11      157      141   \n",
              "\n",
              "       t2_ban4  t2_ban5  \n",
              "0           16       51  \n",
              "1           51      420  \n",
              "2           57       28  \n",
              "3           40       51  \n",
              "4          122       18  \n",
              "...        ...      ...  \n",
              "51485      238      157  \n",
              "51486      154      105  \n",
              "51487       11      157  \n",
              "51488       90      114  \n",
              "51489       31       18  \n",
              "\n",
              "[51490 rows x 20 columns]"
            ],
            "text/html": [
              "\n",
              "  <div id=\"df-c46c48b4-738c-4ead-a686-d97ded8ff052\">\n",
              "    <div class=\"colab-df-container\">\n",
              "      <div>\n",
              "<style scoped>\n",
              "    .dataframe tbody tr th:only-of-type {\n",
              "        vertical-align: middle;\n",
              "    }\n",
              "\n",
              "    .dataframe tbody tr th {\n",
              "        vertical-align: top;\n",
              "    }\n",
              "\n",
              "    .dataframe thead th {\n",
              "        text-align: right;\n",
              "    }\n",
              "</style>\n",
              "<table border=\"1\" class=\"dataframe\">\n",
              "  <thead>\n",
              "    <tr style=\"text-align: right;\">\n",
              "      <th></th>\n",
              "      <th>t1_champ1id</th>\n",
              "      <th>t1_champ2id</th>\n",
              "      <th>t1_champ3id</th>\n",
              "      <th>t1_champ4id</th>\n",
              "      <th>t1_champ5id</th>\n",
              "      <th>t2_champ1id</th>\n",
              "      <th>t2_champ2id</th>\n",
              "      <th>t2_champ3id</th>\n",
              "      <th>t2_champ4id</th>\n",
              "      <th>t2_champ5id</th>\n",
              "      <th>t1_ban1</th>\n",
              "      <th>t1_ban2</th>\n",
              "      <th>t1_ban3</th>\n",
              "      <th>t1_ban4</th>\n",
              "      <th>t1_ban5</th>\n",
              "      <th>t2_ban1</th>\n",
              "      <th>t2_ban2</th>\n",
              "      <th>t2_ban3</th>\n",
              "      <th>t2_ban4</th>\n",
              "      <th>t2_ban5</th>\n",
              "    </tr>\n",
              "  </thead>\n",
              "  <tbody>\n",
              "    <tr>\n",
              "      <th>0</th>\n",
              "      <td>8</td>\n",
              "      <td>432</td>\n",
              "      <td>96</td>\n",
              "      <td>11</td>\n",
              "      <td>112</td>\n",
              "      <td>104</td>\n",
              "      <td>498</td>\n",
              "      <td>122</td>\n",
              "      <td>238</td>\n",
              "      <td>412</td>\n",
              "      <td>92</td>\n",
              "      <td>40</td>\n",
              "      <td>69</td>\n",
              "      <td>119</td>\n",
              "      <td>141</td>\n",
              "      <td>114</td>\n",
              "      <td>67</td>\n",
              "      <td>43</td>\n",
              "      <td>16</td>\n",
              "      <td>51</td>\n",
              "    </tr>\n",
              "    <tr>\n",
              "      <th>1</th>\n",
              "      <td>119</td>\n",
              "      <td>39</td>\n",
              "      <td>76</td>\n",
              "      <td>10</td>\n",
              "      <td>35</td>\n",
              "      <td>54</td>\n",
              "      <td>25</td>\n",
              "      <td>120</td>\n",
              "      <td>157</td>\n",
              "      <td>92</td>\n",
              "      <td>51</td>\n",
              "      <td>122</td>\n",
              "      <td>17</td>\n",
              "      <td>498</td>\n",
              "      <td>19</td>\n",
              "      <td>11</td>\n",
              "      <td>67</td>\n",
              "      <td>238</td>\n",
              "      <td>51</td>\n",
              "      <td>420</td>\n",
              "    </tr>\n",
              "    <tr>\n",
              "      <th>2</th>\n",
              "      <td>18</td>\n",
              "      <td>141</td>\n",
              "      <td>267</td>\n",
              "      <td>68</td>\n",
              "      <td>38</td>\n",
              "      <td>69</td>\n",
              "      <td>412</td>\n",
              "      <td>126</td>\n",
              "      <td>24</td>\n",
              "      <td>22</td>\n",
              "      <td>117</td>\n",
              "      <td>40</td>\n",
              "      <td>29</td>\n",
              "      <td>16</td>\n",
              "      <td>53</td>\n",
              "      <td>157</td>\n",
              "      <td>238</td>\n",
              "      <td>121</td>\n",
              "      <td>57</td>\n",
              "      <td>28</td>\n",
              "    </tr>\n",
              "    <tr>\n",
              "      <th>3</th>\n",
              "      <td>57</td>\n",
              "      <td>63</td>\n",
              "      <td>29</td>\n",
              "      <td>61</td>\n",
              "      <td>36</td>\n",
              "      <td>90</td>\n",
              "      <td>19</td>\n",
              "      <td>412</td>\n",
              "      <td>92</td>\n",
              "      <td>22</td>\n",
              "      <td>238</td>\n",
              "      <td>67</td>\n",
              "      <td>516</td>\n",
              "      <td>114</td>\n",
              "      <td>31</td>\n",
              "      <td>164</td>\n",
              "      <td>18</td>\n",
              "      <td>141</td>\n",
              "      <td>40</td>\n",
              "      <td>51</td>\n",
              "    </tr>\n",
              "    <tr>\n",
              "      <th>4</th>\n",
              "      <td>19</td>\n",
              "      <td>29</td>\n",
              "      <td>40</td>\n",
              "      <td>119</td>\n",
              "      <td>134</td>\n",
              "      <td>37</td>\n",
              "      <td>59</td>\n",
              "      <td>141</td>\n",
              "      <td>38</td>\n",
              "      <td>51</td>\n",
              "      <td>90</td>\n",
              "      <td>64</td>\n",
              "      <td>412</td>\n",
              "      <td>25</td>\n",
              "      <td>31</td>\n",
              "      <td>86</td>\n",
              "      <td>11</td>\n",
              "      <td>201</td>\n",
              "      <td>122</td>\n",
              "      <td>18</td>\n",
              "    </tr>\n",
              "    <tr>\n",
              "      <th>...</th>\n",
              "      <td>...</td>\n",
              "      <td>...</td>\n",
              "      <td>...</td>\n",
              "      <td>...</td>\n",
              "      <td>...</td>\n",
              "      <td>...</td>\n",
              "      <td>...</td>\n",
              "      <td>...</td>\n",
              "      <td>...</td>\n",
              "      <td>...</td>\n",
              "      <td>...</td>\n",
              "      <td>...</td>\n",
              "      <td>...</td>\n",
              "      <td>...</td>\n",
              "      <td>...</td>\n",
              "      <td>...</td>\n",
              "      <td>...</td>\n",
              "      <td>...</td>\n",
              "      <td>...</td>\n",
              "      <td>...</td>\n",
              "    </tr>\n",
              "    <tr>\n",
              "      <th>51485</th>\n",
              "      <td>19</td>\n",
              "      <td>429</td>\n",
              "      <td>91</td>\n",
              "      <td>432</td>\n",
              "      <td>64</td>\n",
              "      <td>45</td>\n",
              "      <td>83</td>\n",
              "      <td>67</td>\n",
              "      <td>40</td>\n",
              "      <td>79</td>\n",
              "      <td>114</td>\n",
              "      <td>18</td>\n",
              "      <td>11</td>\n",
              "      <td>157</td>\n",
              "      <td>497</td>\n",
              "      <td>55</td>\n",
              "      <td>-1</td>\n",
              "      <td>90</td>\n",
              "      <td>238</td>\n",
              "      <td>157</td>\n",
              "    </tr>\n",
              "    <tr>\n",
              "      <th>51486</th>\n",
              "      <td>90</td>\n",
              "      <td>32</td>\n",
              "      <td>31</td>\n",
              "      <td>412</td>\n",
              "      <td>18</td>\n",
              "      <td>102</td>\n",
              "      <td>429</td>\n",
              "      <td>89</td>\n",
              "      <td>75</td>\n",
              "      <td>45</td>\n",
              "      <td>157</td>\n",
              "      <td>164</td>\n",
              "      <td>122</td>\n",
              "      <td>99</td>\n",
              "      <td>420</td>\n",
              "      <td>157</td>\n",
              "      <td>55</td>\n",
              "      <td>119</td>\n",
              "      <td>154</td>\n",
              "      <td>105</td>\n",
              "    </tr>\n",
              "    <tr>\n",
              "      <th>51487</th>\n",
              "      <td>141</td>\n",
              "      <td>18</td>\n",
              "      <td>432</td>\n",
              "      <td>81</td>\n",
              "      <td>68</td>\n",
              "      <td>1</td>\n",
              "      <td>119</td>\n",
              "      <td>33</td>\n",
              "      <td>43</td>\n",
              "      <td>99</td>\n",
              "      <td>238</td>\n",
              "      <td>31</td>\n",
              "      <td>24</td>\n",
              "      <td>53</td>\n",
              "      <td>11</td>\n",
              "      <td>113</td>\n",
              "      <td>122</td>\n",
              "      <td>53</td>\n",
              "      <td>11</td>\n",
              "      <td>157</td>\n",
              "    </tr>\n",
              "    <tr>\n",
              "      <th>51488</th>\n",
              "      <td>121</td>\n",
              "      <td>236</td>\n",
              "      <td>420</td>\n",
              "      <td>201</td>\n",
              "      <td>99</td>\n",
              "      <td>21</td>\n",
              "      <td>56</td>\n",
              "      <td>25</td>\n",
              "      <td>30</td>\n",
              "      <td>11</td>\n",
              "      <td>119</td>\n",
              "      <td>64</td>\n",
              "      <td>51</td>\n",
              "      <td>157</td>\n",
              "      <td>29</td>\n",
              "      <td>154</td>\n",
              "      <td>39</td>\n",
              "      <td>51</td>\n",
              "      <td>90</td>\n",
              "      <td>114</td>\n",
              "    </tr>\n",
              "    <tr>\n",
              "      <th>51489</th>\n",
              "      <td>89</td>\n",
              "      <td>1</td>\n",
              "      <td>164</td>\n",
              "      <td>113</td>\n",
              "      <td>202</td>\n",
              "      <td>63</td>\n",
              "      <td>17</td>\n",
              "      <td>29</td>\n",
              "      <td>121</td>\n",
              "      <td>58</td>\n",
              "      <td>40</td>\n",
              "      <td>122</td>\n",
              "      <td>96</td>\n",
              "      <td>157</td>\n",
              "      <td>117</td>\n",
              "      <td>11</td>\n",
              "      <td>157</td>\n",
              "      <td>141</td>\n",
              "      <td>31</td>\n",
              "      <td>18</td>\n",
              "    </tr>\n",
              "  </tbody>\n",
              "</table>\n",
              "<p>51490 rows × 20 columns</p>\n",
              "</div>\n",
              "      <button class=\"colab-df-convert\" onclick=\"convertToInteractive('df-c46c48b4-738c-4ead-a686-d97ded8ff052')\"\n",
              "              title=\"Convert this dataframe to an interactive table.\"\n",
              "              style=\"display:none;\">\n",
              "        \n",
              "  <svg xmlns=\"http://www.w3.org/2000/svg\" height=\"24px\"viewBox=\"0 0 24 24\"\n",
              "       width=\"24px\">\n",
              "    <path d=\"M0 0h24v24H0V0z\" fill=\"none\"/>\n",
              "    <path d=\"M18.56 5.44l.94 2.06.94-2.06 2.06-.94-2.06-.94-.94-2.06-.94 2.06-2.06.94zm-11 1L8.5 8.5l.94-2.06 2.06-.94-2.06-.94L8.5 2.5l-.94 2.06-2.06.94zm10 10l.94 2.06.94-2.06 2.06-.94-2.06-.94-.94-2.06-.94 2.06-2.06.94z\"/><path d=\"M17.41 7.96l-1.37-1.37c-.4-.4-.92-.59-1.43-.59-.52 0-1.04.2-1.43.59L10.3 9.45l-7.72 7.72c-.78.78-.78 2.05 0 2.83L4 21.41c.39.39.9.59 1.41.59.51 0 1.02-.2 1.41-.59l7.78-7.78 2.81-2.81c.8-.78.8-2.07 0-2.86zM5.41 20L4 18.59l7.72-7.72 1.47 1.35L5.41 20z\"/>\n",
              "  </svg>\n",
              "      </button>\n",
              "      \n",
              "  <style>\n",
              "    .colab-df-container {\n",
              "      display:flex;\n",
              "      flex-wrap:wrap;\n",
              "      gap: 12px;\n",
              "    }\n",
              "\n",
              "    .colab-df-convert {\n",
              "      background-color: #E8F0FE;\n",
              "      border: none;\n",
              "      border-radius: 50%;\n",
              "      cursor: pointer;\n",
              "      display: none;\n",
              "      fill: #1967D2;\n",
              "      height: 32px;\n",
              "      padding: 0 0 0 0;\n",
              "      width: 32px;\n",
              "    }\n",
              "\n",
              "    .colab-df-convert:hover {\n",
              "      background-color: #E2EBFA;\n",
              "      box-shadow: 0px 1px 2px rgba(60, 64, 67, 0.3), 0px 1px 3px 1px rgba(60, 64, 67, 0.15);\n",
              "      fill: #174EA6;\n",
              "    }\n",
              "\n",
              "    [theme=dark] .colab-df-convert {\n",
              "      background-color: #3B4455;\n",
              "      fill: #D2E3FC;\n",
              "    }\n",
              "\n",
              "    [theme=dark] .colab-df-convert:hover {\n",
              "      background-color: #434B5C;\n",
              "      box-shadow: 0px 1px 3px 1px rgba(0, 0, 0, 0.15);\n",
              "      filter: drop-shadow(0px 1px 2px rgba(0, 0, 0, 0.3));\n",
              "      fill: #FFFFFF;\n",
              "    }\n",
              "  </style>\n",
              "\n",
              "      <script>\n",
              "        const buttonEl =\n",
              "          document.querySelector('#df-c46c48b4-738c-4ead-a686-d97ded8ff052 button.colab-df-convert');\n",
              "        buttonEl.style.display =\n",
              "          google.colab.kernel.accessAllowed ? 'block' : 'none';\n",
              "\n",
              "        async function convertToInteractive(key) {\n",
              "          const element = document.querySelector('#df-c46c48b4-738c-4ead-a686-d97ded8ff052');\n",
              "          const dataTable =\n",
              "            await google.colab.kernel.invokeFunction('convertToInteractive',\n",
              "                                                     [key], {});\n",
              "          if (!dataTable) return;\n",
              "\n",
              "          const docLinkHtml = 'Like what you see? Visit the ' +\n",
              "            '<a target=\"_blank\" href=https://colab.research.google.com/notebooks/data_table.ipynb>data table notebook</a>'\n",
              "            + ' to learn more about interactive tables.';\n",
              "          element.innerHTML = '';\n",
              "          dataTable['output_type'] = 'display_data';\n",
              "          await google.colab.output.renderOutput(dataTable, element);\n",
              "          const docLink = document.createElement('div');\n",
              "          docLink.innerHTML = docLinkHtml;\n",
              "          element.appendChild(docLink);\n",
              "        }\n",
              "      </script>\n",
              "    </div>\n",
              "  </div>\n",
              "  "
            ]
          },
          "metadata": {},
          "execution_count": 103
        }
      ]
    },
    {
      "cell_type": "markdown",
      "source": [
        "### 유저가 선택한 캐릭터나 밴한 캐릭터는 따로 저장했으니 제외하고 게임 id는 분석에서 의미없으니 데이터에서 제외한다."
      ],
      "metadata": {
        "id": "6HJetMhoxC9M"
      }
    },
    {
      "cell_type": "markdown",
      "source": [
        "### gameid와 creationtime도 분석에 필요없으니 제외한다"
      ],
      "metadata": {
        "id": "-8WOw_z9nb4h"
      }
    },
    {
      "cell_type": "code",
      "source": [
        "data_game.drop([\"t1_champ1id\",\"t1_champ2id\",\n",
        "                      \"t1_champ3id\",\"t1_champ4id\",\"t1_champ5id\",\"t2_champ1id\",\n",
        "                      \"t2_champ2id\",\"t2_champ3id\",\"t2_champ4id\",\"t2_champ5id\",\"t1_ban1\",\"t1_ban2\",\"t1_ban3\",\n",
        "                      \"t1_ban4\",\"t1_ban5\",\"t2_ban1\",\"t2_ban2\",\"t2_ban3\",\"t2_ban4\",\"t2_ban5\",\"seasonId\"],axis = 1,inplace = True)"
      ],
      "metadata": {
        "id": "MRH5-VjwwyZt"
      },
      "execution_count": 104,
      "outputs": []
    },
    {
      "cell_type": "code",
      "source": [
        "data_game.drop([\"gameId\"],axis = 1,inplace = True)\n",
        "data_game.drop([\"creationTime\"],axis = 1,inplace = True)\n"
      ],
      "metadata": {
        "id": "p-zV3BjQwJBo"
      },
      "execution_count": 105,
      "outputs": []
    },
    {
      "cell_type": "code",
      "source": [
        "data_game.head()"
      ],
      "metadata": {
        "colab": {
          "base_uri": "https://localhost:8080/",
          "height": 280
        },
        "id": "9JfizG4rwzgK",
        "outputId": "fb5d53cf-5d8b-4050-bc06-9cc5c932b5b1"
      },
      "execution_count": 106,
      "outputs": [
        {
          "output_type": "execute_result",
          "data": {
            "text/plain": [
              "   gameDuration  winner  firstBlood  firstTower  firstInhibitor  firstBaron  \\\n",
              "0          1949       1           2           1               1           1   \n",
              "1          1851       1           1           1               1           0   \n",
              "2          1493       1           2           1               1           1   \n",
              "3          1758       1           1           1               1           1   \n",
              "4          2094       1           2           1               1           1   \n",
              "\n",
              "   firstDragon  firstRiftHerald  t1_champ1_sum1  t1_champ1_sum2  ...  \\\n",
              "0            1                2              12               4  ...   \n",
              "1            1                1               7               4  ...   \n",
              "2            2                0               4               7  ...   \n",
              "3            1                0               4              12  ...   \n",
              "4            1                0               4              12  ...   \n",
              "\n",
              "   t2_champ3_sum2  t2_champ4_sum1  t2_champ4_sum2  t2_champ5_sum1  \\\n",
              "0               4              14               4               4   \n",
              "1               4               4              14               4   \n",
              "2              12               4              11               7   \n",
              "3               3               4              14               4   \n",
              "4               4               4              12               4   \n",
              "\n",
              "   t2_champ5_sum2  t2_towerKills  t2_inhibitorKills  t2_baronKills  \\\n",
              "0               3              5                  0              0   \n",
              "1               7              2                  0              0   \n",
              "2               4              2                  0              0   \n",
              "3               7              0                  0              0   \n",
              "4               7              3                  0              0   \n",
              "\n",
              "   t2_dragonKills  t2_riftHeraldKills  \n",
              "0               1                   1  \n",
              "1               0                   0  \n",
              "2               1                   0  \n",
              "3               0                   0  \n",
              "4               1                   0  \n",
              "\n",
              "[5 rows x 38 columns]"
            ],
            "text/html": [
              "\n",
              "  <div id=\"df-fc4d640d-9d69-4ccd-aefd-493b6e3f4758\">\n",
              "    <div class=\"colab-df-container\">\n",
              "      <div>\n",
              "<style scoped>\n",
              "    .dataframe tbody tr th:only-of-type {\n",
              "        vertical-align: middle;\n",
              "    }\n",
              "\n",
              "    .dataframe tbody tr th {\n",
              "        vertical-align: top;\n",
              "    }\n",
              "\n",
              "    .dataframe thead th {\n",
              "        text-align: right;\n",
              "    }\n",
              "</style>\n",
              "<table border=\"1\" class=\"dataframe\">\n",
              "  <thead>\n",
              "    <tr style=\"text-align: right;\">\n",
              "      <th></th>\n",
              "      <th>gameDuration</th>\n",
              "      <th>winner</th>\n",
              "      <th>firstBlood</th>\n",
              "      <th>firstTower</th>\n",
              "      <th>firstInhibitor</th>\n",
              "      <th>firstBaron</th>\n",
              "      <th>firstDragon</th>\n",
              "      <th>firstRiftHerald</th>\n",
              "      <th>t1_champ1_sum1</th>\n",
              "      <th>t1_champ1_sum2</th>\n",
              "      <th>...</th>\n",
              "      <th>t2_champ3_sum2</th>\n",
              "      <th>t2_champ4_sum1</th>\n",
              "      <th>t2_champ4_sum2</th>\n",
              "      <th>t2_champ5_sum1</th>\n",
              "      <th>t2_champ5_sum2</th>\n",
              "      <th>t2_towerKills</th>\n",
              "      <th>t2_inhibitorKills</th>\n",
              "      <th>t2_baronKills</th>\n",
              "      <th>t2_dragonKills</th>\n",
              "      <th>t2_riftHeraldKills</th>\n",
              "    </tr>\n",
              "  </thead>\n",
              "  <tbody>\n",
              "    <tr>\n",
              "      <th>0</th>\n",
              "      <td>1949</td>\n",
              "      <td>1</td>\n",
              "      <td>2</td>\n",
              "      <td>1</td>\n",
              "      <td>1</td>\n",
              "      <td>1</td>\n",
              "      <td>1</td>\n",
              "      <td>2</td>\n",
              "      <td>12</td>\n",
              "      <td>4</td>\n",
              "      <td>...</td>\n",
              "      <td>4</td>\n",
              "      <td>14</td>\n",
              "      <td>4</td>\n",
              "      <td>4</td>\n",
              "      <td>3</td>\n",
              "      <td>5</td>\n",
              "      <td>0</td>\n",
              "      <td>0</td>\n",
              "      <td>1</td>\n",
              "      <td>1</td>\n",
              "    </tr>\n",
              "    <tr>\n",
              "      <th>1</th>\n",
              "      <td>1851</td>\n",
              "      <td>1</td>\n",
              "      <td>1</td>\n",
              "      <td>1</td>\n",
              "      <td>1</td>\n",
              "      <td>0</td>\n",
              "      <td>1</td>\n",
              "      <td>1</td>\n",
              "      <td>7</td>\n",
              "      <td>4</td>\n",
              "      <td>...</td>\n",
              "      <td>4</td>\n",
              "      <td>4</td>\n",
              "      <td>14</td>\n",
              "      <td>4</td>\n",
              "      <td>7</td>\n",
              "      <td>2</td>\n",
              "      <td>0</td>\n",
              "      <td>0</td>\n",
              "      <td>0</td>\n",
              "      <td>0</td>\n",
              "    </tr>\n",
              "    <tr>\n",
              "      <th>2</th>\n",
              "      <td>1493</td>\n",
              "      <td>1</td>\n",
              "      <td>2</td>\n",
              "      <td>1</td>\n",
              "      <td>1</td>\n",
              "      <td>1</td>\n",
              "      <td>2</td>\n",
              "      <td>0</td>\n",
              "      <td>4</td>\n",
              "      <td>7</td>\n",
              "      <td>...</td>\n",
              "      <td>12</td>\n",
              "      <td>4</td>\n",
              "      <td>11</td>\n",
              "      <td>7</td>\n",
              "      <td>4</td>\n",
              "      <td>2</td>\n",
              "      <td>0</td>\n",
              "      <td>0</td>\n",
              "      <td>1</td>\n",
              "      <td>0</td>\n",
              "    </tr>\n",
              "    <tr>\n",
              "      <th>3</th>\n",
              "      <td>1758</td>\n",
              "      <td>1</td>\n",
              "      <td>1</td>\n",
              "      <td>1</td>\n",
              "      <td>1</td>\n",
              "      <td>1</td>\n",
              "      <td>1</td>\n",
              "      <td>0</td>\n",
              "      <td>4</td>\n",
              "      <td>12</td>\n",
              "      <td>...</td>\n",
              "      <td>3</td>\n",
              "      <td>4</td>\n",
              "      <td>14</td>\n",
              "      <td>4</td>\n",
              "      <td>7</td>\n",
              "      <td>0</td>\n",
              "      <td>0</td>\n",
              "      <td>0</td>\n",
              "      <td>0</td>\n",
              "      <td>0</td>\n",
              "    </tr>\n",
              "    <tr>\n",
              "      <th>4</th>\n",
              "      <td>2094</td>\n",
              "      <td>1</td>\n",
              "      <td>2</td>\n",
              "      <td>1</td>\n",
              "      <td>1</td>\n",
              "      <td>1</td>\n",
              "      <td>1</td>\n",
              "      <td>0</td>\n",
              "      <td>4</td>\n",
              "      <td>12</td>\n",
              "      <td>...</td>\n",
              "      <td>4</td>\n",
              "      <td>4</td>\n",
              "      <td>12</td>\n",
              "      <td>4</td>\n",
              "      <td>7</td>\n",
              "      <td>3</td>\n",
              "      <td>0</td>\n",
              "      <td>0</td>\n",
              "      <td>1</td>\n",
              "      <td>0</td>\n",
              "    </tr>\n",
              "  </tbody>\n",
              "</table>\n",
              "<p>5 rows × 38 columns</p>\n",
              "</div>\n",
              "      <button class=\"colab-df-convert\" onclick=\"convertToInteractive('df-fc4d640d-9d69-4ccd-aefd-493b6e3f4758')\"\n",
              "              title=\"Convert this dataframe to an interactive table.\"\n",
              "              style=\"display:none;\">\n",
              "        \n",
              "  <svg xmlns=\"http://www.w3.org/2000/svg\" height=\"24px\"viewBox=\"0 0 24 24\"\n",
              "       width=\"24px\">\n",
              "    <path d=\"M0 0h24v24H0V0z\" fill=\"none\"/>\n",
              "    <path d=\"M18.56 5.44l.94 2.06.94-2.06 2.06-.94-2.06-.94-.94-2.06-.94 2.06-2.06.94zm-11 1L8.5 8.5l.94-2.06 2.06-.94-2.06-.94L8.5 2.5l-.94 2.06-2.06.94zm10 10l.94 2.06.94-2.06 2.06-.94-2.06-.94-.94-2.06-.94 2.06-2.06.94z\"/><path d=\"M17.41 7.96l-1.37-1.37c-.4-.4-.92-.59-1.43-.59-.52 0-1.04.2-1.43.59L10.3 9.45l-7.72 7.72c-.78.78-.78 2.05 0 2.83L4 21.41c.39.39.9.59 1.41.59.51 0 1.02-.2 1.41-.59l7.78-7.78 2.81-2.81c.8-.78.8-2.07 0-2.86zM5.41 20L4 18.59l7.72-7.72 1.47 1.35L5.41 20z\"/>\n",
              "  </svg>\n",
              "      </button>\n",
              "      \n",
              "  <style>\n",
              "    .colab-df-container {\n",
              "      display:flex;\n",
              "      flex-wrap:wrap;\n",
              "      gap: 12px;\n",
              "    }\n",
              "\n",
              "    .colab-df-convert {\n",
              "      background-color: #E8F0FE;\n",
              "      border: none;\n",
              "      border-radius: 50%;\n",
              "      cursor: pointer;\n",
              "      display: none;\n",
              "      fill: #1967D2;\n",
              "      height: 32px;\n",
              "      padding: 0 0 0 0;\n",
              "      width: 32px;\n",
              "    }\n",
              "\n",
              "    .colab-df-convert:hover {\n",
              "      background-color: #E2EBFA;\n",
              "      box-shadow: 0px 1px 2px rgba(60, 64, 67, 0.3), 0px 1px 3px 1px rgba(60, 64, 67, 0.15);\n",
              "      fill: #174EA6;\n",
              "    }\n",
              "\n",
              "    [theme=dark] .colab-df-convert {\n",
              "      background-color: #3B4455;\n",
              "      fill: #D2E3FC;\n",
              "    }\n",
              "\n",
              "    [theme=dark] .colab-df-convert:hover {\n",
              "      background-color: #434B5C;\n",
              "      box-shadow: 0px 1px 3px 1px rgba(0, 0, 0, 0.15);\n",
              "      filter: drop-shadow(0px 1px 2px rgba(0, 0, 0, 0.3));\n",
              "      fill: #FFFFFF;\n",
              "    }\n",
              "  </style>\n",
              "\n",
              "      <script>\n",
              "        const buttonEl =\n",
              "          document.querySelector('#df-fc4d640d-9d69-4ccd-aefd-493b6e3f4758 button.colab-df-convert');\n",
              "        buttonEl.style.display =\n",
              "          google.colab.kernel.accessAllowed ? 'block' : 'none';\n",
              "\n",
              "        async function convertToInteractive(key) {\n",
              "          const element = document.querySelector('#df-fc4d640d-9d69-4ccd-aefd-493b6e3f4758');\n",
              "          const dataTable =\n",
              "            await google.colab.kernel.invokeFunction('convertToInteractive',\n",
              "                                                     [key], {});\n",
              "          if (!dataTable) return;\n",
              "\n",
              "          const docLinkHtml = 'Like what you see? Visit the ' +\n",
              "            '<a target=\"_blank\" href=https://colab.research.google.com/notebooks/data_table.ipynb>data table notebook</a>'\n",
              "            + ' to learn more about interactive tables.';\n",
              "          element.innerHTML = '';\n",
              "          dataTable['output_type'] = 'display_data';\n",
              "          await google.colab.output.renderOutput(dataTable, element);\n",
              "          const docLink = document.createElement('div');\n",
              "          docLink.innerHTML = docLinkHtml;\n",
              "          element.appendChild(docLink);\n",
              "        }\n",
              "      </script>\n",
              "    </div>\n",
              "  </div>\n",
              "  "
            ]
          },
          "metadata": {},
          "execution_count": 106
        }
      ]
    },
    {
      "cell_type": "markdown",
      "source": [
        "### 게임 시간과 관련된 전처리\n",
        "\n",
        "- 게임 시간이 엄청 짧은 것들은 게임 시간이 3분이 되기전에 플레이어가 게임을 나감으로써 인한 게임이 조기에 종료되는 것을 의미함으로 데이터에서 삭제한다\n",
        "- (도메인) 통상적으로 게임은 15분 이후에 항복을 할 수 있다. 하지만 15분 이전에 게임이 끝난 것은 대부분 경기 외적인 이슈(트롤,게임나감)로 인한 것이니 분석에 의미가 없으므로 제거한다"
      ],
      "metadata": {
        "id": "F1h5qZ6Fb8K-"
      }
    },
    {
      "cell_type": "markdown",
      "source": [
        "아래 데이터를 보면 인덱스 51378 게임시간이 10분이 되었는데 게임이 끝났고 억제기는 1개만 파괴되고 용이나 바론등은 하나도 획득하지 않은 것으로 보인다. 따라서 정상적인 게임이라고 할 수 없다"
      ],
      "metadata": {
        "id": "ZqBpEtrsjERO"
      }
    },
    {
      "cell_type": "code",
      "source": [
        "data_game.query('gameDuration < 900')"
      ],
      "metadata": {
        "colab": {
          "base_uri": "https://localhost:8080/",
          "height": 488
        },
        "id": "zuGa6d0OeHrp",
        "outputId": "aa6ca715-e2be-41df-e5e3-df98c7e753c8"
      },
      "execution_count": 107,
      "outputs": [
        {
          "output_type": "execute_result",
          "data": {
            "text/plain": [
              "       gameDuration  winner  firstBlood  firstTower  firstInhibitor  \\\n",
              "64              197       2           0           0               0   \n",
              "82              193       1           1           0               0   \n",
              "119             192       1           1           0               0   \n",
              "149             208       1           1           0               0   \n",
              "276             201       1           1           0               0   \n",
              "...             ...     ...         ...         ...             ...   \n",
              "51359           202       1           2           0               0   \n",
              "51378           613       1           1           1               1   \n",
              "51412           194       2           2           0               0   \n",
              "51417           197       2           0           0               0   \n",
              "51422           192       2           0           0               0   \n",
              "\n",
              "       firstBaron  firstDragon  firstRiftHerald  t1_champ1_sum1  \\\n",
              "64              0            0                0               4   \n",
              "82              0            0                0               4   \n",
              "119             0            0                0               6   \n",
              "149             0            0                0              11   \n",
              "276             0            0                0               6   \n",
              "...           ...          ...              ...             ...   \n",
              "51359           0            0                0              11   \n",
              "51378           0            0                0              11   \n",
              "51412           0            0                0               4   \n",
              "51417           0            0                0               6   \n",
              "51422           0            0                0               4   \n",
              "\n",
              "       t1_champ1_sum2  ...  t2_champ3_sum2  t2_champ4_sum1  t2_champ4_sum2  \\\n",
              "64                  3  ...               4              12               4   \n",
              "82                 14  ...               7               4              14   \n",
              "119                 4  ...               7               3               4   \n",
              "149                 4  ...              11               3               4   \n",
              "276                 4  ...              12               4              11   \n",
              "...               ...  ...             ...             ...             ...   \n",
              "51359               4  ...              21               4              21   \n",
              "51378               4  ...               3               4               7   \n",
              "51412              14  ...               3               4              12   \n",
              "51417               4  ...               7              12               4   \n",
              "51422              11  ...               4               7               4   \n",
              "\n",
              "       t2_champ5_sum1  t2_champ5_sum2  t2_towerKills  t2_inhibitorKills  \\\n",
              "64                  4              14              0                  0   \n",
              "82                  3              14              0                  0   \n",
              "119                 4              11              0                  0   \n",
              "149                14               4              0                  0   \n",
              "276                 6               4              0                  0   \n",
              "...               ...             ...            ...                ...   \n",
              "51359              11               4              0                  0   \n",
              "51378               4              12              0                  0   \n",
              "51412               4              12              0                  0   \n",
              "51417               6               4              0                  0   \n",
              "51422              11               4              0                  0   \n",
              "\n",
              "       t2_baronKills  t2_dragonKills  t2_riftHeraldKills  \n",
              "64                 0               0                   0  \n",
              "82                 0               0                   0  \n",
              "119                0               0                   0  \n",
              "149                0               0                   0  \n",
              "276                0               0                   0  \n",
              "...              ...             ...                 ...  \n",
              "51359              0               0                   0  \n",
              "51378              0               0                   0  \n",
              "51412              0               0                   0  \n",
              "51417              0               0                   0  \n",
              "51422              0               0                   0  \n",
              "\n",
              "[1309 rows x 38 columns]"
            ],
            "text/html": [
              "\n",
              "  <div id=\"df-595308d2-5e44-4ade-95a0-202f6ffddc93\">\n",
              "    <div class=\"colab-df-container\">\n",
              "      <div>\n",
              "<style scoped>\n",
              "    .dataframe tbody tr th:only-of-type {\n",
              "        vertical-align: middle;\n",
              "    }\n",
              "\n",
              "    .dataframe tbody tr th {\n",
              "        vertical-align: top;\n",
              "    }\n",
              "\n",
              "    .dataframe thead th {\n",
              "        text-align: right;\n",
              "    }\n",
              "</style>\n",
              "<table border=\"1\" class=\"dataframe\">\n",
              "  <thead>\n",
              "    <tr style=\"text-align: right;\">\n",
              "      <th></th>\n",
              "      <th>gameDuration</th>\n",
              "      <th>winner</th>\n",
              "      <th>firstBlood</th>\n",
              "      <th>firstTower</th>\n",
              "      <th>firstInhibitor</th>\n",
              "      <th>firstBaron</th>\n",
              "      <th>firstDragon</th>\n",
              "      <th>firstRiftHerald</th>\n",
              "      <th>t1_champ1_sum1</th>\n",
              "      <th>t1_champ1_sum2</th>\n",
              "      <th>...</th>\n",
              "      <th>t2_champ3_sum2</th>\n",
              "      <th>t2_champ4_sum1</th>\n",
              "      <th>t2_champ4_sum2</th>\n",
              "      <th>t2_champ5_sum1</th>\n",
              "      <th>t2_champ5_sum2</th>\n",
              "      <th>t2_towerKills</th>\n",
              "      <th>t2_inhibitorKills</th>\n",
              "      <th>t2_baronKills</th>\n",
              "      <th>t2_dragonKills</th>\n",
              "      <th>t2_riftHeraldKills</th>\n",
              "    </tr>\n",
              "  </thead>\n",
              "  <tbody>\n",
              "    <tr>\n",
              "      <th>64</th>\n",
              "      <td>197</td>\n",
              "      <td>2</td>\n",
              "      <td>0</td>\n",
              "      <td>0</td>\n",
              "      <td>0</td>\n",
              "      <td>0</td>\n",
              "      <td>0</td>\n",
              "      <td>0</td>\n",
              "      <td>4</td>\n",
              "      <td>3</td>\n",
              "      <td>...</td>\n",
              "      <td>4</td>\n",
              "      <td>12</td>\n",
              "      <td>4</td>\n",
              "      <td>4</td>\n",
              "      <td>14</td>\n",
              "      <td>0</td>\n",
              "      <td>0</td>\n",
              "      <td>0</td>\n",
              "      <td>0</td>\n",
              "      <td>0</td>\n",
              "    </tr>\n",
              "    <tr>\n",
              "      <th>82</th>\n",
              "      <td>193</td>\n",
              "      <td>1</td>\n",
              "      <td>1</td>\n",
              "      <td>0</td>\n",
              "      <td>0</td>\n",
              "      <td>0</td>\n",
              "      <td>0</td>\n",
              "      <td>0</td>\n",
              "      <td>4</td>\n",
              "      <td>14</td>\n",
              "      <td>...</td>\n",
              "      <td>7</td>\n",
              "      <td>4</td>\n",
              "      <td>14</td>\n",
              "      <td>3</td>\n",
              "      <td>14</td>\n",
              "      <td>0</td>\n",
              "      <td>0</td>\n",
              "      <td>0</td>\n",
              "      <td>0</td>\n",
              "      <td>0</td>\n",
              "    </tr>\n",
              "    <tr>\n",
              "      <th>119</th>\n",
              "      <td>192</td>\n",
              "      <td>1</td>\n",
              "      <td>1</td>\n",
              "      <td>0</td>\n",
              "      <td>0</td>\n",
              "      <td>0</td>\n",
              "      <td>0</td>\n",
              "      <td>0</td>\n",
              "      <td>6</td>\n",
              "      <td>4</td>\n",
              "      <td>...</td>\n",
              "      <td>7</td>\n",
              "      <td>3</td>\n",
              "      <td>4</td>\n",
              "      <td>4</td>\n",
              "      <td>11</td>\n",
              "      <td>0</td>\n",
              "      <td>0</td>\n",
              "      <td>0</td>\n",
              "      <td>0</td>\n",
              "      <td>0</td>\n",
              "    </tr>\n",
              "    <tr>\n",
              "      <th>149</th>\n",
              "      <td>208</td>\n",
              "      <td>1</td>\n",
              "      <td>1</td>\n",
              "      <td>0</td>\n",
              "      <td>0</td>\n",
              "      <td>0</td>\n",
              "      <td>0</td>\n",
              "      <td>0</td>\n",
              "      <td>11</td>\n",
              "      <td>4</td>\n",
              "      <td>...</td>\n",
              "      <td>11</td>\n",
              "      <td>3</td>\n",
              "      <td>4</td>\n",
              "      <td>14</td>\n",
              "      <td>4</td>\n",
              "      <td>0</td>\n",
              "      <td>0</td>\n",
              "      <td>0</td>\n",
              "      <td>0</td>\n",
              "      <td>0</td>\n",
              "    </tr>\n",
              "    <tr>\n",
              "      <th>276</th>\n",
              "      <td>201</td>\n",
              "      <td>1</td>\n",
              "      <td>1</td>\n",
              "      <td>0</td>\n",
              "      <td>0</td>\n",
              "      <td>0</td>\n",
              "      <td>0</td>\n",
              "      <td>0</td>\n",
              "      <td>6</td>\n",
              "      <td>4</td>\n",
              "      <td>...</td>\n",
              "      <td>12</td>\n",
              "      <td>4</td>\n",
              "      <td>11</td>\n",
              "      <td>6</td>\n",
              "      <td>4</td>\n",
              "      <td>0</td>\n",
              "      <td>0</td>\n",
              "      <td>0</td>\n",
              "      <td>0</td>\n",
              "      <td>0</td>\n",
              "    </tr>\n",
              "    <tr>\n",
              "      <th>...</th>\n",
              "      <td>...</td>\n",
              "      <td>...</td>\n",
              "      <td>...</td>\n",
              "      <td>...</td>\n",
              "      <td>...</td>\n",
              "      <td>...</td>\n",
              "      <td>...</td>\n",
              "      <td>...</td>\n",
              "      <td>...</td>\n",
              "      <td>...</td>\n",
              "      <td>...</td>\n",
              "      <td>...</td>\n",
              "      <td>...</td>\n",
              "      <td>...</td>\n",
              "      <td>...</td>\n",
              "      <td>...</td>\n",
              "      <td>...</td>\n",
              "      <td>...</td>\n",
              "      <td>...</td>\n",
              "      <td>...</td>\n",
              "      <td>...</td>\n",
              "    </tr>\n",
              "    <tr>\n",
              "      <th>51359</th>\n",
              "      <td>202</td>\n",
              "      <td>1</td>\n",
              "      <td>2</td>\n",
              "      <td>0</td>\n",
              "      <td>0</td>\n",
              "      <td>0</td>\n",
              "      <td>0</td>\n",
              "      <td>0</td>\n",
              "      <td>11</td>\n",
              "      <td>4</td>\n",
              "      <td>...</td>\n",
              "      <td>21</td>\n",
              "      <td>4</td>\n",
              "      <td>21</td>\n",
              "      <td>11</td>\n",
              "      <td>4</td>\n",
              "      <td>0</td>\n",
              "      <td>0</td>\n",
              "      <td>0</td>\n",
              "      <td>0</td>\n",
              "      <td>0</td>\n",
              "    </tr>\n",
              "    <tr>\n",
              "      <th>51378</th>\n",
              "      <td>613</td>\n",
              "      <td>1</td>\n",
              "      <td>1</td>\n",
              "      <td>1</td>\n",
              "      <td>1</td>\n",
              "      <td>0</td>\n",
              "      <td>0</td>\n",
              "      <td>0</td>\n",
              "      <td>11</td>\n",
              "      <td>4</td>\n",
              "      <td>...</td>\n",
              "      <td>3</td>\n",
              "      <td>4</td>\n",
              "      <td>7</td>\n",
              "      <td>4</td>\n",
              "      <td>12</td>\n",
              "      <td>0</td>\n",
              "      <td>0</td>\n",
              "      <td>0</td>\n",
              "      <td>0</td>\n",
              "      <td>0</td>\n",
              "    </tr>\n",
              "    <tr>\n",
              "      <th>51412</th>\n",
              "      <td>194</td>\n",
              "      <td>2</td>\n",
              "      <td>2</td>\n",
              "      <td>0</td>\n",
              "      <td>0</td>\n",
              "      <td>0</td>\n",
              "      <td>0</td>\n",
              "      <td>0</td>\n",
              "      <td>4</td>\n",
              "      <td>14</td>\n",
              "      <td>...</td>\n",
              "      <td>3</td>\n",
              "      <td>4</td>\n",
              "      <td>12</td>\n",
              "      <td>4</td>\n",
              "      <td>12</td>\n",
              "      <td>0</td>\n",
              "      <td>0</td>\n",
              "      <td>0</td>\n",
              "      <td>0</td>\n",
              "      <td>0</td>\n",
              "    </tr>\n",
              "    <tr>\n",
              "      <th>51417</th>\n",
              "      <td>197</td>\n",
              "      <td>2</td>\n",
              "      <td>0</td>\n",
              "      <td>0</td>\n",
              "      <td>0</td>\n",
              "      <td>0</td>\n",
              "      <td>0</td>\n",
              "      <td>0</td>\n",
              "      <td>6</td>\n",
              "      <td>4</td>\n",
              "      <td>...</td>\n",
              "      <td>7</td>\n",
              "      <td>12</td>\n",
              "      <td>4</td>\n",
              "      <td>6</td>\n",
              "      <td>4</td>\n",
              "      <td>0</td>\n",
              "      <td>0</td>\n",
              "      <td>0</td>\n",
              "      <td>0</td>\n",
              "      <td>0</td>\n",
              "    </tr>\n",
              "    <tr>\n",
              "      <th>51422</th>\n",
              "      <td>192</td>\n",
              "      <td>2</td>\n",
              "      <td>0</td>\n",
              "      <td>0</td>\n",
              "      <td>0</td>\n",
              "      <td>0</td>\n",
              "      <td>0</td>\n",
              "      <td>0</td>\n",
              "      <td>4</td>\n",
              "      <td>11</td>\n",
              "      <td>...</td>\n",
              "      <td>4</td>\n",
              "      <td>7</td>\n",
              "      <td>4</td>\n",
              "      <td>11</td>\n",
              "      <td>4</td>\n",
              "      <td>0</td>\n",
              "      <td>0</td>\n",
              "      <td>0</td>\n",
              "      <td>0</td>\n",
              "      <td>0</td>\n",
              "    </tr>\n",
              "  </tbody>\n",
              "</table>\n",
              "<p>1309 rows × 38 columns</p>\n",
              "</div>\n",
              "      <button class=\"colab-df-convert\" onclick=\"convertToInteractive('df-595308d2-5e44-4ade-95a0-202f6ffddc93')\"\n",
              "              title=\"Convert this dataframe to an interactive table.\"\n",
              "              style=\"display:none;\">\n",
              "        \n",
              "  <svg xmlns=\"http://www.w3.org/2000/svg\" height=\"24px\"viewBox=\"0 0 24 24\"\n",
              "       width=\"24px\">\n",
              "    <path d=\"M0 0h24v24H0V0z\" fill=\"none\"/>\n",
              "    <path d=\"M18.56 5.44l.94 2.06.94-2.06 2.06-.94-2.06-.94-.94-2.06-.94 2.06-2.06.94zm-11 1L8.5 8.5l.94-2.06 2.06-.94-2.06-.94L8.5 2.5l-.94 2.06-2.06.94zm10 10l.94 2.06.94-2.06 2.06-.94-2.06-.94-.94-2.06-.94 2.06-2.06.94z\"/><path d=\"M17.41 7.96l-1.37-1.37c-.4-.4-.92-.59-1.43-.59-.52 0-1.04.2-1.43.59L10.3 9.45l-7.72 7.72c-.78.78-.78 2.05 0 2.83L4 21.41c.39.39.9.59 1.41.59.51 0 1.02-.2 1.41-.59l7.78-7.78 2.81-2.81c.8-.78.8-2.07 0-2.86zM5.41 20L4 18.59l7.72-7.72 1.47 1.35L5.41 20z\"/>\n",
              "  </svg>\n",
              "      </button>\n",
              "      \n",
              "  <style>\n",
              "    .colab-df-container {\n",
              "      display:flex;\n",
              "      flex-wrap:wrap;\n",
              "      gap: 12px;\n",
              "    }\n",
              "\n",
              "    .colab-df-convert {\n",
              "      background-color: #E8F0FE;\n",
              "      border: none;\n",
              "      border-radius: 50%;\n",
              "      cursor: pointer;\n",
              "      display: none;\n",
              "      fill: #1967D2;\n",
              "      height: 32px;\n",
              "      padding: 0 0 0 0;\n",
              "      width: 32px;\n",
              "    }\n",
              "\n",
              "    .colab-df-convert:hover {\n",
              "      background-color: #E2EBFA;\n",
              "      box-shadow: 0px 1px 2px rgba(60, 64, 67, 0.3), 0px 1px 3px 1px rgba(60, 64, 67, 0.15);\n",
              "      fill: #174EA6;\n",
              "    }\n",
              "\n",
              "    [theme=dark] .colab-df-convert {\n",
              "      background-color: #3B4455;\n",
              "      fill: #D2E3FC;\n",
              "    }\n",
              "\n",
              "    [theme=dark] .colab-df-convert:hover {\n",
              "      background-color: #434B5C;\n",
              "      box-shadow: 0px 1px 3px 1px rgba(0, 0, 0, 0.15);\n",
              "      filter: drop-shadow(0px 1px 2px rgba(0, 0, 0, 0.3));\n",
              "      fill: #FFFFFF;\n",
              "    }\n",
              "  </style>\n",
              "\n",
              "      <script>\n",
              "        const buttonEl =\n",
              "          document.querySelector('#df-595308d2-5e44-4ade-95a0-202f6ffddc93 button.colab-df-convert');\n",
              "        buttonEl.style.display =\n",
              "          google.colab.kernel.accessAllowed ? 'block' : 'none';\n",
              "\n",
              "        async function convertToInteractive(key) {\n",
              "          const element = document.querySelector('#df-595308d2-5e44-4ade-95a0-202f6ffddc93');\n",
              "          const dataTable =\n",
              "            await google.colab.kernel.invokeFunction('convertToInteractive',\n",
              "                                                     [key], {});\n",
              "          if (!dataTable) return;\n",
              "\n",
              "          const docLinkHtml = 'Like what you see? Visit the ' +\n",
              "            '<a target=\"_blank\" href=https://colab.research.google.com/notebooks/data_table.ipynb>data table notebook</a>'\n",
              "            + ' to learn more about interactive tables.';\n",
              "          element.innerHTML = '';\n",
              "          dataTable['output_type'] = 'display_data';\n",
              "          await google.colab.output.renderOutput(dataTable, element);\n",
              "          const docLink = document.createElement('div');\n",
              "          docLink.innerHTML = docLinkHtml;\n",
              "          element.appendChild(docLink);\n",
              "        }\n",
              "      </script>\n",
              "    </div>\n",
              "  </div>\n",
              "  "
            ]
          },
          "metadata": {},
          "execution_count": 107
        }
      ]
    },
    {
      "cell_type": "code",
      "source": [
        "idx=data_game.query('gameDuration < 900').index"
      ],
      "metadata": {
        "id": "B40aKkhAjTjk"
      },
      "execution_count": 108,
      "outputs": []
    },
    {
      "cell_type": "code",
      "source": [
        "data_game.drop(index = idx,inplace = True )"
      ],
      "metadata": {
        "id": "tGZkh15xjZX1"
      },
      "execution_count": 109,
      "outputs": []
    },
    {
      "cell_type": "code",
      "source": [
        "data_game.query('gameDuration < 900')"
      ],
      "metadata": {
        "colab": {
          "base_uri": "https://localhost:8080/",
          "height": 123
        },
        "id": "1AEf4CumjhQA",
        "outputId": "320ed87f-db95-4df9-a806-8eb53354301d"
      },
      "execution_count": 110,
      "outputs": [
        {
          "output_type": "execute_result",
          "data": {
            "text/plain": [
              "Empty DataFrame\n",
              "Columns: [gameDuration, winner, firstBlood, firstTower, firstInhibitor, firstBaron, firstDragon, firstRiftHerald, t1_champ1_sum1, t1_champ1_sum2, t1_champ2_sum1, t1_champ2_sum2, t1_champ3_sum1, t1_champ3_sum2, t1_champ4_sum1, t1_champ4_sum2, t1_champ5_sum1, t1_champ5_sum2, t1_towerKills, t1_inhibitorKills, t1_baronKills, t1_dragonKills, t1_riftHeraldKills, t2_champ1_sum1, t2_champ1_sum2, t2_champ2_sum1, t2_champ2_sum2, t2_champ3_sum1, t2_champ3_sum2, t2_champ4_sum1, t2_champ4_sum2, t2_champ5_sum1, t2_champ5_sum2, t2_towerKills, t2_inhibitorKills, t2_baronKills, t2_dragonKills, t2_riftHeraldKills]\n",
              "Index: []\n",
              "\n",
              "[0 rows x 38 columns]"
            ],
            "text/html": [
              "\n",
              "  <div id=\"df-eaf42db3-e68f-479e-ba31-11abb9e463fc\">\n",
              "    <div class=\"colab-df-container\">\n",
              "      <div>\n",
              "<style scoped>\n",
              "    .dataframe tbody tr th:only-of-type {\n",
              "        vertical-align: middle;\n",
              "    }\n",
              "\n",
              "    .dataframe tbody tr th {\n",
              "        vertical-align: top;\n",
              "    }\n",
              "\n",
              "    .dataframe thead th {\n",
              "        text-align: right;\n",
              "    }\n",
              "</style>\n",
              "<table border=\"1\" class=\"dataframe\">\n",
              "  <thead>\n",
              "    <tr style=\"text-align: right;\">\n",
              "      <th></th>\n",
              "      <th>gameDuration</th>\n",
              "      <th>winner</th>\n",
              "      <th>firstBlood</th>\n",
              "      <th>firstTower</th>\n",
              "      <th>firstInhibitor</th>\n",
              "      <th>firstBaron</th>\n",
              "      <th>firstDragon</th>\n",
              "      <th>firstRiftHerald</th>\n",
              "      <th>t1_champ1_sum1</th>\n",
              "      <th>t1_champ1_sum2</th>\n",
              "      <th>...</th>\n",
              "      <th>t2_champ3_sum2</th>\n",
              "      <th>t2_champ4_sum1</th>\n",
              "      <th>t2_champ4_sum2</th>\n",
              "      <th>t2_champ5_sum1</th>\n",
              "      <th>t2_champ5_sum2</th>\n",
              "      <th>t2_towerKills</th>\n",
              "      <th>t2_inhibitorKills</th>\n",
              "      <th>t2_baronKills</th>\n",
              "      <th>t2_dragonKills</th>\n",
              "      <th>t2_riftHeraldKills</th>\n",
              "    </tr>\n",
              "  </thead>\n",
              "  <tbody>\n",
              "  </tbody>\n",
              "</table>\n",
              "<p>0 rows × 38 columns</p>\n",
              "</div>\n",
              "      <button class=\"colab-df-convert\" onclick=\"convertToInteractive('df-eaf42db3-e68f-479e-ba31-11abb9e463fc')\"\n",
              "              title=\"Convert this dataframe to an interactive table.\"\n",
              "              style=\"display:none;\">\n",
              "        \n",
              "  <svg xmlns=\"http://www.w3.org/2000/svg\" height=\"24px\"viewBox=\"0 0 24 24\"\n",
              "       width=\"24px\">\n",
              "    <path d=\"M0 0h24v24H0V0z\" fill=\"none\"/>\n",
              "    <path d=\"M18.56 5.44l.94 2.06.94-2.06 2.06-.94-2.06-.94-.94-2.06-.94 2.06-2.06.94zm-11 1L8.5 8.5l.94-2.06 2.06-.94-2.06-.94L8.5 2.5l-.94 2.06-2.06.94zm10 10l.94 2.06.94-2.06 2.06-.94-2.06-.94-.94-2.06-.94 2.06-2.06.94z\"/><path d=\"M17.41 7.96l-1.37-1.37c-.4-.4-.92-.59-1.43-.59-.52 0-1.04.2-1.43.59L10.3 9.45l-7.72 7.72c-.78.78-.78 2.05 0 2.83L4 21.41c.39.39.9.59 1.41.59.51 0 1.02-.2 1.41-.59l7.78-7.78 2.81-2.81c.8-.78.8-2.07 0-2.86zM5.41 20L4 18.59l7.72-7.72 1.47 1.35L5.41 20z\"/>\n",
              "  </svg>\n",
              "      </button>\n",
              "      \n",
              "  <style>\n",
              "    .colab-df-container {\n",
              "      display:flex;\n",
              "      flex-wrap:wrap;\n",
              "      gap: 12px;\n",
              "    }\n",
              "\n",
              "    .colab-df-convert {\n",
              "      background-color: #E8F0FE;\n",
              "      border: none;\n",
              "      border-radius: 50%;\n",
              "      cursor: pointer;\n",
              "      display: none;\n",
              "      fill: #1967D2;\n",
              "      height: 32px;\n",
              "      padding: 0 0 0 0;\n",
              "      width: 32px;\n",
              "    }\n",
              "\n",
              "    .colab-df-convert:hover {\n",
              "      background-color: #E2EBFA;\n",
              "      box-shadow: 0px 1px 2px rgba(60, 64, 67, 0.3), 0px 1px 3px 1px rgba(60, 64, 67, 0.15);\n",
              "      fill: #174EA6;\n",
              "    }\n",
              "\n",
              "    [theme=dark] .colab-df-convert {\n",
              "      background-color: #3B4455;\n",
              "      fill: #D2E3FC;\n",
              "    }\n",
              "\n",
              "    [theme=dark] .colab-df-convert:hover {\n",
              "      background-color: #434B5C;\n",
              "      box-shadow: 0px 1px 3px 1px rgba(0, 0, 0, 0.15);\n",
              "      filter: drop-shadow(0px 1px 2px rgba(0, 0, 0, 0.3));\n",
              "      fill: #FFFFFF;\n",
              "    }\n",
              "  </style>\n",
              "\n",
              "      <script>\n",
              "        const buttonEl =\n",
              "          document.querySelector('#df-eaf42db3-e68f-479e-ba31-11abb9e463fc button.colab-df-convert');\n",
              "        buttonEl.style.display =\n",
              "          google.colab.kernel.accessAllowed ? 'block' : 'none';\n",
              "\n",
              "        async function convertToInteractive(key) {\n",
              "          const element = document.querySelector('#df-eaf42db3-e68f-479e-ba31-11abb9e463fc');\n",
              "          const dataTable =\n",
              "            await google.colab.kernel.invokeFunction('convertToInteractive',\n",
              "                                                     [key], {});\n",
              "          if (!dataTable) return;\n",
              "\n",
              "          const docLinkHtml = 'Like what you see? Visit the ' +\n",
              "            '<a target=\"_blank\" href=https://colab.research.google.com/notebooks/data_table.ipynb>data table notebook</a>'\n",
              "            + ' to learn more about interactive tables.';\n",
              "          element.innerHTML = '';\n",
              "          dataTable['output_type'] = 'display_data';\n",
              "          await google.colab.output.renderOutput(dataTable, element);\n",
              "          const docLink = document.createElement('div');\n",
              "          docLink.innerHTML = docLinkHtml;\n",
              "          element.appendChild(docLink);\n",
              "        }\n",
              "      </script>\n",
              "    </div>\n",
              "  </div>\n",
              "  "
            ]
          },
          "metadata": {},
          "execution_count": 110
        }
      ]
    },
    {
      "cell_type": "markdown",
      "source": [
        "# 스펠 분석을 하기 위한 전처리 과정\n",
        "- 각 라인에서 주로 쓰이는 스펠을 조사한다\n",
        "- 만약 한 라인이라도 주로 쓰이는 스펠을 들지 않을때 승률이 올라가는지를 확인하고 싶다\n",
        "- 주로 쓰이는 스펠을 들고 있는지 (yes:1 no : 0) 칼럼을 만들자"
      ],
      "metadata": {
        "id": "vbjM3VGU0pKY"
      }
    },
    {
      "cell_type": "markdown",
      "source": [
        "## 스펠 설명\n",
        "\n",
        "- 1 : 정화 \n",
        "- 3 : 탈진\n",
        "- 4 : 점멸\n",
        "- 6 : 유체화\n",
        "- 7 : 힐\n",
        "- 11 : 강타\n",
        "- 12 : 순간이동\n",
        "- 14 : 점화\n",
        "- 21 : 방어막\n",
        "\n",
        "[스킬에 대한 정보](https://namu.wiki/w/%EC%86%8C%ED%99%98%EC%82%AC%20%EC%A3%BC%EB%AC%B8#s-4.2)"
      ],
      "metadata": {
        "id": "QWr61DiD1dUs"
      }
    },
    {
      "cell_type": "markdown",
      "source": [
        "### 가장 많이 쓰이는 스펠\n",
        "\n",
        "- 경험법칙과 [통계](https://www.leagueofgraphs.com/champions/spells/master/sr-ranked)를 기반으로 조사\n",
        "- 텔레포트, 강타, 점멸, 힐, 탈진라고 예상함 (각 라인별 특성 및 도메인)\n"
      ],
      "metadata": {
        "id": "oxCEkvt5BR3n"
      }
    },
    {
      "cell_type": "markdown",
      "source": [
        "팀당 스펠을 종합하여서 중복을 제거하고 나열하였을때에 만약 저 5개가 스펠만 있는지? 혹은 다른 스펠을 쓰고 있는지를 칼럼으로 만들자"
      ],
      "metadata": {
        "id": "BiZ16KaAB0wC"
      }
    },
    {
      "cell_type": "code",
      "source": [
        "chap_sum= [i for i in data_game.columns if 'sum' in i]"
      ],
      "metadata": {
        "id": "ewfdmHS01X0I"
      },
      "execution_count": 111,
      "outputs": []
    },
    {
      "cell_type": "code",
      "source": [
        "data_sum = data_game[chap_sum]\n",
        "data_sum.head()"
      ],
      "metadata": {
        "colab": {
          "base_uri": "https://localhost:8080/",
          "height": 270
        },
        "id": "xGDmm7pbCHEI",
        "outputId": "f22ddc76-85af-4339-cb95-6d40b0dc1db5"
      },
      "execution_count": 112,
      "outputs": [
        {
          "output_type": "execute_result",
          "data": {
            "text/plain": [
              "   t1_champ1_sum1  t1_champ1_sum2  t1_champ2_sum1  t1_champ2_sum2  \\\n",
              "0              12               4               3               4   \n",
              "1               7               4              12               4   \n",
              "2               4               7              11               4   \n",
              "3               4              12               4              14   \n",
              "4               4              12              11               4   \n",
              "\n",
              "   t1_champ3_sum1  t1_champ3_sum2  t1_champ4_sum1  t1_champ4_sum2  \\\n",
              "0               4               7              11               6   \n",
              "1               4               3               4              14   \n",
              "2               3               4               4              12   \n",
              "3               4               7               4               1   \n",
              "4               4               3               4               7   \n",
              "\n",
              "   t1_champ5_sum1  t1_champ5_sum2  t2_champ1_sum1  t2_champ1_sum2  \\\n",
              "0               4              14              11               4   \n",
              "1               4              11               4              12   \n",
              "2              12               4               4               7   \n",
              "3              11               4              14               4   \n",
              "4               7               4               3               4   \n",
              "\n",
              "   t2_champ2_sum1  t2_champ2_sum2  t2_champ3_sum1  t2_champ3_sum2  \\\n",
              "0               4               7               6               4   \n",
              "1               4              14              11               4   \n",
              "2              14               4               4              12   \n",
              "3              11               4               4               3   \n",
              "4               4              12              11               4   \n",
              "\n",
              "   t2_champ4_sum1  t2_champ4_sum2  t2_champ5_sum1  t2_champ5_sum2  \n",
              "0              14               4               4               3  \n",
              "1               4              14               4               7  \n",
              "2               4              11               7               4  \n",
              "3               4              14               4               7  \n",
              "4               4              12               4               7  "
            ],
            "text/html": [
              "\n",
              "  <div id=\"df-c8b2193b-f291-4ec2-a38f-ed2cde179507\">\n",
              "    <div class=\"colab-df-container\">\n",
              "      <div>\n",
              "<style scoped>\n",
              "    .dataframe tbody tr th:only-of-type {\n",
              "        vertical-align: middle;\n",
              "    }\n",
              "\n",
              "    .dataframe tbody tr th {\n",
              "        vertical-align: top;\n",
              "    }\n",
              "\n",
              "    .dataframe thead th {\n",
              "        text-align: right;\n",
              "    }\n",
              "</style>\n",
              "<table border=\"1\" class=\"dataframe\">\n",
              "  <thead>\n",
              "    <tr style=\"text-align: right;\">\n",
              "      <th></th>\n",
              "      <th>t1_champ1_sum1</th>\n",
              "      <th>t1_champ1_sum2</th>\n",
              "      <th>t1_champ2_sum1</th>\n",
              "      <th>t1_champ2_sum2</th>\n",
              "      <th>t1_champ3_sum1</th>\n",
              "      <th>t1_champ3_sum2</th>\n",
              "      <th>t1_champ4_sum1</th>\n",
              "      <th>t1_champ4_sum2</th>\n",
              "      <th>t1_champ5_sum1</th>\n",
              "      <th>t1_champ5_sum2</th>\n",
              "      <th>t2_champ1_sum1</th>\n",
              "      <th>t2_champ1_sum2</th>\n",
              "      <th>t2_champ2_sum1</th>\n",
              "      <th>t2_champ2_sum2</th>\n",
              "      <th>t2_champ3_sum1</th>\n",
              "      <th>t2_champ3_sum2</th>\n",
              "      <th>t2_champ4_sum1</th>\n",
              "      <th>t2_champ4_sum2</th>\n",
              "      <th>t2_champ5_sum1</th>\n",
              "      <th>t2_champ5_sum2</th>\n",
              "    </tr>\n",
              "  </thead>\n",
              "  <tbody>\n",
              "    <tr>\n",
              "      <th>0</th>\n",
              "      <td>12</td>\n",
              "      <td>4</td>\n",
              "      <td>3</td>\n",
              "      <td>4</td>\n",
              "      <td>4</td>\n",
              "      <td>7</td>\n",
              "      <td>11</td>\n",
              "      <td>6</td>\n",
              "      <td>4</td>\n",
              "      <td>14</td>\n",
              "      <td>11</td>\n",
              "      <td>4</td>\n",
              "      <td>4</td>\n",
              "      <td>7</td>\n",
              "      <td>6</td>\n",
              "      <td>4</td>\n",
              "      <td>14</td>\n",
              "      <td>4</td>\n",
              "      <td>4</td>\n",
              "      <td>3</td>\n",
              "    </tr>\n",
              "    <tr>\n",
              "      <th>1</th>\n",
              "      <td>7</td>\n",
              "      <td>4</td>\n",
              "      <td>12</td>\n",
              "      <td>4</td>\n",
              "      <td>4</td>\n",
              "      <td>3</td>\n",
              "      <td>4</td>\n",
              "      <td>14</td>\n",
              "      <td>4</td>\n",
              "      <td>11</td>\n",
              "      <td>4</td>\n",
              "      <td>12</td>\n",
              "      <td>4</td>\n",
              "      <td>14</td>\n",
              "      <td>11</td>\n",
              "      <td>4</td>\n",
              "      <td>4</td>\n",
              "      <td>14</td>\n",
              "      <td>4</td>\n",
              "      <td>7</td>\n",
              "    </tr>\n",
              "    <tr>\n",
              "      <th>2</th>\n",
              "      <td>4</td>\n",
              "      <td>7</td>\n",
              "      <td>11</td>\n",
              "      <td>4</td>\n",
              "      <td>3</td>\n",
              "      <td>4</td>\n",
              "      <td>4</td>\n",
              "      <td>12</td>\n",
              "      <td>12</td>\n",
              "      <td>4</td>\n",
              "      <td>4</td>\n",
              "      <td>7</td>\n",
              "      <td>14</td>\n",
              "      <td>4</td>\n",
              "      <td>4</td>\n",
              "      <td>12</td>\n",
              "      <td>4</td>\n",
              "      <td>11</td>\n",
              "      <td>7</td>\n",
              "      <td>4</td>\n",
              "    </tr>\n",
              "    <tr>\n",
              "      <th>3</th>\n",
              "      <td>4</td>\n",
              "      <td>12</td>\n",
              "      <td>4</td>\n",
              "      <td>14</td>\n",
              "      <td>4</td>\n",
              "      <td>7</td>\n",
              "      <td>4</td>\n",
              "      <td>1</td>\n",
              "      <td>11</td>\n",
              "      <td>4</td>\n",
              "      <td>14</td>\n",
              "      <td>4</td>\n",
              "      <td>11</td>\n",
              "      <td>4</td>\n",
              "      <td>4</td>\n",
              "      <td>3</td>\n",
              "      <td>4</td>\n",
              "      <td>14</td>\n",
              "      <td>4</td>\n",
              "      <td>7</td>\n",
              "    </tr>\n",
              "    <tr>\n",
              "      <th>4</th>\n",
              "      <td>4</td>\n",
              "      <td>12</td>\n",
              "      <td>11</td>\n",
              "      <td>4</td>\n",
              "      <td>4</td>\n",
              "      <td>3</td>\n",
              "      <td>4</td>\n",
              "      <td>7</td>\n",
              "      <td>7</td>\n",
              "      <td>4</td>\n",
              "      <td>3</td>\n",
              "      <td>4</td>\n",
              "      <td>4</td>\n",
              "      <td>12</td>\n",
              "      <td>11</td>\n",
              "      <td>4</td>\n",
              "      <td>4</td>\n",
              "      <td>12</td>\n",
              "      <td>4</td>\n",
              "      <td>7</td>\n",
              "    </tr>\n",
              "  </tbody>\n",
              "</table>\n",
              "</div>\n",
              "      <button class=\"colab-df-convert\" onclick=\"convertToInteractive('df-c8b2193b-f291-4ec2-a38f-ed2cde179507')\"\n",
              "              title=\"Convert this dataframe to an interactive table.\"\n",
              "              style=\"display:none;\">\n",
              "        \n",
              "  <svg xmlns=\"http://www.w3.org/2000/svg\" height=\"24px\"viewBox=\"0 0 24 24\"\n",
              "       width=\"24px\">\n",
              "    <path d=\"M0 0h24v24H0V0z\" fill=\"none\"/>\n",
              "    <path d=\"M18.56 5.44l.94 2.06.94-2.06 2.06-.94-2.06-.94-.94-2.06-.94 2.06-2.06.94zm-11 1L8.5 8.5l.94-2.06 2.06-.94-2.06-.94L8.5 2.5l-.94 2.06-2.06.94zm10 10l.94 2.06.94-2.06 2.06-.94-2.06-.94-.94-2.06-.94 2.06-2.06.94z\"/><path d=\"M17.41 7.96l-1.37-1.37c-.4-.4-.92-.59-1.43-.59-.52 0-1.04.2-1.43.59L10.3 9.45l-7.72 7.72c-.78.78-.78 2.05 0 2.83L4 21.41c.39.39.9.59 1.41.59.51 0 1.02-.2 1.41-.59l7.78-7.78 2.81-2.81c.8-.78.8-2.07 0-2.86zM5.41 20L4 18.59l7.72-7.72 1.47 1.35L5.41 20z\"/>\n",
              "  </svg>\n",
              "      </button>\n",
              "      \n",
              "  <style>\n",
              "    .colab-df-container {\n",
              "      display:flex;\n",
              "      flex-wrap:wrap;\n",
              "      gap: 12px;\n",
              "    }\n",
              "\n",
              "    .colab-df-convert {\n",
              "      background-color: #E8F0FE;\n",
              "      border: none;\n",
              "      border-radius: 50%;\n",
              "      cursor: pointer;\n",
              "      display: none;\n",
              "      fill: #1967D2;\n",
              "      height: 32px;\n",
              "      padding: 0 0 0 0;\n",
              "      width: 32px;\n",
              "    }\n",
              "\n",
              "    .colab-df-convert:hover {\n",
              "      background-color: #E2EBFA;\n",
              "      box-shadow: 0px 1px 2px rgba(60, 64, 67, 0.3), 0px 1px 3px 1px rgba(60, 64, 67, 0.15);\n",
              "      fill: #174EA6;\n",
              "    }\n",
              "\n",
              "    [theme=dark] .colab-df-convert {\n",
              "      background-color: #3B4455;\n",
              "      fill: #D2E3FC;\n",
              "    }\n",
              "\n",
              "    [theme=dark] .colab-df-convert:hover {\n",
              "      background-color: #434B5C;\n",
              "      box-shadow: 0px 1px 3px 1px rgba(0, 0, 0, 0.15);\n",
              "      filter: drop-shadow(0px 1px 2px rgba(0, 0, 0, 0.3));\n",
              "      fill: #FFFFFF;\n",
              "    }\n",
              "  </style>\n",
              "\n",
              "      <script>\n",
              "        const buttonEl =\n",
              "          document.querySelector('#df-c8b2193b-f291-4ec2-a38f-ed2cde179507 button.colab-df-convert');\n",
              "        buttonEl.style.display =\n",
              "          google.colab.kernel.accessAllowed ? 'block' : 'none';\n",
              "\n",
              "        async function convertToInteractive(key) {\n",
              "          const element = document.querySelector('#df-c8b2193b-f291-4ec2-a38f-ed2cde179507');\n",
              "          const dataTable =\n",
              "            await google.colab.kernel.invokeFunction('convertToInteractive',\n",
              "                                                     [key], {});\n",
              "          if (!dataTable) return;\n",
              "\n",
              "          const docLinkHtml = 'Like what you see? Visit the ' +\n",
              "            '<a target=\"_blank\" href=https://colab.research.google.com/notebooks/data_table.ipynb>data table notebook</a>'\n",
              "            + ' to learn more about interactive tables.';\n",
              "          element.innerHTML = '';\n",
              "          dataTable['output_type'] = 'display_data';\n",
              "          await google.colab.output.renderOutput(dataTable, element);\n",
              "          const docLink = document.createElement('div');\n",
              "          docLink.innerHTML = docLinkHtml;\n",
              "          element.appendChild(docLink);\n",
              "        }\n",
              "      </script>\n",
              "    </div>\n",
              "  </div>\n",
              "  "
            ]
          },
          "metadata": {},
          "execution_count": 112
        }
      ]
    },
    {
      "cell_type": "code",
      "source": [
        "data_sum.iloc[0,9]"
      ],
      "metadata": {
        "id": "1gl5GHovOwI9",
        "outputId": "544f0ab4-2064-466f-bec5-41c0b314f4b2",
        "colab": {
          "base_uri": "https://localhost:8080/"
        }
      },
      "execution_count": 113,
      "outputs": [
        {
          "output_type": "execute_result",
          "data": {
            "text/plain": [
              "14"
            ]
          },
          "metadata": {},
          "execution_count": 113
        }
      ]
    },
    {
      "cell_type": "markdown",
      "source": [
        "### 각 경기당 쓰이는 스펠을 조사하여서 가장 많이 쓰이는 스펠 찾기\n",
        "- 먼저 apply로 인덱스마다(여기서는 각 경기) 스펠을 합치고 set()으로 중복을 제거하여서 ans에 넣어둠\n",
        "- ans에는 50181개의 리스트로 이루어져 있다. 이 각각의 리스트에는 사용된 스팰이 있다.\n",
        "- collections 의 Counter()을 이용하여서 각 리스트 안의 스팰을 체크하여서 수를 센다\n",
        "\n",
        "- Counter()끼리 더해서 ans안에 있는 모든 set의 개수를 세어서 제일 많이 사용된 스펠을 찾는다"
      ],
      "metadata": {
        "id": "4DmseHU14yo1"
      }
    },
    {
      "cell_type": "code",
      "source": [
        "data_game.shape[0]"
      ],
      "metadata": {
        "colab": {
          "base_uri": "https://localhost:8080/"
        },
        "id": "U9Ikr8AjkPFM",
        "outputId": "6fdebc88-d146-4b1b-8262-74c93e8de942"
      },
      "execution_count": 114,
      "outputs": [
        {
          "output_type": "execute_result",
          "data": {
            "text/plain": [
              "50181"
            ]
          },
          "metadata": {},
          "execution_count": 114
        }
      ]
    },
    {
      "cell_type": "code",
      "source": [
        "#50181은 data_game.shape[0]으로 데이터에 있는 게임의 경기 수를 의미한다\n",
        "# for문으로 하나의 인덱스(하나의 경기)마다 1팀(data_sum.iloc[i][:10])과 2팀(data_sum.iloc[i][10:])으로 스펠을 가져오고,\n",
        "# 이를 value로 어레이로 그 다음에 tolist()로 리스트의 형태로 바꿔준다\n",
        "# 마지막으로 각 팀당 사용되는 스펠을 조사하는 것이니 중복은 의미가 없으니 set()로 한다음에 각각의 ans에 넣어준다\n",
        "\n",
        "\n",
        "ans_1 = []\n",
        "ans_2 = []\n",
        "\n",
        "for i in range(50181):\n",
        "\n",
        "  \n",
        "  li_1  = data_sum.iloc[i][:10].values.tolist()\n",
        "  li_2  = data_sum.iloc[i][10:].values.tolist()\n",
        "  \n",
        "\n",
        "  li_1 = set(li_1)\n",
        "  li_2 = set(li_2)\n",
        "  \n",
        "  ans_1.append(li_1)\n",
        "  ans_2.append(li_2)"
      ],
      "metadata": {
        "id": "ZGX3iPfzw_c4"
      },
      "execution_count": 115,
      "outputs": []
    },
    {
      "cell_type": "code",
      "source": [
        "len(ans_1) == len(ans_2) #두 팀의 스펠의 사용여부의 개수가 같음을 확인"
      ],
      "metadata": {
        "id": "5Nk0WPJ4Rjyw",
        "outputId": "8bbc3a62-5406-4800-838b-c36fbf7fa5d4",
        "colab": {
          "base_uri": "https://localhost:8080/"
        }
      },
      "execution_count": 116,
      "outputs": [
        {
          "output_type": "execute_result",
          "data": {
            "text/plain": [
              "True"
            ]
          },
          "metadata": {},
          "execution_count": 116
        }
      ]
    },
    {
      "cell_type": "code",
      "source": [
        "# 각 경기당 사용된 스펠\n",
        "# 1팀의 첫번째 ans_1[0](첫번째 경기)는 3,4,6,7,11,12,14의 스펠이 사용되었다는 것을 알 수 있다.\n",
        "# 두번째 경기 ans[1]에서는 6번이 없다. 그러니까 유체화 스펠이 사용되지 않았다는 것을 확인 할 수 있다.\n",
        "# 스펠을 숫자로 바꾼 것인데 스펠에 대한 숫자는 위에 명시되어 있다.\n",
        "ans_1"
      ],
      "metadata": {
        "colab": {
          "base_uri": "https://localhost:8080/"
        },
        "id": "lS0CvoHrxsXd",
        "outputId": "22ea0b99-a2cf-4b55-ba2c-9e403f0ee933"
      },
      "execution_count": 117,
      "outputs": [
        {
          "output_type": "execute_result",
          "data": {
            "text/plain": [
              "[{3, 4, 6, 7, 11, 12, 14},\n",
              " {3, 4, 7, 11, 12, 14},\n",
              " {3, 4, 7, 11, 12},\n",
              " {1, 4, 7, 11, 12, 14},\n",
              " {3, 4, 7, 11, 12},\n",
              " {3, 4, 7, 11, 12},\n",
              " {3, 4, 7, 11, 12},\n",
              " {3, 4, 7, 11, 12, 14},\n",
              " {3, 4, 7, 11, 12},\n",
              " {3, 4, 7, 11, 12, 14},\n",
              " {3, 4, 7, 11, 12, 21},\n",
              " {3, 4, 7, 11, 12},\n",
              " {4, 7, 11, 12, 14},\n",
              " {3, 4, 7, 11, 12},\n",
              " {3, 4, 7, 11, 14},\n",
              " {3, 4, 7, 11, 12, 14},\n",
              " {3, 4, 7, 11, 12, 21},\n",
              " {3, 4, 7, 11, 12},\n",
              " {3, 4, 7, 11, 12},\n",
              " {3, 4, 7, 11, 12},\n",
              " {3, 4, 7, 11, 12},\n",
              " {3, 4, 7, 11, 12, 14},\n",
              " {3, 4, 7, 11, 12},\n",
              " {4, 6, 7, 11, 12, 14},\n",
              " {4, 7, 11, 12, 14},\n",
              " {3, 4, 7, 11, 14},\n",
              " {3, 4, 7, 11, 14},\n",
              " {3, 4, 7, 11, 12},\n",
              " {4, 7, 11, 12, 14},\n",
              " {3, 4, 7, 11, 12, 14},\n",
              " {4, 7, 11, 12, 14},\n",
              " {3, 4, 7, 11, 12},\n",
              " {3, 4, 7, 11, 12, 14},\n",
              " {3, 4, 7, 11, 12, 21},\n",
              " {3, 4, 7, 11, 12},\n",
              " {1, 3, 4, 7, 11, 12},\n",
              " {3, 4, 6, 7, 11, 12},\n",
              " {4, 7, 11, 12, 14},\n",
              " {3, 4, 7, 11, 12, 21},\n",
              " {3, 4, 7, 11, 12, 14},\n",
              " {3, 4, 7, 11, 12},\n",
              " {4, 7, 11, 12, 14, 21},\n",
              " {3, 4, 7, 11, 12, 14},\n",
              " {3, 4, 7, 11, 12},\n",
              " {3, 4, 7, 11, 14, 21},\n",
              " {4, 6, 7, 11, 12, 14},\n",
              " {4, 7, 11, 12, 14},\n",
              " {3, 4, 6, 7, 11, 12},\n",
              " {3, 4, 7, 11, 12},\n",
              " {3, 4, 7, 11, 12, 14},\n",
              " {3, 4, 7, 11, 12, 21},\n",
              " {4, 7, 11, 12, 14},\n",
              " {4, 7, 11, 12, 14, 21},\n",
              " {4, 7, 11, 12, 14},\n",
              " {3, 4, 7, 11, 12, 14},\n",
              " {3, 4, 7, 11, 12, 14},\n",
              " {3, 4, 6, 7, 11, 12, 14},\n",
              " {3, 4, 7, 11, 12, 14},\n",
              " {3, 4, 6, 7, 11, 12, 14},\n",
              " {3, 4, 7, 11, 12},\n",
              " {3, 4, 7, 11, 14},\n",
              " {3, 4, 7, 11, 12},\n",
              " {3, 4, 7, 11, 12, 14},\n",
              " {3, 4, 7, 11, 12, 14},\n",
              " {3, 4, 7, 11, 12, 21},\n",
              " {3, 4, 7, 11, 12, 14},\n",
              " {4, 6, 7, 11, 12, 14},\n",
              " {1, 3, 4, 7, 11, 12},\n",
              " {3, 4, 6, 7, 11, 12},\n",
              " {3, 4, 7, 11, 12, 21},\n",
              " {3, 4, 7, 11, 21},\n",
              " {4, 7, 11, 12, 14, 21},\n",
              " {3, 4, 7, 11, 12, 14},\n",
              " {3, 4, 6, 7, 11, 12},\n",
              " {3, 4, 7, 11, 12, 14},\n",
              " {3, 4, 7, 11, 12, 14},\n",
              " {4, 7, 11, 12, 14},\n",
              " {3, 4, 6, 7, 11, 12},\n",
              " {3, 4, 7, 11, 12, 14},\n",
              " {3, 4, 6, 7, 11, 12},\n",
              " {3, 4, 7, 11, 21},\n",
              " {3, 4, 7, 11, 12, 14},\n",
              " {4, 7, 11, 12, 14},\n",
              " {4, 7, 11, 12, 14},\n",
              " {3, 4, 7, 11, 14},\n",
              " {3, 4, 7, 11, 12, 14},\n",
              " {3, 4, 7, 11, 12, 14},\n",
              " {3, 4, 6, 7, 11, 12},\n",
              " {3, 4, 6, 7, 11, 12, 14},\n",
              " {4, 7, 11, 14},\n",
              " {3, 4, 7, 11, 12},\n",
              " {3, 4, 7, 11, 12, 14},\n",
              " {3, 4, 7, 11, 12, 14},\n",
              " {3, 4, 7, 11, 12},\n",
              " {3, 4, 7, 11, 12, 14},\n",
              " {4, 7, 11, 12, 14, 21},\n",
              " {3, 4, 7, 11, 12, 14},\n",
              " {3, 4, 7, 11, 12, 14},\n",
              " {4, 7, 11, 12, 21},\n",
              " {3, 4, 7, 11, 12, 21},\n",
              " {3, 4, 6, 7, 11, 12, 21},\n",
              " {3, 4, 6, 7, 11, 12, 14},\n",
              " {3, 4, 6, 7, 11, 12},\n",
              " {3, 4, 6, 7, 11, 12, 21},\n",
              " {3, 4, 7, 11, 12, 21},\n",
              " {4, 11, 12, 14, 21},\n",
              " {3, 4, 7, 11, 12},\n",
              " {3, 4, 7, 11, 12, 14},\n",
              " {3, 4, 7, 11, 12, 14},\n",
              " {3, 4, 7, 11, 12, 14},\n",
              " {3, 4, 7, 11, 12, 14},\n",
              " {3, 4, 7, 11, 12, 14},\n",
              " {3, 4, 7, 11, 12, 14},\n",
              " {3, 4, 7, 11, 14},\n",
              " {3, 4, 7, 11, 12, 21},\n",
              " {1, 3, 4, 7, 11, 12},\n",
              " {3, 4, 6, 11, 12},\n",
              " {3, 4, 7, 11, 14},\n",
              " {3, 4, 6, 7, 11, 12, 14},\n",
              " {3, 4, 6, 7, 11, 12, 14},\n",
              " {4, 6, 7, 11, 14},\n",
              " {3, 4, 7, 11, 12},\n",
              " {4, 7, 11, 12, 14},\n",
              " {3, 4, 7, 11, 12, 14},\n",
              " {3, 4, 7, 11, 12, 14},\n",
              " {3, 4, 7, 11, 12, 14},\n",
              " {3, 4, 6, 7, 11, 12},\n",
              " {3, 4, 7, 11, 12, 14},\n",
              " {3, 4, 7, 11, 12},\n",
              " {3, 4, 7, 11, 12, 14},\n",
              " {3, 4, 7, 11, 14},\n",
              " {3, 4, 7, 11, 12},\n",
              " {3, 4, 7, 11, 12, 21},\n",
              " {3, 4, 7, 11, 12, 21},\n",
              " {3, 4, 7, 11, 12, 14},\n",
              " {4, 7, 11, 12, 14, 21},\n",
              " {3, 4, 7, 11, 12, 14},\n",
              " {3, 4, 7, 11, 12, 14},\n",
              " {3, 4, 7, 11, 12},\n",
              " {3, 4, 7, 11, 12},\n",
              " {4, 7, 11, 12, 14, 21},\n",
              " {3, 4, 7, 11, 12, 14},\n",
              " {3, 4, 7, 11, 12, 14},\n",
              " {4, 7, 11, 12, 14},\n",
              " {3, 4, 7, 12, 14},\n",
              " {4, 7, 11, 12, 14},\n",
              " {3, 4, 7, 11, 12, 14},\n",
              " {3, 4, 7, 11, 12},\n",
              " {4, 7, 11, 12, 14},\n",
              " {3, 4, 7, 11, 12, 14},\n",
              " {3, 4, 7, 11, 12, 14},\n",
              " {3, 4, 7, 11, 12, 21},\n",
              " {4, 7, 11, 12, 14, 21},\n",
              " {3, 4, 7, 11, 12},\n",
              " {3, 4, 7, 11, 12, 14},\n",
              " {3, 4, 7, 11, 12, 21},\n",
              " {4, 7, 11, 12, 14},\n",
              " {3, 4, 7, 11, 12},\n",
              " {4, 7, 11, 12, 14},\n",
              " {4, 7, 11, 14, 21},\n",
              " {3, 4, 7, 11, 12},\n",
              " {3, 4, 7, 11, 12, 14},\n",
              " {4, 7, 11, 12, 14},\n",
              " {1, 4, 7, 11, 12, 14},\n",
              " {3, 4, 7, 11, 12, 14},\n",
              " {3, 4, 7, 11, 12},\n",
              " {3, 4, 7, 11, 12, 14},\n",
              " {3, 4, 7, 11, 12, 14},\n",
              " {3, 4, 7, 11, 14},\n",
              " {3, 4, 7, 11, 12, 21},\n",
              " {3, 4, 7, 11, 12},\n",
              " {3, 4, 7, 11, 12, 14},\n",
              " {3, 4, 11, 14},\n",
              " {3, 4, 7, 11, 12, 14},\n",
              " {3, 4, 7, 11, 12},\n",
              " {3, 4, 7, 11, 12},\n",
              " {3, 4, 7, 11, 12, 14},\n",
              " {3, 4, 7, 11, 12, 21},\n",
              " {3, 4, 7, 11, 12},\n",
              " {3, 4, 7, 11, 12, 14},\n",
              " {3, 4, 7, 11, 12, 14},\n",
              " {3, 4, 7, 11, 12, 21},\n",
              " {4, 7, 11, 12, 14, 21},\n",
              " {3, 4, 7, 11, 12, 14},\n",
              " {3, 4, 7, 11, 12, 14},\n",
              " {3, 4, 7, 11, 12, 14},\n",
              " {3, 4, 6, 7, 11, 12, 14},\n",
              " {3, 4, 7, 11, 12, 14},\n",
              " {3, 4, 7, 11, 12, 14},\n",
              " {3, 4, 7, 11, 12},\n",
              " {4, 7, 11, 12, 14},\n",
              " {3, 4, 7, 11, 12, 14},\n",
              " {3, 4, 7, 11, 12},\n",
              " {4, 7, 11, 12, 14},\n",
              " {4, 7, 11, 12, 14},\n",
              " {3, 4, 7, 11, 12, 14},\n",
              " {1, 3, 4, 7, 11, 12},\n",
              " {3, 4, 6, 7, 11, 12, 14},\n",
              " {4, 7, 11, 14, 21},\n",
              " {4, 7, 11, 12, 14},\n",
              " {3, 4, 6, 7, 11, 12},\n",
              " {4, 7, 11, 12, 14},\n",
              " {3, 4, 6, 7, 11, 12, 14},\n",
              " {4, 7, 11, 12, 14},\n",
              " {3, 4, 6, 7, 11, 12, 14},\n",
              " {3, 4, 7, 11, 14},\n",
              " {1, 4, 7, 11, 12, 14},\n",
              " {3, 4, 7, 11, 12, 21},\n",
              " {4, 7, 11, 12, 14},\n",
              " {1, 3, 4, 7, 11, 12},\n",
              " {3, 4, 6, 7, 11, 14},\n",
              " {3, 4, 7, 11, 12, 14},\n",
              " {3, 4, 7, 11, 12, 14},\n",
              " {3, 4, 7, 11, 12, 14},\n",
              " {3, 4, 7, 11, 12},\n",
              " {4, 7, 11, 12, 14, 21},\n",
              " {3, 4, 7, 11, 12, 14},\n",
              " {3, 4, 7, 11, 12, 14},\n",
              " {3, 4, 7, 11, 12},\n",
              " {3, 4, 7, 11, 12, 21},\n",
              " {3, 4, 7, 11, 12, 14},\n",
              " {3, 4, 7, 11, 12, 14},\n",
              " {3, 4, 7, 11, 12},\n",
              " {3, 4, 7, 11, 12, 14},\n",
              " {3, 4, 6, 7, 11, 14, 21},\n",
              " {3, 4, 7, 11, 12},\n",
              " {3, 4, 7, 11, 12, 14},\n",
              " {4, 7, 11, 12, 14},\n",
              " {3, 4, 7, 11, 12, 14},\n",
              " {3, 4, 6, 7, 11},\n",
              " {3, 4, 7, 11, 12},\n",
              " {3, 4, 7, 11, 12, 14},\n",
              " {3, 4, 7, 11, 12, 14},\n",
              " {3, 4, 7, 11, 12, 14},\n",
              " {4, 7, 11, 12, 14},\n",
              " {3, 4, 7, 11, 12, 14},\n",
              " {4, 7, 11, 12, 14},\n",
              " {4, 7, 11, 12, 14},\n",
              " {3, 4, 7, 11, 12, 14},\n",
              " {3, 4, 7, 11, 12},\n",
              " {3, 4, 7, 11, 12},\n",
              " {3, 4, 7, 11, 21},\n",
              " {3, 4, 7, 11, 14},\n",
              " {3, 4, 7, 11, 12, 14},\n",
              " {4, 7, 11, 12},\n",
              " {3, 4, 7, 11, 12, 21},\n",
              " {3, 4, 7, 11, 12, 21},\n",
              " {3, 4, 7, 11, 12, 14},\n",
              " {4, 7, 11, 12, 14},\n",
              " {3, 4, 6, 7, 11, 12},\n",
              " {4, 7, 11, 12, 14},\n",
              " {3, 4, 7, 11, 12},\n",
              " {3, 4, 7, 11, 14},\n",
              " {3, 4, 7, 11, 12, 21},\n",
              " {3, 4, 7, 11, 12, 14},\n",
              " {3, 4, 7, 11, 12, 14},\n",
              " {1, 4, 7, 11, 12, 14},\n",
              " {4, 7, 11, 12, 14},\n",
              " {3, 4, 7, 11, 12},\n",
              " {3, 4, 7, 11, 12, 14},\n",
              " {4, 7, 11, 12, 14, 21},\n",
              " {4, 7, 11, 12, 14},\n",
              " {3, 4, 7, 11, 12, 14},\n",
              " {3, 4, 7, 11, 14, 21},\n",
              " {3, 4, 6, 7, 11, 12},\n",
              " {3, 4, 7, 11, 12},\n",
              " {3, 4, 7, 11, 12},\n",
              " {3, 4, 7, 11, 12},\n",
              " {3, 4, 7, 11, 12, 21},\n",
              " {3, 4, 7, 11, 12},\n",
              " {1, 4, 11, 12, 14},\n",
              " {3, 4, 7, 11, 12},\n",
              " {3, 4, 7, 11, 12},\n",
              " {3, 4, 7, 11, 12, 21},\n",
              " {3, 4, 7, 11, 12, 14},\n",
              " {4, 7, 11, 12, 14, 21},\n",
              " {4, 7, 11, 12, 14},\n",
              " {3, 4, 7, 11, 12, 14},\n",
              " {4, 7, 11, 14},\n",
              " {3, 4, 7, 11, 12},\n",
              " {4, 7, 11, 12, 14},\n",
              " {4, 7, 11, 12, 14},\n",
              " {3, 4, 7, 11, 12, 21},\n",
              " {4, 6, 7, 11, 12, 14},\n",
              " {3, 4, 6, 7, 11, 12},\n",
              " {3, 4, 11, 12, 14},\n",
              " {3, 4, 7, 11, 12, 21},\n",
              " {3, 4, 7, 11, 12, 14},\n",
              " {4, 7, 11, 12, 14},\n",
              " {3, 4, 7, 11, 12},\n",
              " {4, 7, 11, 12, 14},\n",
              " {3, 4, 7, 11, 12, 14},\n",
              " {3, 4, 7, 11, 14, 21},\n",
              " {3, 4, 7, 11, 14},\n",
              " {3, 4, 7, 11, 12, 14},\n",
              " {3, 4, 7, 11, 12},\n",
              " {3, 4, 7, 11, 12},\n",
              " {3, 4, 7, 11, 12},\n",
              " {3, 4, 7, 11, 12},\n",
              " {3, 4, 7, 11, 12},\n",
              " {3, 4, 7, 11, 12},\n",
              " {3, 4, 7, 11, 12},\n",
              " {3, 4, 11, 12, 14},\n",
              " {1, 4, 7, 11, 12},\n",
              " {4, 7, 11, 12, 14},\n",
              " {4, 7, 11, 12, 14},\n",
              " {3, 4, 7, 11, 12, 14},\n",
              " {3, 4, 7, 11, 12, 21},\n",
              " {3, 4, 7, 11, 12, 21},\n",
              " {4, 6, 7, 11, 12, 14},\n",
              " {3, 4, 7, 11, 12, 14},\n",
              " {4, 11, 12, 14, 21},\n",
              " {3, 4, 7, 11, 12, 21},\n",
              " {3, 4, 7, 11, 12, 21},\n",
              " {3, 4, 7, 11, 12, 14},\n",
              " {3, 4, 7, 11, 12},\n",
              " {3, 4, 6, 7, 11, 12, 14},\n",
              " {3, 4, 7, 11, 12, 21},\n",
              " {4, 7, 11, 12, 14, 21},\n",
              " {3, 4, 7, 11, 12, 14},\n",
              " {3, 4, 7, 11, 12, 14},\n",
              " {3, 4, 7, 11, 12, 14},\n",
              " {3, 4, 7, 11, 12},\n",
              " {3, 4, 7, 11, 14},\n",
              " {3, 4, 6, 7, 11, 12},\n",
              " {4, 7, 11, 12, 14},\n",
              " {3, 4, 7, 11, 12, 14},\n",
              " {3, 4, 7, 11, 14},\n",
              " {3, 4, 6, 7, 11, 12},\n",
              " {3, 4, 7, 11, 14},\n",
              " {3, 4, 7, 11, 12, 14},\n",
              " {3, 4, 6, 7, 11, 14, 21},\n",
              " {3, 4, 7, 11, 12, 14},\n",
              " {3, 4, 7, 11, 12, 14},\n",
              " {4, 7, 11, 12, 14},\n",
              " {3, 4, 6, 7, 11, 12},\n",
              " {3, 4, 7, 11, 12, 14},\n",
              " {4, 7, 11, 12, 21},\n",
              " {3, 4, 7, 11, 12, 14},\n",
              " {4, 7, 11, 12, 14},\n",
              " {3, 4, 7, 11, 12, 14},\n",
              " {3, 4, 7, 11, 14},\n",
              " {3, 4, 7, 11, 12, 14},\n",
              " {4, 7, 11, 12, 14},\n",
              " {1, 4, 7, 11, 12, 14},\n",
              " {3, 4, 7, 11, 12, 14},\n",
              " {3, 4, 7, 11, 12, 14},\n",
              " {3, 4, 7, 11, 12, 14},\n",
              " {4, 6, 7, 11, 12, 14},\n",
              " {3, 4, 6, 7, 11, 12},\n",
              " {4, 11, 12, 14},\n",
              " {3, 4, 7, 11, 12},\n",
              " {3, 4, 7, 11, 12, 14},\n",
              " {3, 4, 7, 11, 12, 14},\n",
              " {4, 7, 11, 12, 14},\n",
              " {3, 4, 11, 12, 14},\n",
              " {4, 7, 11, 12, 14, 21},\n",
              " {4, 7, 11, 14, 21},\n",
              " {4, 7, 11, 12, 14},\n",
              " {3, 4, 6, 7, 11, 12, 14},\n",
              " {3, 4, 7, 11, 12, 14},\n",
              " {4, 7, 11, 12, 14},\n",
              " {3, 4, 7, 11, 12},\n",
              " {3, 4, 7, 11, 12, 14},\n",
              " {3, 4, 7, 11, 14},\n",
              " {3, 4, 7, 11, 12, 14},\n",
              " {3, 4, 7, 11, 12},\n",
              " {4, 7, 11, 12, 14},\n",
              " {3, 4, 6, 7, 11, 12},\n",
              " {3, 4, 7, 11, 12, 14},\n",
              " {3, 4, 7, 11, 12, 14},\n",
              " {3, 4, 7, 11, 12, 14},\n",
              " {3, 4, 7, 11, 12},\n",
              " {3, 4, 7, 11, 12, 14},\n",
              " {3, 4, 7, 11, 12, 14},\n",
              " {3, 4, 7, 11, 12},\n",
              " {3, 4, 7, 11, 12},\n",
              " {3, 4, 7, 11, 12},\n",
              " {4, 7, 11, 12, 14},\n",
              " {4, 7, 11, 12, 14},\n",
              " {3, 4, 7, 11, 12, 14},\n",
              " {3, 4, 6, 7, 11, 14},\n",
              " {3, 4, 7, 11, 12, 21},\n",
              " {3, 4, 7, 11, 12},\n",
              " {3, 4, 11, 12, 14},\n",
              " {3, 4, 7, 11, 12},\n",
              " {3, 4, 6, 7, 11, 12},\n",
              " {3, 4, 7, 11, 12},\n",
              " {3, 4, 7, 11, 12, 21},\n",
              " {4, 7, 11, 12, 14},\n",
              " {3, 4, 7, 11, 12},\n",
              " {4, 7, 11, 12, 14, 21},\n",
              " {4, 7, 11, 12, 14, 21},\n",
              " {3, 4, 7, 11, 12, 21},\n",
              " {3, 4, 7, 11, 12, 14},\n",
              " {3, 4, 7, 11, 14, 21},\n",
              " {3, 4, 7, 11, 12},\n",
              " {3, 4, 7, 11, 12, 14},\n",
              " {3, 4, 6, 7, 11, 12},\n",
              " {3, 4, 7, 11, 12, 14},\n",
              " {3, 4, 6, 7, 11, 12},\n",
              " {3, 4, 7, 11, 12, 14},\n",
              " {4, 6, 7, 11, 12, 14},\n",
              " {3, 4, 7, 11, 14},\n",
              " {3, 4, 6, 7, 11, 12},\n",
              " {4, 7, 11, 12, 14},\n",
              " {3, 4, 7, 11, 12, 14},\n",
              " {3, 4, 7, 11, 12, 14},\n",
              " {4, 7, 11, 12, 14, 21},\n",
              " {4, 6, 7, 11, 12},\n",
              " {3, 4, 7, 11, 12},\n",
              " {3, 4, 7, 11, 12},\n",
              " {3, 4, 7, 11, 12, 21},\n",
              " {3, 4, 6, 7, 11, 12, 21},\n",
              " {3, 4, 7, 11, 14},\n",
              " {4, 7, 11, 12, 14},\n",
              " {4, 7, 11, 12, 14, 21},\n",
              " {3, 4, 7, 11, 12, 21},\n",
              " {3, 4, 6, 7, 11, 12, 14},\n",
              " {3, 4, 7, 11, 12, 21},\n",
              " {3, 4, 7, 11, 12, 14},\n",
              " {3, 4, 7, 11, 12, 14},\n",
              " {3, 4, 7, 11, 12, 14},\n",
              " {3, 4, 6, 7, 11, 14},\n",
              " {1, 3, 4, 7, 11, 12},\n",
              " {3, 4, 7, 11, 12},\n",
              " {4, 6, 7, 11, 12},\n",
              " {3, 4, 7, 11, 12, 14},\n",
              " {3, 4, 7, 11, 12, 14},\n",
              " {3, 4, 7, 11, 12, 14},\n",
              " {3, 4, 7, 11, 12, 14},\n",
              " {4, 7, 11, 14},\n",
              " {3, 4, 7, 11, 12},\n",
              " {3, 4, 7, 11, 12, 14},\n",
              " {3, 4, 7, 11, 12},\n",
              " {3, 4, 6, 7, 11, 12},\n",
              " {4, 7, 11, 12, 21},\n",
              " {3, 4, 7, 11, 12, 14},\n",
              " {4, 7, 11, 12, 14},\n",
              " {3, 4, 7, 11, 14},\n",
              " {3, 4, 7, 11, 14},\n",
              " {4, 7, 11, 12, 14},\n",
              " {3, 4, 7, 11, 12, 14},\n",
              " {4, 7, 11, 12, 14},\n",
              " {4, 7, 11, 12, 14},\n",
              " {4, 6, 7, 11, 12, 14},\n",
              " {4, 7, 11, 12, 14, 21},\n",
              " {4, 7, 11, 12, 14},\n",
              " {3, 4, 7, 11, 12, 14},\n",
              " {4, 7, 11, 12, 14},\n",
              " {3, 4, 6, 7, 11, 12},\n",
              " {3, 4, 7, 11, 12, 14},\n",
              " {3, 4, 6, 7, 11, 12},\n",
              " {3, 4, 6, 7, 11, 12},\n",
              " {3, 4, 7, 11, 12, 21},\n",
              " {3, 4, 7, 11, 14},\n",
              " {3, 4, 7, 11, 12, 14},\n",
              " {3, 4, 7, 11, 12, 14},\n",
              " {3, 4, 7, 11, 12, 14},\n",
              " {3, 4, 7, 11, 12},\n",
              " {4, 7, 11, 14},\n",
              " {3, 4, 7, 11, 12},\n",
              " {3, 4, 7, 11, 12, 21},\n",
              " {4, 7, 11, 14},\n",
              " {3, 4, 11, 12, 14},\n",
              " {3, 4, 7, 11, 12, 14},\n",
              " {3, 4, 7, 11, 12, 14},\n",
              " {3, 4, 7, 11, 12, 14},\n",
              " {3, 4, 7, 11, 12, 21},\n",
              " {3, 4, 7, 11, 12, 14},\n",
              " {4, 7, 11, 12, 14, 21},\n",
              " {3, 4, 7, 11, 14},\n",
              " {4, 6, 7, 11, 12, 14},\n",
              " {3, 4, 6, 7, 11, 12},\n",
              " {3, 4, 7, 11, 12, 14},\n",
              " {4, 6, 7, 11, 12, 14},\n",
              " {4, 7, 11, 12, 14, 21},\n",
              " {3, 4, 7, 11, 12, 14},\n",
              " {3, 4, 7, 11, 12, 14},\n",
              " {4, 7, 11, 12, 14, 21},\n",
              " {3, 4, 7, 11, 14},\n",
              " {3, 4, 7, 11, 12},\n",
              " {3, 4, 7, 11, 12},\n",
              " {3, 4, 7, 11, 14},\n",
              " {3, 4, 7, 11, 12, 14},\n",
              " {3, 4, 7, 11, 12, 14},\n",
              " {3, 4, 6, 7, 11, 12},\n",
              " {3, 4, 7, 11, 12},\n",
              " {3, 4, 7, 11, 12, 14},\n",
              " {4, 7, 11, 12},\n",
              " {3, 4, 7, 11, 12, 21},\n",
              " {3, 4, 7, 11, 12, 14},\n",
              " {4, 7, 11, 12, 14, 21},\n",
              " {3, 4, 7, 11, 12},\n",
              " {3, 4, 7, 11, 12, 14},\n",
              " {3, 4, 7, 11, 12},\n",
              " {4, 7, 11, 12, 14, 21},\n",
              " {3, 4, 7, 11, 12, 14},\n",
              " {4, 6, 7, 11, 12, 14},\n",
              " {4, 6, 7, 11, 12},\n",
              " {3, 4, 7, 11, 21},\n",
              " {3, 4, 7, 11, 12, 14},\n",
              " {4, 7, 11, 14},\n",
              " {3, 4, 6, 7, 11, 12, 14},\n",
              " {3, 4, 7, 11, 12, 21},\n",
              " {3, 4, 7, 11, 12, 14},\n",
              " {4, 7, 11, 12, 14},\n",
              " {3, 4, 7, 11, 12, 21},\n",
              " {3, 4, 6, 7, 11, 12},\n",
              " {3, 4, 7, 11, 12, 14},\n",
              " {3, 4, 6, 7, 11, 12},\n",
              " {3, 4, 7, 11, 12, 14},\n",
              " {3, 4, 7, 11, 12, 14},\n",
              " {3, 4, 7, 11, 21},\n",
              " {3, 4, 6, 7, 11, 12},\n",
              " {3, 4, 7, 11, 12, 14},\n",
              " {3, 4, 7, 11, 12, 14},\n",
              " {3, 4, 7, 11, 12, 14},\n",
              " {3, 4, 7, 11, 12, 14},\n",
              " {3, 4, 7, 11, 12, 14},\n",
              " {3, 4, 6, 7, 11, 12, 14},\n",
              " {4, 7, 11, 12, 14},\n",
              " {4, 7, 11, 12},\n",
              " {4, 7, 11, 12, 14, 21},\n",
              " {3, 4, 7, 11, 12, 21},\n",
              " {3, 4, 7, 11, 12, 14},\n",
              " {3, 4, 6, 7, 11, 12},\n",
              " {3, 4, 7, 11, 12, 14},\n",
              " {3, 4, 6, 7, 11, 12, 14},\n",
              " {3, 4, 7, 11, 12},\n",
              " {3, 4, 7, 11, 12, 14},\n",
              " {3, 4, 7, 11, 12, 14},\n",
              " {3, 4, 6, 7, 11, 14},\n",
              " {3, 4, 7, 11, 12, 21},\n",
              " {3, 4, 7, 11, 12, 14},\n",
              " {3, 4, 7, 11, 12},\n",
              " {3, 4, 7, 11, 12},\n",
              " {3, 4, 7, 11, 12, 14},\n",
              " {3, 4, 7, 11, 12, 14},\n",
              " {3, 4, 7, 11, 12},\n",
              " {3, 4, 7, 11, 12, 14},\n",
              " {3, 4, 7, 11, 12},\n",
              " {3, 4, 7, 11, 12, 21},\n",
              " {4, 6, 7, 11, 14},\n",
              " {3, 4, 6, 7, 11},\n",
              " {3, 4, 7, 11, 14},\n",
              " {3, 4, 7, 11, 12},\n",
              " {4, 7, 11, 12, 14},\n",
              " {3, 4, 7, 11, 12, 14},\n",
              " {3, 4, 7, 11, 12},\n",
              " {3, 4, 7, 11, 12, 14},\n",
              " {3, 4, 7, 11, 12, 14},\n",
              " {3, 4, 7, 11, 12},\n",
              " {3, 4, 7, 11, 12, 14},\n",
              " {4, 7, 11, 12, 14},\n",
              " {4, 7, 11, 14},\n",
              " {3, 4, 7, 11, 12},\n",
              " {3, 4, 7, 11, 12, 14},\n",
              " {3, 4, 7, 11},\n",
              " {4, 7, 11, 12},\n",
              " {3, 4, 6, 7, 11, 12, 21},\n",
              " {3, 4, 7, 11, 14},\n",
              " {3, 4, 7, 11, 12},\n",
              " {4, 7, 11, 12, 14},\n",
              " {4, 7, 11, 12, 14},\n",
              " {3, 4, 7, 11, 12, 21},\n",
              " {3, 4, 7, 11, 12, 21},\n",
              " {3, 4, 7, 11, 12},\n",
              " {3, 4, 7, 11, 12},\n",
              " {3, 4, 7, 11, 14},\n",
              " {1, 3, 4, 7, 11, 12},\n",
              " {3, 4, 6, 7, 11, 12},\n",
              " {4, 7, 11, 12, 14},\n",
              " {3, 4, 7, 11, 12, 14},\n",
              " {4, 7, 11, 14},\n",
              " {3, 4, 7, 11, 12, 14},\n",
              " {3, 4, 7, 11, 12},\n",
              " {4, 6, 7, 11, 12, 14, 21},\n",
              " {4, 7, 11, 12, 14},\n",
              " {3, 4, 7, 11, 14, 21},\n",
              " {3, 4, 7, 11, 12, 14},\n",
              " {3, 4, 7, 11, 12, 14},\n",
              " {3, 4, 7, 11, 12, 21},\n",
              " {3, 4, 7, 11, 12},\n",
              " {3, 4, 7, 11, 12, 14},\n",
              " {3, 4, 7, 11, 12, 14},\n",
              " {4, 6, 7, 11, 12, 21},\n",
              " {4, 7, 11, 12, 14},\n",
              " {3, 4, 7, 11, 12},\n",
              " {3, 4, 7, 11, 12, 14},\n",
              " {3, 4, 7, 11, 12, 14},\n",
              " {3, 4, 7, 11, 12},\n",
              " {3, 4, 7, 11, 12},\n",
              " {3, 4, 6, 7, 11, 12, 14},\n",
              " {3, 4, 7, 11, 12, 14},\n",
              " {3, 4, 6, 7, 11, 12},\n",
              " {3, 4, 7, 11, 12},\n",
              " {4, 6, 7, 11, 12},\n",
              " {4, 6, 7, 11, 12, 14, 21},\n",
              " {3, 4, 7, 11, 12, 14},\n",
              " {4, 7, 11, 12, 14},\n",
              " {3, 4, 7, 11, 12, 14},\n",
              " {3, 4, 6, 7, 11, 14},\n",
              " {3, 4, 7, 11, 12, 21},\n",
              " {4, 6, 7, 11, 12, 14, 21},\n",
              " {3, 4, 7, 11, 12},\n",
              " {3, 4, 7, 11, 12, 14},\n",
              " {3, 4, 7, 11, 12, 14},\n",
              " {3, 4, 6, 7, 11, 12},\n",
              " {1, 4, 7, 11, 12, 14},\n",
              " {3, 4, 7, 11, 12},\n",
              " {3, 4, 7, 11, 12, 14},\n",
              " {3, 4, 7, 11, 12, 14},\n",
              " {3, 4, 7, 11, 12, 14},\n",
              " {3, 4, 7, 11, 12, 21},\n",
              " {3, 4, 7, 11, 12, 21},\n",
              " {3, 4, 7, 11, 12, 14},\n",
              " {3, 4, 6, 7, 11, 14},\n",
              " {3, 4, 7, 11, 12, 14},\n",
              " {3, 4, 7, 11, 12, 21},\n",
              " {3, 4, 7, 11, 14},\n",
              " {3, 4, 7, 11, 12, 14},\n",
              " {3, 4, 7, 11, 12, 14},\n",
              " {3, 4, 7, 11, 12},\n",
              " {3, 4, 7, 11, 12, 14},\n",
              " {3, 4, 7, 11, 12, 14},\n",
              " {3, 4, 7, 11, 12, 14},\n",
              " {3, 4, 7, 11, 12, 14},\n",
              " {3, 4, 7, 11, 12},\n",
              " {3, 4, 7, 11, 12, 14},\n",
              " {3, 4, 7, 11, 14},\n",
              " {4, 7, 11, 14},\n",
              " {3, 4, 7, 11, 14},\n",
              " {4, 7, 11, 12, 14, 21},\n",
              " {1, 3, 4, 7, 11},\n",
              " {1, 4, 7, 11, 12},\n",
              " {4, 7, 11, 12, 14},\n",
              " {4, 7, 11, 12, 14},\n",
              " {3, 4, 7, 11, 14},\n",
              " {3, 4, 7, 11, 12, 14},\n",
              " {3, 4, 6, 7, 11, 12},\n",
              " {3, 4, 7, 11, 12, 14},\n",
              " {3, 4, 7, 11, 12, 14},\n",
              " {3, 4, 7, 11, 12},\n",
              " {3, 4, 7, 11, 12, 21},\n",
              " {1, 3, 4, 7, 11, 12},\n",
              " {3, 4, 6, 7, 11, 12},\n",
              " {3, 4, 7, 11, 12, 14},\n",
              " {3, 4, 7, 11, 12},\n",
              " {3, 4, 7, 11, 12},\n",
              " {3, 4, 7, 11, 12},\n",
              " {3, 4, 6, 7, 11, 12, 14},\n",
              " {3, 4, 7, 11, 12, 14},\n",
              " {3, 4, 6, 7, 11, 12},\n",
              " {4, 7, 11, 12, 14},\n",
              " {3, 4, 7, 11, 12, 21},\n",
              " {3, 4, 7, 11, 12, 14},\n",
              " {3, 4, 6, 7, 11, 12},\n",
              " {3, 4, 7, 11, 12, 14},\n",
              " {3, 4, 7, 11, 12, 14},\n",
              " {3, 4, 7, 11, 12, 14},\n",
              " {3, 4, 7, 11, 12},\n",
              " {3, 4, 7, 11, 12, 14},\n",
              " {4, 7, 11, 12, 14, 21},\n",
              " {3, 4, 7, 11, 12},\n",
              " {4, 7, 11, 12, 14},\n",
              " {3, 4, 7, 11, 14, 21},\n",
              " {3, 4, 7, 11, 12, 14},\n",
              " {3, 4, 7, 11, 12},\n",
              " {3, 4, 7, 11, 12, 14},\n",
              " {3, 4, 7, 11, 12, 21},\n",
              " {3, 4, 7, 11, 14},\n",
              " {3, 4, 7, 11, 12},\n",
              " {4, 7, 11, 12, 14},\n",
              " {3, 4, 7, 11, 12, 14},\n",
              " {4, 6, 7, 11, 12, 14},\n",
              " {3, 4, 7, 11, 12, 14},\n",
              " {4, 7, 11, 12, 14},\n",
              " {3, 4, 7, 11, 12},\n",
              " {3, 4, 7, 11, 14},\n",
              " {3, 4, 7, 11, 12, 21},\n",
              " {4, 7, 11, 12, 14},\n",
              " {3, 4, 7, 11, 12},\n",
              " {4, 7, 11, 12, 14, 21},\n",
              " {3, 4, 7, 12, 14},\n",
              " {4, 7, 11, 12, 14},\n",
              " {3, 4, 7, 11, 12, 14},\n",
              " {3, 4, 7, 11, 12},\n",
              " {3, 4, 7, 11, 12, 14},\n",
              " {1, 3, 4, 7, 11, 12},\n",
              " {4, 6, 7, 11, 12, 14},\n",
              " {4, 6, 7, 11, 12, 14},\n",
              " {3, 4, 7, 11, 12},\n",
              " {3, 4, 7, 11, 12},\n",
              " {3, 4, 7, 11, 12},\n",
              " {3, 4, 7, 11, 12},\n",
              " {3, 4, 7, 11, 14},\n",
              " {3, 4, 7, 11, 12, 14},\n",
              " {3, 4, 6, 7, 11, 14},\n",
              " {3, 4, 7, 11, 12, 14},\n",
              " {4, 6, 7, 11, 12, 14, 21},\n",
              " {3, 4, 7, 11, 12, 14},\n",
              " {4, 7, 11, 12, 14},\n",
              " {4, 7, 11, 12, 14},\n",
              " {3, 4, 7, 11, 12, 14},\n",
              " {4, 7, 11, 12, 14},\n",
              " {3, 4, 7, 11, 12},\n",
              " {3, 4, 7, 11, 12, 14},\n",
              " {3, 4, 7, 11, 12, 14},\n",
              " {3, 4, 7, 11, 12},\n",
              " {3, 4, 7, 11, 12},\n",
              " {3, 4, 7, 11, 12, 14},\n",
              " {3, 4, 7, 11, 12},\n",
              " {3, 4, 7, 11, 12, 14},\n",
              " {3, 4, 7, 11, 12, 21},\n",
              " {1, 3, 4, 7, 11, 14},\n",
              " {3, 4, 7, 11, 12, 21},\n",
              " {3, 4, 6, 7, 11, 12},\n",
              " {4, 7, 11, 12, 14},\n",
              " {3, 4, 11, 12, 14},\n",
              " {3, 4, 7, 11, 14},\n",
              " {4, 7, 11, 12, 14},\n",
              " {1, 4, 6, 7, 11, 12},\n",
              " {3, 4, 7, 11, 12},\n",
              " {3, 4, 7, 11, 12, 14},\n",
              " {3, 4, 6, 7, 11, 12, 14},\n",
              " {3, 4, 6, 7, 11, 12},\n",
              " {3, 4, 7, 11, 12, 14},\n",
              " {3, 4, 7, 11, 12, 14, 21},\n",
              " {3, 4, 6, 7, 11, 12},\n",
              " {3, 4, 7, 11, 12, 14},\n",
              " {3, 4, 7, 11, 12, 14},\n",
              " {3, 4, 7, 11, 12},\n",
              " {1, 3, 4, 7, 11, 12},\n",
              " {4, 7, 11, 12, 14},\n",
              " {4, 6, 7, 11, 12, 14},\n",
              " {4, 6, 7, 11, 14},\n",
              " {3, 4, 6, 7, 11},\n",
              " {3, 4, 7, 11, 12, 14},\n",
              " {4, 7, 11, 12, 14},\n",
              " {3, 4, 7, 11, 12},\n",
              " {3, 4, 7, 11, 12, 14},\n",
              " {3, 4, 7, 11, 12, 14},\n",
              " {4, 7, 11, 12, 14},\n",
              " {3, 4, 7, 11, 12},\n",
              " {3, 4, 7, 11, 12, 14},\n",
              " {3, 4, 7, 11, 14},\n",
              " {4, 6, 7, 11, 12, 14},\n",
              " {3, 4, 7, 11, 12, 14},\n",
              " {3, 4, 7, 11, 12, 14},\n",
              " {4, 7, 11, 12, 14},\n",
              " {3, 4, 7, 11, 12, 14},\n",
              " {3, 4, 7, 11, 12, 14},\n",
              " {3, 4, 7, 11, 12, 14},\n",
              " {4, 7, 11, 12, 14},\n",
              " {3, 4, 7, 11, 12, 14},\n",
              " {3, 4, 7, 11, 12, 14},\n",
              " {3, 4, 7, 11, 12},\n",
              " {3, 4, 7, 11, 12, 14},\n",
              " {4, 6, 7, 11, 12, 14},\n",
              " {4, 7, 11, 12, 14, 21},\n",
              " {3, 4, 6, 7, 11, 12},\n",
              " {4, 7, 11, 12, 14},\n",
              " {3, 4, 6, 7, 11, 12},\n",
              " {3, 4, 7, 11, 14, 21},\n",
              " {3, 4, 6, 7, 11, 12},\n",
              " {3, 4, 7, 11, 12, 14},\n",
              " {3, 4, 7, 11, 12, 14},\n",
              " {3, 4, 7, 11, 12, 14},\n",
              " {3, 4, 6, 7, 11, 12, 14},\n",
              " {4, 7, 11, 12, 14},\n",
              " {3, 4, 7, 11, 12},\n",
              " {4, 6, 7, 11, 12, 14},\n",
              " {3, 4, 7, 11, 12, 14},\n",
              " {3, 4, 7, 11, 12, 14},\n",
              " {3, 4, 7, 11, 12, 14},\n",
              " {4, 6, 7, 11, 14},\n",
              " {4, 7, 11, 12, 14},\n",
              " {3, 4, 7, 11, 12, 14},\n",
              " {3, 4, 7, 11, 14, 21},\n",
              " {3, 4, 7, 11, 12, 14},\n",
              " {3, 4, 7, 11, 12, 21},\n",
              " {3, 4, 7, 11, 12, 14},\n",
              " {3, 4, 7, 11, 12},\n",
              " {3, 4, 7, 11, 12},\n",
              " {3, 4, 7, 11, 12, 14},\n",
              " {4, 7, 11, 12, 14},\n",
              " {3, 4, 7, 11, 12, 14},\n",
              " {4, 7, 11, 12, 14, 21},\n",
              " {3, 4, 6, 7, 11, 12, 14},\n",
              " {3, 4, 7, 11, 12},\n",
              " {4, 7, 11, 12, 14},\n",
              " {3, 4, 7, 11, 12},\n",
              " {1, 4, 7, 11, 12, 14},\n",
              " {3, 4, 7, 11, 12},\n",
              " {4, 7, 11, 12, 14},\n",
              " {3, 4, 7, 11, 12},\n",
              " {3, 4, 7, 11, 14},\n",
              " {3, 4, 6, 7, 11, 12},\n",
              " {3, 4, 7, 11, 12, 14},\n",
              " {3, 4, 7, 11, 12, 14},\n",
              " {3, 4, 7, 11, 14},\n",
              " {3, 4, 7, 11, 12, 14},\n",
              " {3, 4, 7, 11, 12},\n",
              " {3, 4, 7, 11, 12, 21},\n",
              " {3, 4, 7, 11, 12, 14},\n",
              " {3, 4, 11, 12, 14, 21},\n",
              " {4, 7, 11, 12, 14},\n",
              " {3, 4, 7, 11, 12, 14},\n",
              " {3, 4, 6, 7, 11, 12},\n",
              " {3, 4, 6, 7, 11, 12},\n",
              " {4, 7, 11, 14},\n",
              " {4, 7, 11, 12, 14, 21},\n",
              " {4, 7, 11, 12, 14},\n",
              " {4, 7, 11, 14, 21},\n",
              " {3, 4, 7, 11, 12},\n",
              " {3, 4, 7, 11, 12},\n",
              " {3, 4, 6, 7, 11, 12},\n",
              " {3, 4, 6, 7, 11, 12},\n",
              " {3, 4, 7, 11, 12, 14},\n",
              " {3, 4, 7, 11, 12, 14, 21},\n",
              " {4, 7, 11, 12, 14},\n",
              " {4, 7, 11, 12, 14},\n",
              " {4, 7, 11, 12, 14},\n",
              " {4, 7, 11, 12, 14},\n",
              " {3, 4, 7, 11, 12, 14},\n",
              " {3, 4, 11, 12, 14, 21},\n",
              " {4, 7, 11, 12, 14, 21},\n",
              " {1, 3, 4, 7, 11, 12, 14},\n",
              " {3, 4, 7, 11, 14},\n",
              " {3, 4, 7, 11, 12, 21},\n",
              " {3, 4, 7, 11, 12, 14},\n",
              " {3, 4, 7, 11, 12, 14},\n",
              " {3, 4, 7, 11, 14},\n",
              " {3, 4, 7, 11, 12, 14},\n",
              " {3, 4, 7, 11, 12, 14},\n",
              " {4, 7, 11, 12, 14},\n",
              " {4, 7, 11, 12, 14},\n",
              " {3, 4, 7, 11, 12, 14},\n",
              " {3, 4, 11, 12, 14},\n",
              " {3, 4, 7, 11, 12, 14},\n",
              " {4, 6, 7, 11, 12, 14},\n",
              " {1, 3, 4, 7, 11, 12},\n",
              " {4, 7, 11, 12, 14},\n",
              " {3, 4, 6, 7, 11, 14, 21},\n",
              " {3, 4, 7, 11, 12, 14},\n",
              " {4, 7, 11, 12, 14},\n",
              " {3, 4, 7, 11, 12, 14},\n",
              " {3, 4, 7, 11, 12, 14},\n",
              " {3, 4, 7, 11, 12, 14},\n",
              " {4, 6, 7, 11, 14},\n",
              " {3, 4, 7, 11, 12, 14},\n",
              " {3, 4, 7, 11, 12, 21},\n",
              " {4, 7, 11, 12, 14},\n",
              " {4, 6, 7, 11, 12, 14},\n",
              " {3, 4, 7, 11, 12, 14},\n",
              " {3, 4, 7, 11, 14},\n",
              " {3, 4, 7, 11, 12, 21},\n",
              " {3, 4, 7, 11, 12, 14},\n",
              " {3, 4, 7, 11, 12, 14},\n",
              " {3, 4, 7, 11, 12},\n",
              " {4, 7, 11, 12, 14},\n",
              " {3, 4, 7, 11, 12},\n",
              " {3, 4, 7, 11, 14},\n",
              " {3, 4, 6, 7, 11, 12},\n",
              " {3, 4, 7, 11, 12, 14},\n",
              " {3, 4, 7, 11, 12, 14},\n",
              " {3, 4, 6, 7, 11, 12},\n",
              " {3, 4, 7, 11, 12, 14},\n",
              " {3, 4, 6, 7, 11, 12, 14},\n",
              " {3, 4, 7, 11, 12, 14},\n",
              " {3, 4, 6, 7, 11, 12, 14},\n",
              " {3, 4, 7, 11, 12, 14},\n",
              " {3, 4, 7, 11, 14, 21},\n",
              " {3, 4, 6, 7, 11, 12, 14},\n",
              " {4, 7, 11, 14},\n",
              " {3, 4, 6, 7, 11, 12, 21},\n",
              " {4, 7, 11, 12, 14},\n",
              " {3, 4, 7, 11, 12, 14},\n",
              " {3, 4, 7, 11, 12},\n",
              " {3, 4, 7, 11, 12, 14},\n",
              " {3, 4, 7, 11, 12, 14},\n",
              " {4, 7, 11, 12, 14},\n",
              " {3, 4, 7, 11, 12, 14},\n",
              " {3, 4, 7, 11, 14, 21},\n",
              " {3, 4, 7, 11, 12, 14},\n",
              " {3, 4, 7, 11, 12, 21},\n",
              " {3, 4, 7, 11, 12, 14},\n",
              " {3, 4, 7, 11, 12},\n",
              " {3, 4, 6, 7, 11, 12},\n",
              " {3, 4, 7, 11, 12},\n",
              " {4, 7, 11, 12, 14},\n",
              " {3, 4, 6, 7, 11, 12},\n",
              " {4, 6, 7, 11, 12, 14},\n",
              " {3, 4, 7, 11, 12, 14},\n",
              " {4, 6, 7, 11, 12, 14},\n",
              " {4, 7, 11, 12, 14},\n",
              " {4, 7, 11, 12, 21},\n",
              " {3, 4, 7, 11, 12, 14},\n",
              " {3, 4, 6, 7, 11, 14},\n",
              " {4, 7, 11, 12, 14},\n",
              " {3, 4, 6, 7, 11, 12, 14},\n",
              " {3, 4, 7, 11, 12},\n",
              " {4, 7, 11, 12, 14},\n",
              " {3, 4, 7, 11, 12},\n",
              " {4, 7, 11, 12, 14},\n",
              " {3, 4, 7, 11, 12, 14},\n",
              " {3, 4, 7, 11, 12, 21},\n",
              " {4, 7, 11, 12, 14},\n",
              " {3, 4, 7, 11, 12, 21},\n",
              " {3, 4, 7, 11, 12, 14},\n",
              " {3, 4, 7, 11, 12, 14},\n",
              " {3, 4, 7, 11, 12, 14},\n",
              " {3, 4, 7, 11, 12, 14},\n",
              " {3, 4, 7, 11, 12, 14},\n",
              " {1, 3, 4, 7, 11, 12},\n",
              " {3, 4, 7, 11, 12, 14},\n",
              " {4, 7, 11, 12, 14},\n",
              " {3, 4, 7, 11, 12, 14},\n",
              " {4, 6, 7, 11, 12, 14},\n",
              " {3, 4, 7, 11, 14},\n",
              " {1, 3, 4, 7, 11, 12},\n",
              " {3, 4, 7, 11, 14},\n",
              " {3, 4, 7, 11, 12, 21},\n",
              " {3, 4, 7, 11, 12, 14},\n",
              " {3, 4, 7, 11, 12, 14},\n",
              " {3, 4, 7, 11, 12, 14},\n",
              " {3, 4, 7, 11, 14},\n",
              " {3, 4, 7, 11, 12, 14},\n",
              " {3, 4, 7, 11, 12, 14},\n",
              " {3, 4, 7, 11, 12, 14},\n",
              " {3, 4, 7, 11, 12, 14},\n",
              " {3, 4, 7, 11, 12, 14},\n",
              " {3, 4, 7, 11, 12, 21},\n",
              " {3, 4, 6, 7, 11, 12, 14},\n",
              " {3, 4, 6, 7, 11, 12},\n",
              " {3, 4, 7, 11, 12},\n",
              " {3, 4, 7, 11, 12},\n",
              " {3, 4, 7, 11, 12, 14},\n",
              " {3, 4, 7, 11, 12},\n",
              " {3, 4, 7, 11, 12, 14},\n",
              " {3, 4, 7, 11, 14},\n",
              " {3, 4, 7, 11, 12, 14},\n",
              " {3, 4, 7, 11, 12},\n",
              " {3, 4, 6, 7, 11, 12},\n",
              " {3, 4, 7, 11, 12, 14},\n",
              " {3, 4, 7, 11, 12},\n",
              " {4, 7, 11, 12, 14},\n",
              " {3, 4, 7, 11, 12, 14},\n",
              " {3, 4, 7, 11, 12, 14},\n",
              " {3, 4, 7, 11, 12},\n",
              " {3, 4, 7, 11, 12, 14},\n",
              " {3, 4, 7, 11, 12, 14},\n",
              " {4, 7, 11, 12, 14},\n",
              " {3, 4, 7, 11, 12},\n",
              " {3, 4, 6, 7, 11, 12},\n",
              " {3, 4, 7, 11, 12, 14},\n",
              " {3, 4, 7, 11, 12, 21},\n",
              " {3, 4, 7, 11, 12, 14},\n",
              " {4, 7, 11, 12, 14},\n",
              " {3, 4, 6, 7, 11, 12, 14},\n",
              " {3, 4, 7, 11, 14},\n",
              " {3, 4, 7, 11, 12, 14},\n",
              " {3, 4, 7, 11, 12},\n",
              " {3, 4, 7, 11, 12, 14},\n",
              " {4, 7, 11, 12, 14},\n",
              " {3, 4, 7, 11, 12, 14},\n",
              " {3, 4, 7, 11, 12},\n",
              " {4, 7, 11, 12, 14},\n",
              " {3, 4, 7, 11, 12, 14},\n",
              " {3, 4, 6, 7, 11, 12, 14},\n",
              " {3, 4, 7, 11, 12, 14},\n",
              " {3, 4, 7, 11, 12, 14},\n",
              " {1, 4, 7, 11, 12, 21},\n",
              " {4, 7, 11, 12, 14},\n",
              " {3, 4, 7, 11, 14, 21},\n",
              " {3, 4, 7, 11, 14},\n",
              " {3, 4, 7, 11, 12, 14},\n",
              " {3, 4, 7, 11, 12, 14},\n",
              " {3, 4, 7, 11, 12, 21},\n",
              " {4, 7, 11, 12},\n",
              " {3, 4, 7, 11, 12, 21},\n",
              " {4, 6, 7, 11, 12},\n",
              " {3, 4, 7, 11, 12, 14},\n",
              " {4, 7, 11, 12, 14},\n",
              " {3, 4, 7, 11, 12},\n",
              " {4, 7, 11, 12, 14},\n",
              " {3, 4, 7, 11, 14},\n",
              " {3, 4, 7, 11, 12, 14},\n",
              " {3, 4, 7, 11, 14},\n",
              " {3, 4, 7, 11, 14},\n",
              " {4, 7, 11, 12, 14},\n",
              " {3, 4, 7, 11, 14},\n",
              " {3, 4, 7, 11, 12, 14},\n",
              " {3, 4, 7, 11, 12, 14},\n",
              " {4, 11, 12, 14},\n",
              " {3, 4, 7, 11, 12, 14},\n",
              " {3, 4, 7, 11, 12, 14},\n",
              " {3, 4, 7, 11, 12},\n",
              " {3, 4, 7, 11, 12, 14},\n",
              " ...]"
            ]
          },
          "metadata": {},
          "execution_count": 117
        }
      ]
    },
    {
      "cell_type": "code",
      "source": [
        "#Counter()로 각 {}에서 요소의 개수를 value_counts()처럼 카운트 하고 다음 경기도 Counter()한다.\n",
        "#두 Counter()는 서로 더하면 요소의 개수가 더해지니 전체 사용된 스펠의 개수를 for문으로 조사한다\n",
        "#이때 처음에는 Counter()를 선언하고 다음부터는 거기에 += 식으로 더해준다 \n",
        "#따라서 처음 인덱스만 선언하기 위해서 if문을 썼다\n",
        "\n",
        "#cnt_spell_1에는 우선 1팀의 첫번째 경기에 사용되는 스펠의 종류가 있게된다.\n",
        "#그 다음에 두번쨰 경기에 사용되는 스펠의 개수가 더해져서 cnt_spell_1에 새로 할당된다.\n",
        "\n",
        "\n",
        "\n",
        "from collections import Counter\n",
        "\n",
        "for i in range(50181):\n",
        "  if i == 0:\n",
        "    cnt_spell_1 = Counter(ans_1[i])\n",
        "    cnt_spell_2 = Counter(ans_2[i])\n",
        "  else:\n",
        "    cnt_spell_1 += Counter(ans_1[i])\n",
        "    cnt_spell_2 += Counter(ans_2[i])"
      ],
      "metadata": {
        "id": "uHtR4NTd3_Lj"
      },
      "execution_count": 118,
      "outputs": []
    },
    {
      "cell_type": "code",
      "source": [
        "cnt_spell_1 #사용량 많은 스펠 : 3,4,7,11,12,14"
      ],
      "metadata": {
        "colab": {
          "base_uri": "https://localhost:8080/"
        },
        "id": "lWxYTtLx4oEy",
        "outputId": "e4495106-fbbc-47b6-db30-a996b3e36489"
      },
      "execution_count": 119,
      "outputs": [
        {
          "output_type": "execute_result",
          "data": {
            "text/plain": [
              "Counter({3: 37952,\n",
              "         4: 50181,\n",
              "         6: 6703,\n",
              "         7: 49402,\n",
              "         11: 49976,\n",
              "         12: 45417,\n",
              "         14: 33640,\n",
              "         1: 1482,\n",
              "         21: 7187})"
            ]
          },
          "metadata": {},
          "execution_count": 119
        }
      ]
    },
    {
      "cell_type": "code",
      "source": [
        "cnt_spell_2 #사용량 많은 스펠 : 3,4,7,11,12,14"
      ],
      "metadata": {
        "id": "-STR17bAUKEx",
        "outputId": "64b198fd-162a-4d6e-d961-5b748ee1165e",
        "colab": {
          "base_uri": "https://localhost:8080/"
        }
      },
      "execution_count": 120,
      "outputs": [
        {
          "output_type": "execute_result",
          "data": {
            "text/plain": [
              "Counter({3: 37917,\n",
              "         4: 50179,\n",
              "         6: 6627,\n",
              "         7: 49334,\n",
              "         11: 49968,\n",
              "         14: 33581,\n",
              "         12: 45507,\n",
              "         21: 7153,\n",
              "         1: 1561})"
            ]
          },
          "metadata": {},
          "execution_count": 120
        }
      ]
    },
    {
      "cell_type": "markdown",
      "source": [
        "결과 해석\n",
        "\n",
        "- 가장 많이 사용된 상위 스펠\n",
        "  - 점멸, 강타, 순간이동, 힐, 탈진, 점화\n",
        "\n",
        "- 사용량이 적은 스펠\n",
        "   - 유체화, 정화, 방어막\n",
        "\n",
        "\n",
        "### 실제로 가설과 일치하는 양상을 보여준다"
      ],
      "metadata": {
        "id": "C3z7ESUD7Zzs"
      }
    },
    {
      "cell_type": "markdown",
      "source": [
        "이것을 토대로 사용량이 적은 스펠을 사용함과 승/패에 영향을 미치는 지를 위해서 각 경기마다 1팀이 상위 5개 스펠만을 사용하였는가? 라는 'spell_use_1'과 2팀이 상위 5개 스펠만을 사용하였는가? 라는 'spell_use_2'라는 칼럼을 만든다."
      ],
      "metadata": {
        "id": "XBAEABFJ8w5m"
      }
    },
    {
      "cell_type": "code",
      "source": [
        "len(ans_1)"
      ],
      "metadata": {
        "id": "44VANmGva4-f",
        "outputId": "f06e5857-0240-4826-ed9f-b6c76833565d",
        "colab": {
          "base_uri": "https://localhost:8080/"
        }
      },
      "execution_count": 121,
      "outputs": [
        {
          "output_type": "execute_result",
          "data": {
            "text/plain": [
              "50181"
            ]
          },
          "metadata": {},
          "execution_count": 121
        }
      ]
    },
    {
      "cell_type": "code",
      "source": [
        "data_game.shape[0]"
      ],
      "metadata": {
        "id": "qN8JfuLNa_Z_",
        "outputId": "0d7382ef-ec53-4e2c-ce08-efb543b1d0f6",
        "colab": {
          "base_uri": "https://localhost:8080/"
        }
      },
      "execution_count": 122,
      "outputs": [
        {
          "output_type": "execute_result",
          "data": {
            "text/plain": [
              "50181"
            ]
          },
          "metadata": {},
          "execution_count": 122
        }
      ]
    },
    {
      "cell_type": "code",
      "source": [
        "\n",
        "spell_use_1 = []\n",
        "spell_use_2 = []\n",
        "\n",
        "for i in range(50181):\n",
        "\n",
        "  if {3,4,7,11,12,14} == ans_1[i] or {3,4,7,11,12} == ans_1[i]:\n",
        "    #여기서는 1이 나와야함 제일 많이 쓰는 스펠만 들고 있으니\n",
        "    spell_use_1.append('1')\n",
        "  else:\n",
        "    spell_use_1.append('0')\n",
        "\n",
        "  if {3,4,7,11,12,14} == ans_2[i] or {3,4,7,11,12} == ans_2[i]:\n",
        "    #여기서는 1이 나와야함 제일 많이 쓰는 스펠만 들고 있으니\n",
        "    spell_use_2.append('1')\n",
        "  else:\n",
        "    spell_use_2.append('0')\n",
        "\n",
        "  "
      ],
      "metadata": {
        "id": "rvMigwYmZcKj"
      },
      "execution_count": 123,
      "outputs": []
    },
    {
      "cell_type": "code",
      "source": [
        "len(spell_use_1) == len(spell_use_2) #둘다 50181으로 잘 수행됨"
      ],
      "metadata": {
        "id": "HC-J_OjQbJ-M",
        "outputId": "a1da12f5-61b8-4862-9345-7b00dd2b2c82",
        "colab": {
          "base_uri": "https://localhost:8080/"
        }
      },
      "execution_count": 124,
      "outputs": [
        {
          "output_type": "execute_result",
          "data": {
            "text/plain": [
              "True"
            ]
          },
          "metadata": {},
          "execution_count": 124
        }
      ]
    },
    {
      "cell_type": "code",
      "source": [
        "#칼럼 생성하기\n",
        "\n",
        "data_game['spell_use_1'] = spell_use_1\n",
        "\n",
        "data_game['spell_use_2'] = spell_use_2\n"
      ],
      "metadata": {
        "id": "cMiwr3FUbUpp"
      },
      "execution_count": 125,
      "outputs": []
    },
    {
      "cell_type": "code",
      "source": [
        "data_game.head()"
      ],
      "metadata": {
        "id": "5v4MyNj_boRt",
        "outputId": "2e0f4cd1-3925-4b28-eab7-017b0dd0dcc6",
        "colab": {
          "base_uri": "https://localhost:8080/",
          "height": 236
        }
      },
      "execution_count": 126,
      "outputs": [
        {
          "output_type": "execute_result",
          "data": {
            "text/plain": [
              "   gameDuration  winner  firstBlood  firstTower  firstInhibitor  firstBaron  \\\n",
              "0          1949       1           2           1               1           1   \n",
              "1          1851       1           1           1               1           0   \n",
              "2          1493       1           2           1               1           1   \n",
              "3          1758       1           1           1               1           1   \n",
              "4          2094       1           2           1               1           1   \n",
              "\n",
              "   firstDragon  firstRiftHerald  t1_champ1_sum1  t1_champ1_sum2  ...  \\\n",
              "0            1                2              12               4  ...   \n",
              "1            1                1               7               4  ...   \n",
              "2            2                0               4               7  ...   \n",
              "3            1                0               4              12  ...   \n",
              "4            1                0               4              12  ...   \n",
              "\n",
              "   t2_champ4_sum2  t2_champ5_sum1  t2_champ5_sum2  t2_towerKills  \\\n",
              "0               4               4               3              5   \n",
              "1              14               4               7              2   \n",
              "2              11               7               4              2   \n",
              "3              14               4               7              0   \n",
              "4              12               4               7              3   \n",
              "\n",
              "   t2_inhibitorKills  t2_baronKills  t2_dragonKills  t2_riftHeraldKills  \\\n",
              "0                  0              0               1                   1   \n",
              "1                  0              0               0                   0   \n",
              "2                  0              0               1                   0   \n",
              "3                  0              0               0                   0   \n",
              "4                  0              0               1                   0   \n",
              "\n",
              "   spell_use_1  spell_use_2  \n",
              "0            0            0  \n",
              "1            1            0  \n",
              "2            1            0  \n",
              "3            0            0  \n",
              "4            1            1  \n",
              "\n",
              "[5 rows x 40 columns]"
            ],
            "text/html": [
              "\n",
              "  <div id=\"df-8d560e66-b6b6-44cf-9c22-748f024f6d0d\">\n",
              "    <div class=\"colab-df-container\">\n",
              "      <div>\n",
              "<style scoped>\n",
              "    .dataframe tbody tr th:only-of-type {\n",
              "        vertical-align: middle;\n",
              "    }\n",
              "\n",
              "    .dataframe tbody tr th {\n",
              "        vertical-align: top;\n",
              "    }\n",
              "\n",
              "    .dataframe thead th {\n",
              "        text-align: right;\n",
              "    }\n",
              "</style>\n",
              "<table border=\"1\" class=\"dataframe\">\n",
              "  <thead>\n",
              "    <tr style=\"text-align: right;\">\n",
              "      <th></th>\n",
              "      <th>gameDuration</th>\n",
              "      <th>winner</th>\n",
              "      <th>firstBlood</th>\n",
              "      <th>firstTower</th>\n",
              "      <th>firstInhibitor</th>\n",
              "      <th>firstBaron</th>\n",
              "      <th>firstDragon</th>\n",
              "      <th>firstRiftHerald</th>\n",
              "      <th>t1_champ1_sum1</th>\n",
              "      <th>t1_champ1_sum2</th>\n",
              "      <th>...</th>\n",
              "      <th>t2_champ4_sum2</th>\n",
              "      <th>t2_champ5_sum1</th>\n",
              "      <th>t2_champ5_sum2</th>\n",
              "      <th>t2_towerKills</th>\n",
              "      <th>t2_inhibitorKills</th>\n",
              "      <th>t2_baronKills</th>\n",
              "      <th>t2_dragonKills</th>\n",
              "      <th>t2_riftHeraldKills</th>\n",
              "      <th>spell_use_1</th>\n",
              "      <th>spell_use_2</th>\n",
              "    </tr>\n",
              "  </thead>\n",
              "  <tbody>\n",
              "    <tr>\n",
              "      <th>0</th>\n",
              "      <td>1949</td>\n",
              "      <td>1</td>\n",
              "      <td>2</td>\n",
              "      <td>1</td>\n",
              "      <td>1</td>\n",
              "      <td>1</td>\n",
              "      <td>1</td>\n",
              "      <td>2</td>\n",
              "      <td>12</td>\n",
              "      <td>4</td>\n",
              "      <td>...</td>\n",
              "      <td>4</td>\n",
              "      <td>4</td>\n",
              "      <td>3</td>\n",
              "      <td>5</td>\n",
              "      <td>0</td>\n",
              "      <td>0</td>\n",
              "      <td>1</td>\n",
              "      <td>1</td>\n",
              "      <td>0</td>\n",
              "      <td>0</td>\n",
              "    </tr>\n",
              "    <tr>\n",
              "      <th>1</th>\n",
              "      <td>1851</td>\n",
              "      <td>1</td>\n",
              "      <td>1</td>\n",
              "      <td>1</td>\n",
              "      <td>1</td>\n",
              "      <td>0</td>\n",
              "      <td>1</td>\n",
              "      <td>1</td>\n",
              "      <td>7</td>\n",
              "      <td>4</td>\n",
              "      <td>...</td>\n",
              "      <td>14</td>\n",
              "      <td>4</td>\n",
              "      <td>7</td>\n",
              "      <td>2</td>\n",
              "      <td>0</td>\n",
              "      <td>0</td>\n",
              "      <td>0</td>\n",
              "      <td>0</td>\n",
              "      <td>1</td>\n",
              "      <td>0</td>\n",
              "    </tr>\n",
              "    <tr>\n",
              "      <th>2</th>\n",
              "      <td>1493</td>\n",
              "      <td>1</td>\n",
              "      <td>2</td>\n",
              "      <td>1</td>\n",
              "      <td>1</td>\n",
              "      <td>1</td>\n",
              "      <td>2</td>\n",
              "      <td>0</td>\n",
              "      <td>4</td>\n",
              "      <td>7</td>\n",
              "      <td>...</td>\n",
              "      <td>11</td>\n",
              "      <td>7</td>\n",
              "      <td>4</td>\n",
              "      <td>2</td>\n",
              "      <td>0</td>\n",
              "      <td>0</td>\n",
              "      <td>1</td>\n",
              "      <td>0</td>\n",
              "      <td>1</td>\n",
              "      <td>0</td>\n",
              "    </tr>\n",
              "    <tr>\n",
              "      <th>3</th>\n",
              "      <td>1758</td>\n",
              "      <td>1</td>\n",
              "      <td>1</td>\n",
              "      <td>1</td>\n",
              "      <td>1</td>\n",
              "      <td>1</td>\n",
              "      <td>1</td>\n",
              "      <td>0</td>\n",
              "      <td>4</td>\n",
              "      <td>12</td>\n",
              "      <td>...</td>\n",
              "      <td>14</td>\n",
              "      <td>4</td>\n",
              "      <td>7</td>\n",
              "      <td>0</td>\n",
              "      <td>0</td>\n",
              "      <td>0</td>\n",
              "      <td>0</td>\n",
              "      <td>0</td>\n",
              "      <td>0</td>\n",
              "      <td>0</td>\n",
              "    </tr>\n",
              "    <tr>\n",
              "      <th>4</th>\n",
              "      <td>2094</td>\n",
              "      <td>1</td>\n",
              "      <td>2</td>\n",
              "      <td>1</td>\n",
              "      <td>1</td>\n",
              "      <td>1</td>\n",
              "      <td>1</td>\n",
              "      <td>0</td>\n",
              "      <td>4</td>\n",
              "      <td>12</td>\n",
              "      <td>...</td>\n",
              "      <td>12</td>\n",
              "      <td>4</td>\n",
              "      <td>7</td>\n",
              "      <td>3</td>\n",
              "      <td>0</td>\n",
              "      <td>0</td>\n",
              "      <td>1</td>\n",
              "      <td>0</td>\n",
              "      <td>1</td>\n",
              "      <td>1</td>\n",
              "    </tr>\n",
              "  </tbody>\n",
              "</table>\n",
              "<p>5 rows × 40 columns</p>\n",
              "</div>\n",
              "      <button class=\"colab-df-convert\" onclick=\"convertToInteractive('df-8d560e66-b6b6-44cf-9c22-748f024f6d0d')\"\n",
              "              title=\"Convert this dataframe to an interactive table.\"\n",
              "              style=\"display:none;\">\n",
              "        \n",
              "  <svg xmlns=\"http://www.w3.org/2000/svg\" height=\"24px\"viewBox=\"0 0 24 24\"\n",
              "       width=\"24px\">\n",
              "    <path d=\"M0 0h24v24H0V0z\" fill=\"none\"/>\n",
              "    <path d=\"M18.56 5.44l.94 2.06.94-2.06 2.06-.94-2.06-.94-.94-2.06-.94 2.06-2.06.94zm-11 1L8.5 8.5l.94-2.06 2.06-.94-2.06-.94L8.5 2.5l-.94 2.06-2.06.94zm10 10l.94 2.06.94-2.06 2.06-.94-2.06-.94-.94-2.06-.94 2.06-2.06.94z\"/><path d=\"M17.41 7.96l-1.37-1.37c-.4-.4-.92-.59-1.43-.59-.52 0-1.04.2-1.43.59L10.3 9.45l-7.72 7.72c-.78.78-.78 2.05 0 2.83L4 21.41c.39.39.9.59 1.41.59.51 0 1.02-.2 1.41-.59l7.78-7.78 2.81-2.81c.8-.78.8-2.07 0-2.86zM5.41 20L4 18.59l7.72-7.72 1.47 1.35L5.41 20z\"/>\n",
              "  </svg>\n",
              "      </button>\n",
              "      \n",
              "  <style>\n",
              "    .colab-df-container {\n",
              "      display:flex;\n",
              "      flex-wrap:wrap;\n",
              "      gap: 12px;\n",
              "    }\n",
              "\n",
              "    .colab-df-convert {\n",
              "      background-color: #E8F0FE;\n",
              "      border: none;\n",
              "      border-radius: 50%;\n",
              "      cursor: pointer;\n",
              "      display: none;\n",
              "      fill: #1967D2;\n",
              "      height: 32px;\n",
              "      padding: 0 0 0 0;\n",
              "      width: 32px;\n",
              "    }\n",
              "\n",
              "    .colab-df-convert:hover {\n",
              "      background-color: #E2EBFA;\n",
              "      box-shadow: 0px 1px 2px rgba(60, 64, 67, 0.3), 0px 1px 3px 1px rgba(60, 64, 67, 0.15);\n",
              "      fill: #174EA6;\n",
              "    }\n",
              "\n",
              "    [theme=dark] .colab-df-convert {\n",
              "      background-color: #3B4455;\n",
              "      fill: #D2E3FC;\n",
              "    }\n",
              "\n",
              "    [theme=dark] .colab-df-convert:hover {\n",
              "      background-color: #434B5C;\n",
              "      box-shadow: 0px 1px 3px 1px rgba(0, 0, 0, 0.15);\n",
              "      filter: drop-shadow(0px 1px 2px rgba(0, 0, 0, 0.3));\n",
              "      fill: #FFFFFF;\n",
              "    }\n",
              "  </style>\n",
              "\n",
              "      <script>\n",
              "        const buttonEl =\n",
              "          document.querySelector('#df-8d560e66-b6b6-44cf-9c22-748f024f6d0d button.colab-df-convert');\n",
              "        buttonEl.style.display =\n",
              "          google.colab.kernel.accessAllowed ? 'block' : 'none';\n",
              "\n",
              "        async function convertToInteractive(key) {\n",
              "          const element = document.querySelector('#df-8d560e66-b6b6-44cf-9c22-748f024f6d0d');\n",
              "          const dataTable =\n",
              "            await google.colab.kernel.invokeFunction('convertToInteractive',\n",
              "                                                     [key], {});\n",
              "          if (!dataTable) return;\n",
              "\n",
              "          const docLinkHtml = 'Like what you see? Visit the ' +\n",
              "            '<a target=\"_blank\" href=https://colab.research.google.com/notebooks/data_table.ipynb>data table notebook</a>'\n",
              "            + ' to learn more about interactive tables.';\n",
              "          element.innerHTML = '';\n",
              "          dataTable['output_type'] = 'display_data';\n",
              "          await google.colab.output.renderOutput(dataTable, element);\n",
              "          const docLink = document.createElement('div');\n",
              "          docLink.innerHTML = docLinkHtml;\n",
              "          element.appendChild(docLink);\n",
              "        }\n",
              "      </script>\n",
              "    </div>\n",
              "  </div>\n",
              "  "
            ]
          },
          "metadata": {},
          "execution_count": 126
        }
      ]
    },
    {
      "cell_type": "code",
      "source": [
        "# 제대로 됬나 확인해보기\n",
        "\n",
        "\n",
        "data_game['spell_use_1'][50]\n",
        "\n",
        "ans_1[50] #확인해보니 21 스펠 방어막을 쓰고 있다는 것을 확인 할 수 있다. 따라서 0이 나오는것이 맞다"
      ],
      "metadata": {
        "id": "x5jg3oIkbzli",
        "outputId": "cecd8ab8-0e46-4772-f80a-5dcd60265a02",
        "colab": {
          "base_uri": "https://localhost:8080/"
        }
      },
      "execution_count": 127,
      "outputs": [
        {
          "output_type": "execute_result",
          "data": {
            "text/plain": [
              "{3, 4, 7, 11, 12, 21}"
            ]
          },
          "metadata": {},
          "execution_count": 127
        }
      ]
    },
    {
      "cell_type": "markdown",
      "source": [
        "스펠관련 칼럼은 만들었으니 기존에 sum어쩌고 칼럼들은 전부 삭제한다"
      ],
      "metadata": {
        "id": "bL0kBjT2dUox"
      }
    },
    {
      "cell_type": "code",
      "source": [
        "data_game.drop(columns = chap_sum,inplace = True)"
      ],
      "metadata": {
        "id": "fJx3Ir9TdLfb"
      },
      "execution_count": 128,
      "outputs": []
    },
    {
      "cell_type": "code",
      "source": [
        "data_game.columns"
      ],
      "metadata": {
        "id": "3nCZaRFXdUNG",
        "outputId": "0001312c-bafe-4723-ff54-246331d09e37",
        "colab": {
          "base_uri": "https://localhost:8080/"
        }
      },
      "execution_count": 129,
      "outputs": [
        {
          "output_type": "execute_result",
          "data": {
            "text/plain": [
              "Index(['gameDuration', 'winner', 'firstBlood', 'firstTower', 'firstInhibitor',\n",
              "       'firstBaron', 'firstDragon', 'firstRiftHerald', 't1_towerKills',\n",
              "       't1_inhibitorKills', 't1_baronKills', 't1_dragonKills',\n",
              "       't1_riftHeraldKills', 't2_towerKills', 't2_inhibitorKills',\n",
              "       't2_baronKills', 't2_dragonKills', 't2_riftHeraldKills', 'spell_use_1',\n",
              "       'spell_use_2'],\n",
              "      dtype='object')"
            ]
          },
          "metadata": {},
          "execution_count": 129
        }
      ]
    },
    {
      "cell_type": "code",
      "source": [
        "data_game.info()"
      ],
      "metadata": {
        "id": "Avb9tJuXdcu-",
        "outputId": "ab0ed1a9-8c01-4b94-e548-f716097c6b36",
        "colab": {
          "base_uri": "https://localhost:8080/"
        }
      },
      "execution_count": 130,
      "outputs": [
        {
          "output_type": "stream",
          "name": "stdout",
          "text": [
            "<class 'pandas.core.frame.DataFrame'>\n",
            "Int64Index: 50181 entries, 0 to 51489\n",
            "Data columns (total 20 columns):\n",
            " #   Column              Non-Null Count  Dtype \n",
            "---  ------              --------------  ----- \n",
            " 0   gameDuration        50181 non-null  int64 \n",
            " 1   winner              50181 non-null  int64 \n",
            " 2   firstBlood          50181 non-null  int64 \n",
            " 3   firstTower          50181 non-null  int64 \n",
            " 4   firstInhibitor      50181 non-null  int64 \n",
            " 5   firstBaron          50181 non-null  int64 \n",
            " 6   firstDragon         50181 non-null  int64 \n",
            " 7   firstRiftHerald     50181 non-null  int64 \n",
            " 8   t1_towerKills       50181 non-null  int64 \n",
            " 9   t1_inhibitorKills   50181 non-null  int64 \n",
            " 10  t1_baronKills       50181 non-null  int64 \n",
            " 11  t1_dragonKills      50181 non-null  int64 \n",
            " 12  t1_riftHeraldKills  50181 non-null  int64 \n",
            " 13  t2_towerKills       50181 non-null  int64 \n",
            " 14  t2_inhibitorKills   50181 non-null  int64 \n",
            " 15  t2_baronKills       50181 non-null  int64 \n",
            " 16  t2_dragonKills      50181 non-null  int64 \n",
            " 17  t2_riftHeraldKills  50181 non-null  int64 \n",
            " 18  spell_use_1         50181 non-null  object\n",
            " 19  spell_use_2         50181 non-null  object\n",
            "dtypes: int64(18), object(2)\n",
            "memory usage: 9.0+ MB\n"
          ]
        }
      ]
    },
    {
      "cell_type": "markdown",
      "source": [
        "의문점) 스펠이 모델에 성능에 영향을 미칠지??"
      ],
      "metadata": {
        "id": "mP3kAdeWsvDc"
      }
    },
    {
      "cell_type": "markdown",
      "source": [
        "### 결측값은 없다"
      ],
      "metadata": {
        "id": "mlz3zElkufZs"
      }
    },
    {
      "cell_type": "code",
      "source": [
        "## 결측값이 있는지 확인하기\n",
        "\n",
        "data_game.isnull().sum()"
      ],
      "metadata": {
        "id": "zKCBOk_xuYdN",
        "colab": {
          "base_uri": "https://localhost:8080/"
        },
        "outputId": "545dbc2e-2f95-4c6e-9341-d642030481af"
      },
      "execution_count": 131,
      "outputs": [
        {
          "output_type": "execute_result",
          "data": {
            "text/plain": [
              "gameDuration          0\n",
              "winner                0\n",
              "firstBlood            0\n",
              "firstTower            0\n",
              "firstInhibitor        0\n",
              "firstBaron            0\n",
              "firstDragon           0\n",
              "firstRiftHerald       0\n",
              "t1_towerKills         0\n",
              "t1_inhibitorKills     0\n",
              "t1_baronKills         0\n",
              "t1_dragonKills        0\n",
              "t1_riftHeraldKills    0\n",
              "t2_towerKills         0\n",
              "t2_inhibitorKills     0\n",
              "t2_baronKills         0\n",
              "t2_dragonKills        0\n",
              "t2_riftHeraldKills    0\n",
              "spell_use_1           0\n",
              "spell_use_2           0\n",
              "dtype: int64"
            ]
          },
          "metadata": {},
          "execution_count": 131
        }
      ]
    },
    {
      "cell_type": "markdown",
      "source": [
        "# 첫번째 상황이 나온 상황에서 타겟값과의 상관계수를 구해보자\n",
        "\n",
        "## 첫번째 드래곤을 처치한 경우\n",
        "## 첫번째 전령을 처치한 경우\n",
        "## 첫번째 바론을 처치한 경우\n",
        "## 첫번째 상대팀 챔피언을 처치한 경우\n",
        "\n",
        "## 첫번째 타워를 파괴한 경우\n",
        "## 첫번째 억제기를 파괴한 경우"
      ],
      "metadata": {
        "id": "Lt4mcDMuiYE6"
      }
    },
    {
      "cell_type": "markdown",
      "source": [
        "+) 게임시간과 승패와의 상관관계도 확인해보자"
      ],
      "metadata": {
        "id": "iRUdXzIHsKPV"
      }
    },
    {
      "cell_type": "code",
      "source": [
        "#확인할 칼럼들 \n",
        "\n",
        "first = [col for col in data_game.columns if \"first\" in col]\n",
        "first"
      ],
      "metadata": {
        "id": "ALgiXa-0irSp",
        "outputId": "3e947542-3549-4165-e9e1-07db33b6b1b2",
        "colab": {
          "base_uri": "https://localhost:8080/"
        }
      },
      "execution_count": 132,
      "outputs": [
        {
          "output_type": "execute_result",
          "data": {
            "text/plain": [
              "['firstBlood',\n",
              " 'firstTower',\n",
              " 'firstInhibitor',\n",
              " 'firstBaron',\n",
              " 'firstDragon',\n",
              " 'firstRiftHerald']"
            ]
          },
          "metadata": {},
          "execution_count": 132
        }
      ]
    },
    {
      "cell_type": "code",
      "source": [
        "corr_li = []\n",
        "\n",
        "for i in first:\n",
        "  print(i,data_game[[i,\"winner\"]].corr().iloc[0,1])\n",
        "  corr_li.append(data_game[[i,\"winner\"]].corr().iloc[0,1])"
      ],
      "metadata": {
        "id": "zBaEhAiPjmob",
        "outputId": "8f6c9bae-6dc7-41ce-9e78-f971736443d9",
        "colab": {
          "base_uri": "https://localhost:8080/"
        }
      },
      "execution_count": 133,
      "outputs": [
        {
          "output_type": "stream",
          "name": "stdout",
          "text": [
            "firstBlood 0.17970278056243028\n",
            "firstTower 0.4147029759161057\n",
            "firstInhibitor 0.5672877646196358\n",
            "firstBaron 0.2683073289367858\n",
            "firstDragon 0.34016263020447784\n",
            "firstRiftHerald 0.12138236555208376\n"
          ]
        }
      ]
    },
    {
      "cell_type": "code",
      "source": [
        "data_game[['gameDuration','winner']].corr()"
      ],
      "metadata": {
        "colab": {
          "base_uri": "https://localhost:8080/",
          "height": 112
        },
        "id": "cmbxcywzo4E-",
        "outputId": "ee4ad1aa-9098-4290-f14b-053e1965fbfa"
      },
      "execution_count": 134,
      "outputs": [
        {
          "output_type": "execute_result",
          "data": {
            "text/plain": [
              "              gameDuration    winner\n",
              "gameDuration      1.000000  0.025048\n",
              "winner            0.025048  1.000000"
            ],
            "text/html": [
              "\n",
              "  <div id=\"df-252661c1-9dea-4803-94e3-ee276cda27e6\">\n",
              "    <div class=\"colab-df-container\">\n",
              "      <div>\n",
              "<style scoped>\n",
              "    .dataframe tbody tr th:only-of-type {\n",
              "        vertical-align: middle;\n",
              "    }\n",
              "\n",
              "    .dataframe tbody tr th {\n",
              "        vertical-align: top;\n",
              "    }\n",
              "\n",
              "    .dataframe thead th {\n",
              "        text-align: right;\n",
              "    }\n",
              "</style>\n",
              "<table border=\"1\" class=\"dataframe\">\n",
              "  <thead>\n",
              "    <tr style=\"text-align: right;\">\n",
              "      <th></th>\n",
              "      <th>gameDuration</th>\n",
              "      <th>winner</th>\n",
              "    </tr>\n",
              "  </thead>\n",
              "  <tbody>\n",
              "    <tr>\n",
              "      <th>gameDuration</th>\n",
              "      <td>1.000000</td>\n",
              "      <td>0.025048</td>\n",
              "    </tr>\n",
              "    <tr>\n",
              "      <th>winner</th>\n",
              "      <td>0.025048</td>\n",
              "      <td>1.000000</td>\n",
              "    </tr>\n",
              "  </tbody>\n",
              "</table>\n",
              "</div>\n",
              "      <button class=\"colab-df-convert\" onclick=\"convertToInteractive('df-252661c1-9dea-4803-94e3-ee276cda27e6')\"\n",
              "              title=\"Convert this dataframe to an interactive table.\"\n",
              "              style=\"display:none;\">\n",
              "        \n",
              "  <svg xmlns=\"http://www.w3.org/2000/svg\" height=\"24px\"viewBox=\"0 0 24 24\"\n",
              "       width=\"24px\">\n",
              "    <path d=\"M0 0h24v24H0V0z\" fill=\"none\"/>\n",
              "    <path d=\"M18.56 5.44l.94 2.06.94-2.06 2.06-.94-2.06-.94-.94-2.06-.94 2.06-2.06.94zm-11 1L8.5 8.5l.94-2.06 2.06-.94-2.06-.94L8.5 2.5l-.94 2.06-2.06.94zm10 10l.94 2.06.94-2.06 2.06-.94-2.06-.94-.94-2.06-.94 2.06-2.06.94z\"/><path d=\"M17.41 7.96l-1.37-1.37c-.4-.4-.92-.59-1.43-.59-.52 0-1.04.2-1.43.59L10.3 9.45l-7.72 7.72c-.78.78-.78 2.05 0 2.83L4 21.41c.39.39.9.59 1.41.59.51 0 1.02-.2 1.41-.59l7.78-7.78 2.81-2.81c.8-.78.8-2.07 0-2.86zM5.41 20L4 18.59l7.72-7.72 1.47 1.35L5.41 20z\"/>\n",
              "  </svg>\n",
              "      </button>\n",
              "      \n",
              "  <style>\n",
              "    .colab-df-container {\n",
              "      display:flex;\n",
              "      flex-wrap:wrap;\n",
              "      gap: 12px;\n",
              "    }\n",
              "\n",
              "    .colab-df-convert {\n",
              "      background-color: #E8F0FE;\n",
              "      border: none;\n",
              "      border-radius: 50%;\n",
              "      cursor: pointer;\n",
              "      display: none;\n",
              "      fill: #1967D2;\n",
              "      height: 32px;\n",
              "      padding: 0 0 0 0;\n",
              "      width: 32px;\n",
              "    }\n",
              "\n",
              "    .colab-df-convert:hover {\n",
              "      background-color: #E2EBFA;\n",
              "      box-shadow: 0px 1px 2px rgba(60, 64, 67, 0.3), 0px 1px 3px 1px rgba(60, 64, 67, 0.15);\n",
              "      fill: #174EA6;\n",
              "    }\n",
              "\n",
              "    [theme=dark] .colab-df-convert {\n",
              "      background-color: #3B4455;\n",
              "      fill: #D2E3FC;\n",
              "    }\n",
              "\n",
              "    [theme=dark] .colab-df-convert:hover {\n",
              "      background-color: #434B5C;\n",
              "      box-shadow: 0px 1px 3px 1px rgba(0, 0, 0, 0.15);\n",
              "      filter: drop-shadow(0px 1px 2px rgba(0, 0, 0, 0.3));\n",
              "      fill: #FFFFFF;\n",
              "    }\n",
              "  </style>\n",
              "\n",
              "      <script>\n",
              "        const buttonEl =\n",
              "          document.querySelector('#df-252661c1-9dea-4803-94e3-ee276cda27e6 button.colab-df-convert');\n",
              "        buttonEl.style.display =\n",
              "          google.colab.kernel.accessAllowed ? 'block' : 'none';\n",
              "\n",
              "        async function convertToInteractive(key) {\n",
              "          const element = document.querySelector('#df-252661c1-9dea-4803-94e3-ee276cda27e6');\n",
              "          const dataTable =\n",
              "            await google.colab.kernel.invokeFunction('convertToInteractive',\n",
              "                                                     [key], {});\n",
              "          if (!dataTable) return;\n",
              "\n",
              "          const docLinkHtml = 'Like what you see? Visit the ' +\n",
              "            '<a target=\"_blank\" href=https://colab.research.google.com/notebooks/data_table.ipynb>data table notebook</a>'\n",
              "            + ' to learn more about interactive tables.';\n",
              "          element.innerHTML = '';\n",
              "          dataTable['output_type'] = 'display_data';\n",
              "          await google.colab.output.renderOutput(dataTable, element);\n",
              "          const docLink = document.createElement('div');\n",
              "          docLink.innerHTML = docLinkHtml;\n",
              "          element.appendChild(docLink);\n",
              "        }\n",
              "      </script>\n",
              "    </div>\n",
              "  </div>\n",
              "  "
            ]
          },
          "metadata": {},
          "execution_count": 134
        }
      ]
    },
    {
      "cell_type": "markdown",
      "source": [
        "상관계수 해석\n",
        "- 첫번째 억제기를 파괴하였을때는 승리와 상관관계가 있다고 할 수있다.\n",
        "- 나머지는 약한 상관관계를 보인다고 보면 된다.\n",
        "\n",
        "\n",
        "- 게임 시간과 승리와는 상관관계가 없다고 보면 된다.\n"
      ],
      "metadata": {
        "id": "b52JRqUjoRR6"
      }
    },
    {
      "cell_type": "markdown",
      "source": [
        "## 상관계수 그래프도 가능할까??"
      ],
      "metadata": {
        "id": "yWESAUM8JbG1"
      }
    },
    {
      "cell_type": "code",
      "source": [
        "corr_li.sort(reverse=True)\n",
        "corr_li"
      ],
      "metadata": {
        "colab": {
          "base_uri": "https://localhost:8080/"
        },
        "id": "p8jZN73ws-tQ",
        "outputId": "9a8638f6-b2c2-4be9-cbd0-a1761c0124c6"
      },
      "execution_count": 135,
      "outputs": [
        {
          "output_type": "execute_result",
          "data": {
            "text/plain": [
              "[0.5672877646196358,\n",
              " 0.4147029759161057,\n",
              " 0.34016263020447784,\n",
              " 0.2683073289367858,\n",
              " 0.17970278056243028,\n",
              " 0.12138236555208376]"
            ]
          },
          "metadata": {},
          "execution_count": 135
        }
      ]
    },
    {
      "cell_type": "code",
      "source": [
        "import matplotlib.pyplot as plt\n",
        "\n",
        "plt.figure(figsize = (10,5))\n",
        "\n",
        "plt.title('corr graph')\n",
        "plt.bar(first,corr_li,color = ['red', 'orange', 'yellow', 'green','blue','purple']);"
      ],
      "metadata": {
        "colab": {
          "base_uri": "https://localhost:8080/",
          "height": 336
        },
        "id": "hFQ_OM4-sfpG",
        "outputId": "b82615dc-cfc9-426c-926a-cc268dd0e421"
      },
      "execution_count": 136,
      "outputs": [
        {
          "output_type": "display_data",
          "data": {
            "text/plain": [
              "<Figure size 720x360 with 1 Axes>"
            ],
            "image/png": "[encoded data removed]"
          },
          "metadata": {
            "needs_background": "light"
          }
        }
      ]
    },
    {
      "cell_type": "code",
      "source": [
        "data_game[[\"firstInhibitor\",\"winner\"]].groupby([\"firstInhibitor\"],as_index = False).mean().sort_values(by = \"winner\",ascending = False)"
      ],
      "metadata": {
        "colab": {
          "base_uri": "https://localhost:8080/",
          "height": 143
        },
        "id": "iog_XRSWFQ-G",
        "outputId": "00db8d67-8f33-4d44-e799-cd320a3d8950"
      },
      "execution_count": 137,
      "outputs": [
        {
          "output_type": "execute_result",
          "data": {
            "text/plain": [
              "   firstInhibitor    winner\n",
              "2               2  1.913299\n",
              "0               0  1.489274\n",
              "1               1  1.091609"
            ],
            "text/html": [
              "\n",
              "  <div id=\"df-07df2712-42f5-4930-a4cf-817c4939294f\">\n",
              "    <div class=\"colab-df-container\">\n",
              "      <div>\n",
              "<style scoped>\n",
              "    .dataframe tbody tr th:only-of-type {\n",
              "        vertical-align: middle;\n",
              "    }\n",
              "\n",
              "    .dataframe tbody tr th {\n",
              "        vertical-align: top;\n",
              "    }\n",
              "\n",
              "    .dataframe thead th {\n",
              "        text-align: right;\n",
              "    }\n",
              "</style>\n",
              "<table border=\"1\" class=\"dataframe\">\n",
              "  <thead>\n",
              "    <tr style=\"text-align: right;\">\n",
              "      <th></th>\n",
              "      <th>firstInhibitor</th>\n",
              "      <th>winner</th>\n",
              "    </tr>\n",
              "  </thead>\n",
              "  <tbody>\n",
              "    <tr>\n",
              "      <th>2</th>\n",
              "      <td>2</td>\n",
              "      <td>1.913299</td>\n",
              "    </tr>\n",
              "    <tr>\n",
              "      <th>0</th>\n",
              "      <td>0</td>\n",
              "      <td>1.489274</td>\n",
              "    </tr>\n",
              "    <tr>\n",
              "      <th>1</th>\n",
              "      <td>1</td>\n",
              "      <td>1.091609</td>\n",
              "    </tr>\n",
              "  </tbody>\n",
              "</table>\n",
              "</div>\n",
              "      <button class=\"colab-df-convert\" onclick=\"convertToInteractive('df-07df2712-42f5-4930-a4cf-817c4939294f')\"\n",
              "              title=\"Convert this dataframe to an interactive table.\"\n",
              "              style=\"display:none;\">\n",
              "        \n",
              "  <svg xmlns=\"http://www.w3.org/2000/svg\" height=\"24px\"viewBox=\"0 0 24 24\"\n",
              "       width=\"24px\">\n",
              "    <path d=\"M0 0h24v24H0V0z\" fill=\"none\"/>\n",
              "    <path d=\"M18.56 5.44l.94 2.06.94-2.06 2.06-.94-2.06-.94-.94-2.06-.94 2.06-2.06.94zm-11 1L8.5 8.5l.94-2.06 2.06-.94-2.06-.94L8.5 2.5l-.94 2.06-2.06.94zm10 10l.94 2.06.94-2.06 2.06-.94-2.06-.94-.94-2.06-.94 2.06-2.06.94z\"/><path d=\"M17.41 7.96l-1.37-1.37c-.4-.4-.92-.59-1.43-.59-.52 0-1.04.2-1.43.59L10.3 9.45l-7.72 7.72c-.78.78-.78 2.05 0 2.83L4 21.41c.39.39.9.59 1.41.59.51 0 1.02-.2 1.41-.59l7.78-7.78 2.81-2.81c.8-.78.8-2.07 0-2.86zM5.41 20L4 18.59l7.72-7.72 1.47 1.35L5.41 20z\"/>\n",
              "  </svg>\n",
              "      </button>\n",
              "      \n",
              "  <style>\n",
              "    .colab-df-container {\n",
              "      display:flex;\n",
              "      flex-wrap:wrap;\n",
              "      gap: 12px;\n",
              "    }\n",
              "\n",
              "    .colab-df-convert {\n",
              "      background-color: #E8F0FE;\n",
              "      border: none;\n",
              "      border-radius: 50%;\n",
              "      cursor: pointer;\n",
              "      display: none;\n",
              "      fill: #1967D2;\n",
              "      height: 32px;\n",
              "      padding: 0 0 0 0;\n",
              "      width: 32px;\n",
              "    }\n",
              "\n",
              "    .colab-df-convert:hover {\n",
              "      background-color: #E2EBFA;\n",
              "      box-shadow: 0px 1px 2px rgba(60, 64, 67, 0.3), 0px 1px 3px 1px rgba(60, 64, 67, 0.15);\n",
              "      fill: #174EA6;\n",
              "    }\n",
              "\n",
              "    [theme=dark] .colab-df-convert {\n",
              "      background-color: #3B4455;\n",
              "      fill: #D2E3FC;\n",
              "    }\n",
              "\n",
              "    [theme=dark] .colab-df-convert:hover {\n",
              "      background-color: #434B5C;\n",
              "      box-shadow: 0px 1px 3px 1px rgba(0, 0, 0, 0.15);\n",
              "      filter: drop-shadow(0px 1px 2px rgba(0, 0, 0, 0.3));\n",
              "      fill: #FFFFFF;\n",
              "    }\n",
              "  </style>\n",
              "\n",
              "      <script>\n",
              "        const buttonEl =\n",
              "          document.querySelector('#df-07df2712-42f5-4930-a4cf-817c4939294f button.colab-df-convert');\n",
              "        buttonEl.style.display =\n",
              "          google.colab.kernel.accessAllowed ? 'block' : 'none';\n",
              "\n",
              "        async function convertToInteractive(key) {\n",
              "          const element = document.querySelector('#df-07df2712-42f5-4930-a4cf-817c4939294f');\n",
              "          const dataTable =\n",
              "            await google.colab.kernel.invokeFunction('convertToInteractive',\n",
              "                                                     [key], {});\n",
              "          if (!dataTable) return;\n",
              "\n",
              "          const docLinkHtml = 'Like what you see? Visit the ' +\n",
              "            '<a target=\"_blank\" href=https://colab.research.google.com/notebooks/data_table.ipynb>data table notebook</a>'\n",
              "            + ' to learn more about interactive tables.';\n",
              "          element.innerHTML = '';\n",
              "          dataTable['output_type'] = 'display_data';\n",
              "          await google.colab.output.renderOutput(dataTable, element);\n",
              "          const docLink = document.createElement('div');\n",
              "          docLink.innerHTML = docLinkHtml;\n",
              "          element.appendChild(docLink);\n",
              "        }\n",
              "      </script>\n",
              "    </div>\n",
              "  </div>\n",
              "  "
            ]
          },
          "metadata": {},
          "execution_count": 137
        }
      ]
    },
    {
      "cell_type": "markdown",
      "source": [
        "여기서 보면 억제기를 2팀이 미는 경우 winner의 평균이 거의 2에 가깝고 억제기를 1팀이 미는 경우 winner의 평균이 거의 1에 가까운것을 확인 할 수 있다.\n",
        "\n",
        "따라서 억제기를 먼저 미는 것과 승리와의 상관관계가 강하다고 할 수 있다."
      ],
      "metadata": {
        "id": "nCgV5ZL-IsQz"
      }
    },
    {
      "cell_type": "markdown",
      "source": [
        "# 모델링하기"
      ],
      "metadata": {
        "id": "Njy1DMCDbpCa"
      }
    },
    {
      "cell_type": "markdown",
      "source": [
        "먼저 타겟(winner)를 이용한 기준 모델 만들기\n",
        "(타겟의 최빈값을 이용함)"
      ],
      "metadata": {
        "id": "BN6PdeZyvgaG"
      }
    },
    {
      "cell_type": "markdown",
      "source": [
        "기준모델 : 0.51"
      ],
      "metadata": {
        "id": "N8neF1WewDLD"
      }
    },
    {
      "cell_type": "code",
      "source": [
        "from sklearn.metrics import accuracy_score\n",
        "\n",
        "\n",
        "base_major  = data_game['winner'].mode()[0]\n",
        "y_pred_base = [base_major] * len(data_game['winner'])\n",
        "accuracy_score1 = accuracy_score(data_game['winner'], y_pred_base)\n",
        "accuracy_score1"
      ],
      "metadata": {
        "id": "SBFpcMv9vmk9",
        "colab": {
          "base_uri": "https://localhost:8080/"
        },
        "outputId": "9ec6ced1-809d-437d-97e9-44f0458cc91e"
      },
      "execution_count": 138,
      "outputs": [
        {
          "output_type": "execute_result",
          "data": {
            "text/plain": [
              "0.5058886829676571"
            ]
          },
          "metadata": {},
          "execution_count": 138
        }
      ]
    },
    {
      "cell_type": "markdown",
      "source": [
        "### 학습 데이터, 검증데이터, 테스트 데이터로 나누기"
      ],
      "metadata": {
        "id": "3Kc8Jj1Z5bTZ"
      }
    },
    {
      "cell_type": "code",
      "source": [
        "#여러가지 조건 \n",
        "\n",
        "#1. 게임 지속시간을 빼고 해보자\n",
        "# 결과) 게임 지속 시간 칼럼을 빼도 딱히 성능에는 영향이 없으니 빼자\n",
        "\n",
        "df_game = data_game.copy()\n",
        "df_game.drop(columns = 'gameDuration',inplace = True)"
      ],
      "metadata": {
        "id": "dA-0VIHxWzEp"
      },
      "execution_count": 139,
      "outputs": []
    },
    {
      "cell_type": "code",
      "source": [
        "from sklearn.model_selection import train_test_split\n",
        "\n",
        "\n",
        "train,test = train_test_split(df_game,test_size = 0.2, random_state = 42)"
      ],
      "metadata": {
        "id": "jGX3EhULwMAx"
      },
      "execution_count": 140,
      "outputs": []
    },
    {
      "cell_type": "code",
      "source": [
        "print(train.shape, test.shape)"
      ],
      "metadata": {
        "id": "3XFuncGH8Sio",
        "colab": {
          "base_uri": "https://localhost:8080/"
        },
        "outputId": "38bcc782-1c6c-47b5-ffbb-b0e1879d741a"
      },
      "execution_count": 141,
      "outputs": [
        {
          "output_type": "stream",
          "name": "stdout",
          "text": [
            "(40144, 19) (10037, 19)\n"
          ]
        }
      ]
    },
    {
      "cell_type": "markdown",
      "source": [
        "피쳐와 타겟에 따라서 X_train,y_train,X_test,y_test 만들기"
      ],
      "metadata": {
        "id": "LyDiWDKw8ngj"
      }
    },
    {
      "cell_type": "code",
      "source": [
        "df_game.columns"
      ],
      "metadata": {
        "id": "j-xoaxHI-dBJ",
        "colab": {
          "base_uri": "https://localhost:8080/"
        },
        "outputId": "63392988-c8f4-431f-ab76-4f796bee17c5"
      },
      "execution_count": 142,
      "outputs": [
        {
          "output_type": "execute_result",
          "data": {
            "text/plain": [
              "Index(['winner', 'firstBlood', 'firstTower', 'firstInhibitor', 'firstBaron',\n",
              "       'firstDragon', 'firstRiftHerald', 't1_towerKills', 't1_inhibitorKills',\n",
              "       't1_baronKills', 't1_dragonKills', 't1_riftHeraldKills',\n",
              "       't2_towerKills', 't2_inhibitorKills', 't2_baronKills', 't2_dragonKills',\n",
              "       't2_riftHeraldKills', 'spell_use_1', 'spell_use_2'],\n",
              "      dtype='object')"
            ]
          },
          "metadata": {},
          "execution_count": 142
        }
      ]
    },
    {
      "cell_type": "markdown",
      "source": [
        "### 우선 스펠 관련 특성이 굉장히 많은데 이 역시 포함해서 모델을 만들어보고 이후에 빼서 모델을 만들어 보자"
      ],
      "metadata": {
        "id": "Xc8i3HsB-_5S"
      }
    },
    {
      "cell_type": "markdown",
      "source": [
        "X와 y로 나누기"
      ],
      "metadata": {
        "id": "bh96aJnLh5Ub"
      }
    },
    {
      "cell_type": "code",
      "source": [
        "features = df_game.drop(columns = 'winner').columns\n",
        "target = 'winner'\n",
        "\n",
        "\n",
        "X_train = train[features]\n",
        "y_train = train[target]\n",
        "\n",
        "X_test = test[features]\n",
        "y_test = test[target]\n"
      ],
      "metadata": {
        "id": "Q3rJMV49-Z0r"
      },
      "execution_count": 143,
      "outputs": []
    },
    {
      "cell_type": "markdown",
      "source": [
        "수치데이터 - 총 타워킬, 총 용 킬 등등\n",
        "\n",
        "범주형데이터 - 첫번째 용을 먹었나? (1/0) 등등"
      ],
      "metadata": {
        "id": "pFe7UVeclDbd"
      }
    },
    {
      "cell_type": "code",
      "source": [
        "!pip3 install category_encoders"
      ],
      "metadata": {
        "colab": {
          "base_uri": "https://localhost:8080/"
        },
        "id": "szwZJ4hLWEY6",
        "outputId": "c8a79f55-26ea-4eba-9a91-e7003506da98"
      },
      "execution_count": 144,
      "outputs": [
        {
          "output_type": "stream",
          "name": "stdout",
          "text": [
            "Looking in indexes: https://pypi.org/simple, https://us-python.pkg.dev/colab-wheels/public/simple/\n",
            "Requirement already satisfied: category_encoders in /usr/local/lib/python3.7/dist-packages (2.5.0)\n",
            "Requirement already satisfied: patsy>=0.5.1 in /usr/local/lib/python3.7/dist-packages (from category_encoders) (0.5.2)\n",
            "Requirement already satisfied: pandas>=1.0.5 in /usr/local/lib/python3.7/dist-packages (from category_encoders) (1.3.5)\n",
            "Requirement already satisfied: scikit-learn>=0.20.0 in /usr/local/lib/python3.7/dist-packages (from category_encoders) (1.0.2)\n",
            "Requirement already satisfied: scipy>=1.0.0 in /usr/local/lib/python3.7/dist-packages (from category_encoders) (1.7.3)\n",
            "Requirement already satisfied: numpy>=1.14.0 in /usr/local/lib/python3.7/dist-packages (from category_encoders) (1.21.6)\n",
            "Requirement already satisfied: statsmodels>=0.9.0 in /usr/local/lib/python3.7/dist-packages (from category_encoders) (0.12.2)\n",
            "Requirement already satisfied: pytz>=2017.3 in /usr/local/lib/python3.7/dist-packages (from pandas>=1.0.5->category_encoders) (2022.2.1)\n",
            "Requirement already satisfied: python-dateutil>=2.7.3 in /usr/local/lib/python3.7/dist-packages (from pandas>=1.0.5->category_encoders) (2.8.2)\n",
            "Requirement already satisfied: six in /usr/local/lib/python3.7/dist-packages (from patsy>=0.5.1->category_encoders) (1.15.0)\n",
            "Requirement already satisfied: threadpoolctl>=2.0.0 in /usr/local/lib/python3.7/dist-packages (from scikit-learn>=0.20.0->category_encoders) (3.1.0)\n",
            "Requirement already satisfied: joblib>=0.11 in /usr/local/lib/python3.7/dist-packages (from scikit-learn>=0.20.0->category_encoders) (1.1.0)\n"
          ]
        }
      ]
    },
    {
      "cell_type": "code",
      "source": [
        "from sklearn.pipeline import make_pipeline\n",
        "from sklearn.tree import DecisionTreeClassifier\n",
        "from category_encoders import OrdinalEncoder"
      ],
      "metadata": {
        "id": "f1tb8ttxmAgs"
      },
      "execution_count": 145,
      "outputs": []
    },
    {
      "cell_type": "code",
      "source": [
        "\n",
        "\n",
        "pipe_dt = make_pipeline(\n",
        "    OrdinalEncoder(),\n",
        "    DecisionTreeClassifier(random_state=1, criterion=\"entropy\", max_depth=6),\n",
        ")\n",
        "pipe_dt.fit(X_train, y_train)\n",
        "\n",
        "print(\"훈련 정확도: \", pipe_dt.score(X_train, y_train))\n",
        "print(\"테스트 정확도: \", pipe_dt.score(X_test, y_test))\n",
        "\n",
        "y_pred = pipe_dt.predict(X_test)"
      ],
      "metadata": {
        "colab": {
          "base_uri": "https://localhost:8080/"
        },
        "id": "VPFhByu5WvE7",
        "outputId": "d2672a20-ccf7-4985-b462-0e0fd11f5315"
      },
      "execution_count": 146,
      "outputs": [
        {
          "output_type": "stream",
          "name": "stdout",
          "text": [
            "훈련 정확도:  0.9778796333200478\n",
            "테스트 정확도:  0.976188104015144\n"
          ]
        }
      ]
    },
    {
      "cell_type": "markdown",
      "source": [
        "너무 정확도가 크다...\n",
        "\n",
        "데이터 누수가 의심된다"
      ],
      "metadata": {
        "id": "Hqi_84Lhr4Gq"
      }
    },
    {
      "cell_type": "markdown",
      "source": [
        "의심요소 - t1_towerKill과 ,t2_inhibitorKills의 칼럼\n",
        "\n",
        "- 타워는 한 팀당 11개가 있다. 11개를 다 부순다면 거의 게임이 끝났다는 것을 의미함으로 예측이 쉽게 된다\n",
        "\n",
        "- 억제기도 억제기가 3개가 밀렸다면 거의 게임이 끝났다는 것을 의미하기 때문에(밀리는 팀이 패배) 예측이 쉽다 "
      ],
      "metadata": {
        "id": "BzaVk0Ejr9bq"
      }
    },
    {
      "cell_type": "code",
      "source": [
        "a =  df_game.query('t1_towerKills\t== 11')"
      ],
      "metadata": {
        "id": "OG95UcLmsCuK"
      },
      "execution_count": 147,
      "outputs": []
    },
    {
      "cell_type": "code",
      "source": [
        "a.shape[0]"
      ],
      "metadata": {
        "colab": {
          "base_uri": "https://localhost:8080/"
        },
        "id": "sz4Q6FSMs-Dl",
        "outputId": "2962ac5c-af8c-42ec-b123-e76c669c19b8"
      },
      "execution_count": 148,
      "outputs": [
        {
          "output_type": "execute_result",
          "data": {
            "text/plain": [
              "5942"
            ]
          },
          "metadata": {},
          "execution_count": 148
        }
      ]
    },
    {
      "cell_type": "code",
      "source": [
        "a[a.winner == 2].shape[0]"
      ],
      "metadata": {
        "colab": {
          "base_uri": "https://localhost:8080/"
        },
        "id": "a1lg_8nxszHs",
        "outputId": "41afa1da-a2aa-4a12-ab5a-fe45eb062b12"
      },
      "execution_count": 149,
      "outputs": [
        {
          "output_type": "execute_result",
          "data": {
            "text/plain": [
              "50"
            ]
          },
          "metadata": {},
          "execution_count": 149
        }
      ]
    },
    {
      "cell_type": "markdown",
      "source": [
        "1팀이 2팀 타워를 다부순게 약6000건 정도인데 그중에 2팀이 이긴것은 50건 밖에 안된다. 따라서 예측이 쉬워짐으로 해당 칼럼들을 삭제하고 진행한다"
      ],
      "metadata": {
        "id": "uDLoY0_ytNq5"
      }
    },
    {
      "cell_type": "markdown",
      "source": [
        "### 여기에서 중복치를 제거하고 다시 성능을 확인하자"
      ],
      "metadata": {
        "id": "NQ8dzVL0IDsk"
      }
    },
    {
      "cell_type": "code",
      "source": [
        "df_tower_in = df_game.drop(columns = ['t1_inhibitorKills','t2_inhibitorKills','t1_towerKills','t2_towerKills'])"
      ],
      "metadata": {
        "id": "5hKGJw0AMmM6"
      },
      "execution_count": 150,
      "outputs": []
    },
    {
      "cell_type": "code",
      "source": [
        "df_tower_in= df_tower_in.drop_duplicates()"
      ],
      "metadata": {
        "id": "SIz2EkdNMxgC"
      },
      "execution_count": 151,
      "outputs": []
    },
    {
      "cell_type": "code",
      "source": [
        "train,test = train_test_split(df_tower_in,test_size = 0.2, random_state = 42)\n",
        "\n",
        "features = df_tower_in.drop(columns = 'winner').columns\n",
        "target = 'winner'\n",
        "\n",
        "\n",
        "X_train = train[features]\n",
        "y_train = train[target]\n",
        "\n",
        "X_test = test[features]\n",
        "y_test = test[target]"
      ],
      "metadata": {
        "id": "afMtdR44NOkf"
      },
      "execution_count": 152,
      "outputs": []
    },
    {
      "cell_type": "code",
      "source": [
        "pipe_dup = make_pipeline(\n",
        "    OrdinalEncoder(),\n",
        "    DecisionTreeClassifier(random_state=1, criterion=\"entropy\", max_depth=6),\n",
        ")\n",
        "pipe_dup.fit(X_train, y_train)\n",
        "\n",
        "print(\"훈련 정확도: \", pipe_dup.score(X_train, y_train))\n",
        "print(\"테스트 정확도: \", pipe_dup.score(X_test, y_test))"
      ],
      "metadata": {
        "colab": {
          "base_uri": "https://localhost:8080/"
        },
        "id": "c1D7xyJCNTf7",
        "outputId": "d80102c7-b9c5-4b35-d1d6-b4a72b91f66d"
      },
      "execution_count": 153,
      "outputs": [
        {
          "output_type": "stream",
          "name": "stdout",
          "text": [
            "훈련 정확도:  0.755100104374229\n",
            "테스트 정확도:  0.7578747628083492\n"
          ]
        }
      ]
    },
    {
      "cell_type": "markdown",
      "source": [
        "### 여러가지 모델로 성능을 테스트하자"
      ],
      "metadata": {
        "id": "5Zdic27zZrn5"
      }
    },
    {
      "cell_type": "code",
      "source": [
        "from xgboost import XGBClassifier\n",
        "\n",
        "\n",
        "pipe_xg = make_pipeline(\n",
        "    OrdinalEncoder(),\n",
        "    XGBClassifier(\n",
        "        objective=\"binary:logistic\",\n",
        "        eval_metric=\"error\",  \n",
        "        n_estimators=200,\n",
        "        random_state=42,\n",
        "        n_jobs=-1,\n",
        "        max_depth=7,\n",
        "        learning_rate=0.1,\n",
        "    ),\n",
        ")"
      ],
      "metadata": {
        "id": "1xiPCJqHZ2QU"
      },
      "execution_count": 154,
      "outputs": []
    },
    {
      "cell_type": "code",
      "source": [
        "pipe_xg.fit(X_train, y_train)"
      ],
      "metadata": {
        "colab": {
          "base_uri": "https://localhost:8080/"
        },
        "id": "bLW6IIJ8Z9Wn",
        "outputId": "ecfd8fde-a36b-4da2-df6c-f51b04bf9dc2"
      },
      "execution_count": 155,
      "outputs": [
        {
          "output_type": "execute_result",
          "data": {
            "text/plain": [
              "Pipeline(steps=[('ordinalencoder',\n",
              "                 OrdinalEncoder(cols=['spell_use_1', 'spell_use_2'],\n",
              "                                mapping=[{'col': 'spell_use_1',\n",
              "                                          'data_type': dtype('O'),\n",
              "                                          'mapping': 0      1\n",
              "1      2\n",
              "NaN   -2\n",
              "dtype: int64},\n",
              "                                         {'col': 'spell_use_2',\n",
              "                                          'data_type': dtype('O'),\n",
              "                                          'mapping': 0      1\n",
              "1      2\n",
              "NaN   -2\n",
              "dtype: int64}])),\n",
              "                ('xgbclassifier',\n",
              "                 XGBClassifier(eval_metric='error', max_depth=7,\n",
              "                               n_estimators=200, n_jobs=-1, random_state=42))])"
            ]
          },
          "metadata": {},
          "execution_count": 155
        }
      ]
    },
    {
      "cell_type": "code",
      "source": [
        "print(\"테스트 정확도\", pipe_xg.score(X_test, y_test))\n"
      ],
      "metadata": {
        "colab": {
          "base_uri": "https://localhost:8080/"
        },
        "id": "NCGbbpE8aF4J",
        "outputId": "06829fb7-43f3-4317-dda4-5e606f1634b8"
      },
      "execution_count": 156,
      "outputs": [
        {
          "output_type": "stream",
          "name": "stdout",
          "text": [
            "테스트 정확도 0.7537001897533206\n"
          ]
        }
      ]
    },
    {
      "cell_type": "markdown",
      "source": [
        "### 하이퍼파라미터 튜닝을 통해서 성능을 올리자"
      ],
      "metadata": {
        "id": "vXGQxDJnaoci"
      }
    },
    {
      "cell_type": "code",
      "source": [
        "from scipy.stats.distributions import uniform\n",
        "\n",
        "params = {\n",
        "    \"xgbclassifier__max_depth\": [2, 4, 6],\n",
        "    \"xgbclassifier__min_child_weight\": [2, 4, 8],\n",
        "    \"xgbclassifier__colsample_bytree\": uniform(\n",
        "        loc=0.5, scale=0.5\n",
        "    ), \n",
        "}"
      ],
      "metadata": {
        "id": "m5l8831DasAB"
      },
      "execution_count": 157,
      "outputs": []
    },
    {
      "cell_type": "code",
      "source": [
        "# from sklearn.model_selection import RandomizedSearchCV\n",
        "\n",
        "# randomized_search = RandomizedSearchCV(\n",
        "#     pipe_xg,\n",
        "#     param_distributions=params,\n",
        "#     scoring=\"roc_auc\",\n",
        "#     n_iter=10,\n",
        "#     cv=3,\n",
        "#     verbose=3,\n",
        "#     random_state=42,\n",
        "# )\n",
        "# randomized_search.fit(X_train, y_train)"
      ],
      "metadata": {
        "id": "Op3AMVzza1fZ"
      },
      "execution_count": 158,
      "outputs": []
    },
    {
      "cell_type": "code",
      "source": [
        "# print(\"최적 하이퍼파라미터: \", randomized_search.best_params_)\n",
        "# print(\"최적 AUC: \", randomized_search.best_score_)"
      ],
      "metadata": {
        "id": "bHInCPx3bMX0"
      },
      "execution_count": 159,
      "outputs": []
    },
    {
      "cell_type": "markdown",
      "source": [
        "결과\n",
        "최적 하이퍼파라미터:  {'xgbclassifier__colsample_bytree': 0.8659969709057025, 'xgbclassifier__max_depth': 2, 'xgbclassifier__min_child_weight': 2}\n",
        "최적 AUC:  0.8374229475492787"
      ],
      "metadata": {
        "id": "EA_ioAIQbZaL"
      }
    },
    {
      "cell_type": "markdown",
      "source": [
        "특성 중요도 부분"
      ],
      "metadata": {
        "id": "h-ODwJZWbpvg"
      }
    },
    {
      "cell_type": "code",
      "source": [
        "import matplotlib.pyplot as plt\n",
        "\n",
        "feature_importances = list(\n",
        "    zip(X_train.columns, pipe_xg.named_steps[\"xgbclassifier\"].feature_importances_)\n",
        ")\n",
        "feature_importances = sorted(feature_importances, key=lambda x: x[1], reverse=True)\n",
        "\n",
        "plt.figure(figsize=(10, 10), dpi=120)\n",
        "plt.barh(*list(zip(*feature_importances[::-1])))\n",
        "plt.axvline(0.015, color=\"red\", linewidth=0.5)"
      ],
      "metadata": {
        "colab": {
          "base_uri": "https://localhost:8080/",
          "height": 994
        },
        "id": "RWAUagfJbSkl",
        "outputId": "a50c2ba0-5cb8-4706-d538-76c34855672c"
      },
      "execution_count": 160,
      "outputs": [
        {
          "output_type": "execute_result",
          "data": {
            "text/plain": [
              "<matplotlib.lines.Line2D at 0x7efee0c48fd0>"
            ]
          },
          "metadata": {},
          "execution_count": 160
        },
        {
          "output_type": "display_data",
          "data": {
            "text/plain": [
              "<Figure size 1200x1200 with 1 Axes>"
            ],
            "image/png": "[encoded data removed]"
          },
          "metadata": {
            "needs_background": "light"
          }
        }
      ]
    },
    {
      "cell_type": "markdown",
      "source": [
        "### 알 수 있는점\n",
        "- 첫번쨰 억제기에 따라서 승패를 예측하기 쉬워진다\n",
        "- 바론처치에 따라서 영향이 크다\n",
        "- 바론다음으로는 드래곤 처치가 영향이 크다\n",
        "- 전령과 용중에서는 용을 우선으로 하자"
      ],
      "metadata": {
        "id": "EUEPnKVGbxNC"
      }
    },
    {
      "cell_type": "code",
      "source": [
        "from sklearn.model_selection import cross_val_score\n",
        "\n",
        "cv_results = cross_val_score(\n",
        "    pipe_xg, \n",
        "    X_train, \n",
        "    y_train, \n",
        "    cv=5,\n",
        "    scoring=\"neg_mean_absolute_error\",\n",
        "    n_jobs=-1\n",
        "    )"
      ],
      "metadata": {
        "id": "sPlTkfe40cNm"
      },
      "execution_count": 161,
      "outputs": []
    },
    {
      "cell_type": "code",
      "source": [
        "y_test_pred= pipe_xg.predict(X_test)"
      ],
      "metadata": {
        "id": "gRJzN0Yp94Dy"
      },
      "execution_count": 162,
      "outputs": []
    },
    {
      "cell_type": "markdown",
      "source": [
        "### 로지스틱으로 분류할때의 confusion그리기"
      ],
      "metadata": {
        "id": "AccrJ5kb-7rw"
      }
    },
    {
      "cell_type": "code",
      "source": [
        "#기준모델과 로지스틱 회귀모델이 각각 샘플을 어떻게 예측했는지 Confusion Matrix로 확인해보겠습니다.\n",
        "\n",
        "y_true1 = y_test.value_counts()[1]\n",
        "y_true2 = y_test.value_counts()[2]\n",
        "fn = len(y_test_pred) - y_true1\n",
        "base = pd.DataFrame(index = ['True 1', 'True2'], data = {'Predicted 1':[y_true1, fn], 'Predicted 2':[0,0]})\n",
        "base"
      ],
      "metadata": {
        "id": "EfOljs2d9vct",
        "outputId": "dff18f53-4839-4117-e2c7-6ed292b2b0e6",
        "colab": {
          "base_uri": "https://localhost:8080/",
          "height": 112
        }
      },
      "execution_count": 163,
      "outputs": [
        {
          "output_type": "execute_result",
          "data": {
            "text/plain": [
              "        Predicted 1  Predicted 2\n",
              "True 1         1290            0\n",
              "True2          1345            0"
            ],
            "text/html": [
              "\n",
              "  <div id=\"df-69a5d50c-08fa-44c1-a97f-2cf341682de6\">\n",
              "    <div class=\"colab-df-container\">\n",
              "      <div>\n",
              "<style scoped>\n",
              "    .dataframe tbody tr th:only-of-type {\n",
              "        vertical-align: middle;\n",
              "    }\n",
              "\n",
              "    .dataframe tbody tr th {\n",
              "        vertical-align: top;\n",
              "    }\n",
              "\n",
              "    .dataframe thead th {\n",
              "        text-align: right;\n",
              "    }\n",
              "</style>\n",
              "<table border=\"1\" class=\"dataframe\">\n",
              "  <thead>\n",
              "    <tr style=\"text-align: right;\">\n",
              "      <th></th>\n",
              "      <th>Predicted 1</th>\n",
              "      <th>Predicted 2</th>\n",
              "    </tr>\n",
              "  </thead>\n",
              "  <tbody>\n",
              "    <tr>\n",
              "      <th>True 1</th>\n",
              "      <td>1290</td>\n",
              "      <td>0</td>\n",
              "    </tr>\n",
              "    <tr>\n",
              "      <th>True2</th>\n",
              "      <td>1345</td>\n",
              "      <td>0</td>\n",
              "    </tr>\n",
              "  </tbody>\n",
              "</table>\n",
              "</div>\n",
              "      <button class=\"colab-df-convert\" onclick=\"convertToInteractive('df-69a5d50c-08fa-44c1-a97f-2cf341682de6')\"\n",
              "              title=\"Convert this dataframe to an interactive table.\"\n",
              "              style=\"display:none;\">\n",
              "        \n",
              "  <svg xmlns=\"http://www.w3.org/2000/svg\" height=\"24px\"viewBox=\"0 0 24 24\"\n",
              "       width=\"24px\">\n",
              "    <path d=\"M0 0h24v24H0V0z\" fill=\"none\"/>\n",
              "    <path d=\"M18.56 5.44l.94 2.06.94-2.06 2.06-.94-2.06-.94-.94-2.06-.94 2.06-2.06.94zm-11 1L8.5 8.5l.94-2.06 2.06-.94-2.06-.94L8.5 2.5l-.94 2.06-2.06.94zm10 10l.94 2.06.94-2.06 2.06-.94-2.06-.94-.94-2.06-.94 2.06-2.06.94z\"/><path d=\"M17.41 7.96l-1.37-1.37c-.4-.4-.92-.59-1.43-.59-.52 0-1.04.2-1.43.59L10.3 9.45l-7.72 7.72c-.78.78-.78 2.05 0 2.83L4 21.41c.39.39.9.59 1.41.59.51 0 1.02-.2 1.41-.59l7.78-7.78 2.81-2.81c.8-.78.8-2.07 0-2.86zM5.41 20L4 18.59l7.72-7.72 1.47 1.35L5.41 20z\"/>\n",
              "  </svg>\n",
              "      </button>\n",
              "      \n",
              "  <style>\n",
              "    .colab-df-container {\n",
              "      display:flex;\n",
              "      flex-wrap:wrap;\n",
              "      gap: 12px;\n",
              "    }\n",
              "\n",
              "    .colab-df-convert {\n",
              "      background-color: #E8F0FE;\n",
              "      border: none;\n",
              "      border-radius: 50%;\n",
              "      cursor: pointer;\n",
              "      display: none;\n",
              "      fill: #1967D2;\n",
              "      height: 32px;\n",
              "      padding: 0 0 0 0;\n",
              "      width: 32px;\n",
              "    }\n",
              "\n",
              "    .colab-df-convert:hover {\n",
              "      background-color: #E2EBFA;\n",
              "      box-shadow: 0px 1px 2px rgba(60, 64, 67, 0.3), 0px 1px 3px 1px rgba(60, 64, 67, 0.15);\n",
              "      fill: #174EA6;\n",
              "    }\n",
              "\n",
              "    [theme=dark] .colab-df-convert {\n",
              "      background-color: #3B4455;\n",
              "      fill: #D2E3FC;\n",
              "    }\n",
              "\n",
              "    [theme=dark] .colab-df-convert:hover {\n",
              "      background-color: #434B5C;\n",
              "      box-shadow: 0px 1px 3px 1px rgba(0, 0, 0, 0.15);\n",
              "      filter: drop-shadow(0px 1px 2px rgba(0, 0, 0, 0.3));\n",
              "      fill: #FFFFFF;\n",
              "    }\n",
              "  </style>\n",
              "\n",
              "      <script>\n",
              "        const buttonEl =\n",
              "          document.querySelector('#df-69a5d50c-08fa-44c1-a97f-2cf341682de6 button.colab-df-convert');\n",
              "        buttonEl.style.display =\n",
              "          google.colab.kernel.accessAllowed ? 'block' : 'none';\n",
              "\n",
              "        async function convertToInteractive(key) {\n",
              "          const element = document.querySelector('#df-69a5d50c-08fa-44c1-a97f-2cf341682de6');\n",
              "          const dataTable =\n",
              "            await google.colab.kernel.invokeFunction('convertToInteractive',\n",
              "                                                     [key], {});\n",
              "          if (!dataTable) return;\n",
              "\n",
              "          const docLinkHtml = 'Like what you see? Visit the ' +\n",
              "            '<a target=\"_blank\" href=https://colab.research.google.com/notebooks/data_table.ipynb>data table notebook</a>'\n",
              "            + ' to learn more about interactive tables.';\n",
              "          element.innerHTML = '';\n",
              "          dataTable['output_type'] = 'display_data';\n",
              "          await google.colab.output.renderOutput(dataTable, element);\n",
              "          const docLink = document.createElement('div');\n",
              "          docLink.innerHTML = docLinkHtml;\n",
              "          element.appendChild(docLink);\n",
              "        }\n",
              "      </script>\n",
              "    </div>\n",
              "  </div>\n",
              "  "
            ]
          },
          "metadata": {},
          "execution_count": 163
        }
      ]
    },
    {
      "cell_type": "code",
      "source": [
        "y_test.value_counts()"
      ],
      "metadata": {
        "id": "ShxvO_se-LhF",
        "outputId": "874204f2-5093-43f2-cd3e-6f3587eb3ffc",
        "colab": {
          "base_uri": "https://localhost:8080/"
        }
      },
      "execution_count": 164,
      "outputs": [
        {
          "output_type": "execute_result",
          "data": {
            "text/plain": [
              "2    1345\n",
              "1    1290\n",
              "Name: winner, dtype: int64"
            ]
          },
          "metadata": {},
          "execution_count": 164
        }
      ]
    },
    {
      "cell_type": "code",
      "source": [
        "from sklearn.metrics import plot_confusion_matrix\n",
        "import matplotlib.pyplot as plt\n",
        "\n",
        "fig, ax = plt.subplots()\n",
        "pcm = plot_confusion_matrix(pipe_xg, X_test, y_test,\n",
        "                            cmap=plt.cm.Blues,\n",
        "                            ax=ax)\n",
        "plt.title(f'Confusion matrix of Logistic Regression, n = {len(y_test)}', fontsize=15)\n",
        "plt.show()"
      ],
      "metadata": {
        "id": "v-z7LNW5-tcV",
        "outputId": "73fa78dd-b681-48a8-8081-f85a4291090c",
        "colab": {
          "base_uri": "https://localhost:8080/",
          "height": 334
        }
      },
      "execution_count": 165,
      "outputs": [
        {
          "output_type": "stream",
          "name": "stderr",
          "text": [
            "/usr/local/lib/python3.7/dist-packages/sklearn/utils/deprecation.py:87: FutureWarning: Function plot_confusion_matrix is deprecated; Function `plot_confusion_matrix` is deprecated in 1.0 and will be removed in 1.2. Use one of the class methods: ConfusionMatrixDisplay.from_predictions or ConfusionMatrixDisplay.from_estimator.\n",
            "  warnings.warn(msg, category=FutureWarning)\n"
          ]
        },
        {
          "output_type": "display_data",
          "data": {
            "text/plain": [
              "<Figure size 432x288 with 2 Axes>"
            ],
            "image/png": "[encoded data removed]"
          },
          "metadata": {
            "needs_background": "light"
          }
        }
      ]
    },
    {
      "cell_type": "markdown",
      "source": [
        "1팀이 이긴다고 예측해서 성공한 횟수 : 972\n",
        "2팀이 이긴다고 예측해서 성공한 횟수 : 1014"
      ],
      "metadata": {
        "id": "Lxm0loYtBjiP"
      }
    },
    {
      "cell_type": "markdown",
      "source": [
        "### "
      ],
      "metadata": {
        "id": "v-_2jRxVIVU3"
      }
    },
    {
      "cell_type": "code",
      "source": [
        "!pip3 install pdpbox"
      ],
      "metadata": {
        "id": "PxEueqzhPfkA",
        "outputId": "833db94d-0837-420b-d10a-ba9272e01bfe",
        "colab": {
          "base_uri": "https://localhost:8080/",
          "height": 788
        }
      },
      "execution_count": 166,
      "outputs": [
        {
          "output_type": "stream",
          "name": "stdout",
          "text": [
            "Looking in indexes: https://pypi.org/simple, https://us-python.pkg.dev/colab-wheels/public/simple/\n",
            "Collecting pdpbox\n",
            "  Downloading PDPbox-0.2.1.tar.gz (34.0 MB)\n",
            "\u001b[K     |████████████████████████████████| 34.0 MB 112.5 MB/s \n",
            "\u001b[?25hRequirement already satisfied: pandas in /usr/local/lib/python3.7/dist-packages (from pdpbox) (1.3.5)\n",
            "Requirement already satisfied: numpy in /usr/local/lib/python3.7/dist-packages (from pdpbox) (1.21.6)\n",
            "Requirement already satisfied: scipy in /usr/local/lib/python3.7/dist-packages (from pdpbox) (1.7.3)\n",
            "Requirement already satisfied: joblib in /usr/local/lib/python3.7/dist-packages (from pdpbox) (1.1.0)\n",
            "Requirement already satisfied: psutil in /usr/local/lib/python3.7/dist-packages (from pdpbox) (5.4.8)\n",
            "Collecting matplotlib==3.1.1\n",
            "  Downloading matplotlib-3.1.1-cp37-cp37m-manylinux1_x86_64.whl (13.1 MB)\n",
            "\u001b[K     |████████████████████████████████| 13.1 MB 30.8 MB/s \n",
            "\u001b[?25hCollecting sklearn\n",
            "  Downloading sklearn-0.0.tar.gz (1.1 kB)\n",
            "Requirement already satisfied: pyparsing!=2.0.4,!=2.1.2,!=2.1.6,>=2.0.1 in /usr/local/lib/python3.7/dist-packages (from matplotlib==3.1.1->pdpbox) (3.0.9)\n",
            "Requirement already satisfied: kiwisolver>=1.0.1 in /usr/local/lib/python3.7/dist-packages (from matplotlib==3.1.1->pdpbox) (1.4.4)\n",
            "Requirement already satisfied: python-dateutil>=2.1 in /usr/local/lib/python3.7/dist-packages (from matplotlib==3.1.1->pdpbox) (2.8.2)\n",
            "Requirement already satisfied: cycler>=0.10 in /usr/local/lib/python3.7/dist-packages (from matplotlib==3.1.1->pdpbox) (0.11.0)\n",
            "Requirement already satisfied: typing-extensions in /usr/local/lib/python3.7/dist-packages (from kiwisolver>=1.0.1->matplotlib==3.1.1->pdpbox) (4.1.1)\n",
            "Requirement already satisfied: six>=1.5 in /usr/local/lib/python3.7/dist-packages (from python-dateutil>=2.1->matplotlib==3.1.1->pdpbox) (1.15.0)\n",
            "Requirement already satisfied: pytz>=2017.3 in /usr/local/lib/python3.7/dist-packages (from pandas->pdpbox) (2022.2.1)\n",
            "Requirement already satisfied: scikit-learn in /usr/local/lib/python3.7/dist-packages (from sklearn->pdpbox) (1.0.2)\n",
            "Requirement already satisfied: threadpoolctl>=2.0.0 in /usr/local/lib/python3.7/dist-packages (from scikit-learn->sklearn->pdpbox) (3.1.0)\n",
            "Building wheels for collected packages: pdpbox, sklearn\n",
            "  Building wheel for pdpbox (setup.py) ... \u001b[?25l\u001b[?25hdone\n",
            "  Created wheel for pdpbox: filename=PDPbox-0.2.1-py3-none-any.whl size=35758224 sha256=c41ce0f002cbe66519c4e7430cf2e14f798d483efec90a5f8cb22cd6c18610c8\n",
            "  Stored in directory: /root/.cache/pip/wheels/f4/d0/1a/b80035625c53131f52906a6fc4dd690d8efd2bf8af6a4015eb\n",
            "  Building wheel for sklearn (setup.py) ... \u001b[?25l\u001b[?25hdone\n",
            "  Created wheel for sklearn: filename=sklearn-0.0-py2.py3-none-any.whl size=1310 sha256=199f6ca81376332e84fcb6bab60ee78598e13fc357047c97139fb7a6655944f3\n",
            "  Stored in directory: /root/.cache/pip/wheels/46/ef/c3/157e41f5ee1372d1be90b09f74f82b10e391eaacca8f22d33e\n",
            "Successfully built pdpbox sklearn\n",
            "Installing collected packages: sklearn, matplotlib, pdpbox\n",
            "  Attempting uninstall: matplotlib\n",
            "    Found existing installation: matplotlib 3.2.2\n",
            "    Uninstalling matplotlib-3.2.2:\n",
            "      Successfully uninstalled matplotlib-3.2.2\n",
            "Successfully installed matplotlib-3.1.1 pdpbox-0.2.1 sklearn-0.0\n"
          ]
        },
        {
          "output_type": "display_data",
          "data": {
            "application/vnd.colab-display-data+json": {
              "pip_warning": {
                "packages": [
                  "matplotlib",
                  "mpl_toolkits"
                ]
              }
            }
          },
          "metadata": {}
        }
      ]
    },
    {
      "cell_type": "code",
      "source": [
        "X_test.columns"
      ],
      "metadata": {
        "id": "zmp89X8oPyTB",
        "outputId": "85ab6f4a-3e84-46e7-b8c3-fea541e56933",
        "colab": {
          "base_uri": "https://localhost:8080/"
        }
      },
      "execution_count": 167,
      "outputs": [
        {
          "output_type": "execute_result",
          "data": {
            "text/plain": [
              "Index(['firstBlood', 'firstTower', 'firstInhibitor', 'firstBaron',\n",
              "       'firstDragon', 'firstRiftHerald', 't1_baronKills', 't1_dragonKills',\n",
              "       't1_riftHeraldKills', 't2_baronKills', 't2_dragonKills',\n",
              "       't2_riftHeraldKills', 'spell_use_1', 'spell_use_2'],\n",
              "      dtype='object')"
            ]
          },
          "metadata": {},
          "execution_count": 167
        }
      ]
    },
    {
      "cell_type": "code",
      "source": [
        "from pdpbox.pdp import pdp_interact, pdp_interact_plot\n",
        "from pdpbox.pdp import pdp_isolate, pdp_plot\n",
        "\n",
        "\n",
        "\n",
        "target_features = [\"firstDragon\", \"firstRiftHerald\"]\n",
        "\n",
        "interaction = pdp_interact(\n",
        "    model=pipe_xg,\n",
        "    dataset=X_test,\n",
        "    model_features=X_test.columns,\n",
        "    features=target_features,\n",
        ")"
      ],
      "metadata": {
        "id": "FMFgZ85aPLQt"
      },
      "execution_count": 169,
      "outputs": []
    },
    {
      "cell_type": "code",
      "source": [
        "pdp_interact_plot(interaction, plot_type=\"grid\", feature_names=target_features)"
      ],
      "metadata": {
        "id": "uvdi7CW-QONx",
        "outputId": "c037392f-3089-442a-c81e-15067a1c2ecd",
        "colab": {
          "base_uri": "https://localhost:8080/",
          "height": 691
        }
      },
      "execution_count": 170,
      "outputs": [
        {
          "output_type": "execute_result",
          "data": {
            "text/plain": [
              "(<Figure size 540x684 with 3 Axes>,\n",
              " {'title_ax': <matplotlib.axes._subplots.AxesSubplot at 0x7efec8273690>,\n",
              "  'pdp_inter_ax': <matplotlib.axes._subplots.AxesSubplot at 0x7efec4863f50>})"
            ]
          },
          "metadata": {},
          "execution_count": 170
        },
        {
          "output_type": "stream",
          "name": "stderr",
          "text": [
            "WARNING:matplotlib.font_manager:findfont: Font family ['Arial'] not found. Falling back to DejaVu Sans.\n",
            "WARNING:matplotlib.font_manager:findfont: Font family ['Arial'] not found. Falling back to DejaVu Sans.\n",
            "WARNING:matplotlib.font_manager:findfont: Font family ['Arial'] not found. Falling back to DejaVu Sans.\n",
            "WARNING:matplotlib.font_manager:findfont: Font family ['Arial'] not found. Falling back to DejaVu Sans.\n"
          ]
        },
        {
          "output_type": "display_data",
          "data": {
            "text/plain": [
              "<Figure size 540x684 with 3 Axes>"
            ],
            "image/png": "[encoded data removed]"
          },
          "metadata": {
            "needs_background": "light"
          }
        }
      ]
    }
  ]
}